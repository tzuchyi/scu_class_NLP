{
 "cells": [
  {
   "cell_type": "code",
   "execution_count": 1,
   "metadata": {},
   "outputs": [],
   "source": [
    "import requests\n",
    "from bs4 import BeautifulSoup\n",
    "import selenium\n",
    "from selenium import webdriver\n",
    "from selenium.common.exceptions import NoSuchElementException\n",
    "from selenium.webdriver.common.keys import Keys\n",
    "import time\n",
    "from bs4 import BeautifulSoup\n",
    "from selenium import webdriver\n",
    "from selenium.webdriver.support.ui import WebDriverWait\n",
    "from selenium.webdriver.common.by import By\n",
    "from selenium.webdriver.support import expected_conditions as ec\n",
    "import pandas as pd"
   ]
  },
  {
   "cell_type": "code",
   "execution_count": 38,
   "metadata": {},
   "outputs": [],
   "source": [
    "browser = webdriver.Firefox()\n",
    "browser.get(\"https://www.agoda.com/zh-tw/search?city=4951&languageId=20&userId=fbea6c98-bc10-4d2c-a45f-38aa37091ae0&sessionId=qitb0btsqhcsupclhkn514ix&pageTypeId=103&origin=TW&locale=zh-TW&cid=1826371&tag=ab92ca0a-b803-8f27-c188-fe307db02490&gclid=CjwKCAiAuqHwBRAQEiwAD-zr3V4Zf_9fHqQ_QPGRK9OaQp_BrwbhqPweDC-chMr3w665TY8GjFYubhoCErMQAvD_BwE&aid=82361&currencyCode=TWD&htmlLanguage=zh-tw&cultureInfoName=zh-TW&ckuid=fbea6c98-bc10-4d2c-a45f-38aa37091ae0&prid=0&checkIn=2020-01-07&checkOut=2020-01-08&rooms=1&adults=1&children=0&priceCur=TWD&los=1&textToSearch=%E5%8F%B0%E5%8C%97%E5%B8%82&selectedProperty=0&travellerType=0&familyMode=off&ro=C00000&productType=1&hotelStarRating=5&sort=agodaRecommended\")\n",
    "#while len(soup.select(\".btn pagination2__next\"))>0:\n",
    "browser.execute_script(\"window.scrollTo(0,336)\")\n",
    "browser.execute_script(\"window.scrollTo(0,354.6666564941406)\")\n",
    "browser.execute_script(\"window.scrollTo(0,469.3333435058594)\")\n",
    "browser.execute_script(\"window.scrollTo(0,696.6666870117188)\")\n",
    "browser.execute_script(\"window.scrollTo(0,813.3333129882812)\")\n",
    "browser.execute_script(\"window.scrollTo(0,928.6666870117188)\")\n",
    "browser.execute_script(\"window.scrollTo(0,1046.6666259765625)\")\n",
    "browser.execute_script(\"window.scrollTo(0,1160.6666259765625)\")\n",
    "browser.execute_script(\"window.scrollTo(0,1277.3333740234375)\")\n",
    "browser.execute_script(\"window.scrollTo(0,1396.6666259765625)\")\n",
    "browser.execute_script(\"window.scrollTo(0,1508.6666259765625)\")\n",
    "browser.execute_script(\"window.scrollTo(0,1814)\")\n",
    "browser.execute_script(\"window.scrollTo(0,1858)\")\n",
    "browser.execute_script(\"window.scrollTo(0,2134.666748046875)\")\n",
    "browser.execute_script(\"window.scrollTo(0,2204.666748046875)\")\n",
    "browser.execute_script(\"window.scrollTo(0,2440.666748046875)\")\n",
    "browser.execute_script(\"window.scrollTo(0,2553.333251953125)\")\n",
    "browser.execute_script(\"window.scrollTo(0,2985.333251953125)\")\n",
    "browser.execute_script(\"window.scrollTo(0,3047.333251953125)\")\n",
    "browser.execute_script(\"window.scrollTo(0,3364)\")\n",
    "browser.execute_script(\"window.scrollTo(0,3667.333251953125)\")\n",
    "browser.execute_script(\"window.scrollTo(0,3831.333251953125)\")\n",
    "browser.execute_script(\"window.scrollTo(0,4114.66650390625)\")\n",
    "browser.execute_script(\"window.scrollTo(0,4524)\")\n",
    "browser.execute_script(\"window.scrollTo(0,4576.66650390625)\")\n",
    "browser.execute_script(\"window.scrollTo(0,5190.66650390625)\")\n",
    "browser.execute_script(\"window.scrollTo(0,5340.66650390625)\")\n",
    "browser.execute_script(\"window.scrollTo(0,5727.33349609375)\")\n",
    "browser.execute_script(\"window.scrollTo(0,5959.33349609375)\")\n",
    "browser.execute_script(\"window.scrollTo(0,6382)\")\n",
    "browser.execute_script(\"window.scrollTo(0,6844)\")\n",
    "browser.execute_script(\"window.scrollTo(0,6981.33349609375)\")\n",
    "browser.execute_script(\"window.scrollTo(0,7315.33349609375)\")\n",
    "browser.execute_script(\"window.scrollTo(0,7659.33349609375)\")\n",
    "browser.execute_script(\"window.scrollTo(0,7804)\")\n",
    "browser.execute_script(\"window.scrollTo(0,8028.66650390625)\")\n",
    "browser.execute_script(\"window.scrollTo(0,8426)\")\n",
    "browser.execute_script(\"window.scrollTo(0,8834.6669921875)\")\n",
    "browser.execute_script(\"window.scrollTo(0,9060)\")\n",
    "browser.execute_script(\"window.scrollTo(0,9367.3330078125)\")\n",
    "browser.execute_script(\"window.scrollTo(0,9712.6669921875)\")\n",
    "browser.execute_script(\"window.scrollTo(0,10230.6669921875)\")\n",
    "browser.execute_script(\"window.scrollTo(0,10855.3330078125)\")\n",
    "browser.execute_script(\"window.scrollTo(0,11832)\")\n",
    "browser.execute_script(\"window.scrollTo(0,11926.6669921875)\")\n",
    "browser.execute_script(\"window.scrollTo(0,12241.3330078125)\")\n",
    "browser.execute_script(\"window.scrollTo(0,12746)\")\n",
    "browser.execute_script(\"window.scrollTo(0,12886.6669921875)\")\n",
    "browser.execute_script(\"window.scrollTo(0,13180)\")\n",
    "browser.execute_script(\"window.scrollTo(0,13558.6669921875)\")\n",
    "browser.execute_script(\"window.scrollTo(0,13577.3330078125)\")\n",
    "browser.execute_script(\"window.scrollTo(0,13970.6669921875)\")\n",
    "browser.execute_script(\"window.scrollTo(0,14500)\")\n",
    "soup = BeautifulSoup(browser.page_source)\n",
    "http=[]\n",
    "for ele in soup.select(\".PropertyCardItem.ssr-search-result a\"):\n",
    "    http.append(\"https://www.agoda.com\"+ele.get(\"href\"))\n",
    "browser.close()\n",
    "comment=[]\n",
    "score=[]\n",
    "for i in http:\n",
    "    url=i\n",
    "    browser = webdriver.Firefox()\n",
    "    browser.get(url)\n",
    "    browser.execute_script(\"window.scrollTo(0, document.body.scrollHeight)\")\n",
    "    time.sleep(5)\n",
    "    if browser.find_element_by_css_selector(\"span.Searchbox__searchButton__text\"):\n",
    "        browser.find_element_by_css_selector(\"span.Searchbox__searchButton__text\").click()\n",
    "        soup = BeautifulSoup(browser.page_source)\n",
    "\n",
    "        for ele in soup.select(\".Review-comment\"):\n",
    "            for ele1 in ele.select(\".Review-comment-leftScore\"):\n",
    "\n",
    "                for ele2 in ele.select(\".Review-comment-bodyText\"):\n",
    "                    if len(ele1.text)*len(ele2.text)!=0:\n",
    "\n",
    "                        score.append(ele1.text)\n",
    "                        comment.append(ele2.text)\n",
    "\n",
    "    browser.close()"
   ]
  },
  {
   "cell_type": "code",
   "execution_count": 114,
   "metadata": {},
   "outputs": [
    {
     "name": "stdout",
     "output_type": "stream",
     "text": [
      "11\n",
      "11\n"
     ]
    }
   ],
   "source": [
    "print(len(score))\n",
    "print(len(comment))"
   ]
  },
  {
   "cell_type": "code",
   "execution_count": 107,
   "metadata": {},
   "outputs": [],
   "source": [
    "dataframe= pd.DataFrame(comment,columns=[\"comment\"])\n",
    "dataframe[\"score\"]=score\n",
    "dataframe.to_csv('v4.csv')"
   ]
  },
  {
   "cell_type": "code",
   "execution_count": 51,
   "metadata": {},
   "outputs": [
    {
     "name": "stdout",
     "output_type": "stream",
     "text": [
      "<selenium.webdriver.firefox.webelement.FirefoxWebElement (session=\"a1a79014-5eb6-475d-9742-bf27d58c9f20\", element=\"32a767f8-6511-4343-afa5-62d77e7fad78\")>\n"
     ]
    }
   ],
   "source": [
    "browser = webdriver.Firefox()\n",
    "\n",
    "url = \"https://www.agoda.com/zh-tw/caesar-park-hotel-banqiao/hotel/taipei-tw.html?checkin=2020-01-07&los=1&adults=1&rooms=1&ro=C00000&cid=1826371&tag=ab92ca0a-b803-8f27-c188-fe307db02490&searchrequestid=25cdb689-15fa-4eca-8e04-201e1404309b&travellerType=0&tspTypes=8,1,16,15\"\n",
    "\n",
    "browser.get(url)\n",
    "browser.execute_script(\"window.scrollTo(0, document.body.scrollHeight)\")\n",
    "time.sleep(5)\n",
    "print(browser.find_element_by_css_selector(\"span.Searchbox__searchButton__text\"))\n",
    "browser.find_element_by_css_selector(\"span.Searchbox__searchButton__text\").click()\n",
    "soup = BeautifulSoup(browser.page_source)\n",
    "score=[]\n",
    "comment=[]\n",
    "for ele in soup.select(\".Review-comment\"):\n",
    "    for ele1 in ele.select(\".Review-comment-leftScore\"):\n",
    "        score.append(ele1.text)\n",
    "    for ele2 in ele.select(\".Review-comment-bodyText\"):\n",
    "        comment.append(ele2.text)\n",
    "\n",
    "browser.close()"
   ]
  },
  {
   "cell_type": "code",
   "execution_count": 29,
   "metadata": {},
   "outputs": [
    {
     "data": {
      "text/plain": [
       "['8.4',\n",
       " '9.2',\n",
       " '10.0',\n",
       " '3.6',\n",
       " '10.0',\n",
       " '8.0',\n",
       " '9.2',\n",
       " '9.6',\n",
       " '10.0',\n",
       " '9.6',\n",
       " '7.2',\n",
       " '9.6',\n",
       " '8.8',\n",
       " '8.8',\n",
       " '9.6',\n",
       " '5.2',\n",
       " '8.8',\n",
       " '9.2',\n",
       " '8.4',\n",
       " '10.0']"
      ]
     },
     "execution_count": 29,
     "metadata": {},
     "output_type": "execute_result"
    }
   ],
   "source": [
    "score"
   ]
  },
  {
   "cell_type": "code",
   "execution_count": 30,
   "metadata": {},
   "outputs": [
    {
     "data": {
      "text/plain": [
       "['缺點：雖然是新飯店，但或許是頂樓泳池的泳客很多，電梯內地板常常有水漬，走廊的地毯也略有潮濕氣味。頂樓和大廳酒吧於晚上九點半就結束營業，以酒吧而言，休息時間有點太早。\\n優點：飯店設施、餐飲都不錯，附近商場、超商林立，方便，整體來說，這間飯店的性價比算高。',\n",
       " '飯店有游泳池很棒\\n環境很讚 住宿優質 很棒的住宿',\n",
       " '酒店位置優越，台鐵捷運高鐵就在對面，出入機場或者外出近郊景點也非常便捷。而且四周也是百貨公司，手信店，高鐵站2樓又有snoopy center, 遇著落雨不便出遠門就可以帶小朋友玩一整天。\\n房間非常新淨，畢竟2018年才開業，不過agoda表示房間約有40平方米，其實有一半空間也是厠所浴室，加上一條從門口走入睡房的長走廊，實際上睡房空間不算大，雖然足夠平放2個大行李箱，但空間真的不算大，這點要留意。',\n",
       " '浴缸的排水完全是虛設，完全不會排水，水全部流到外面，住到會淹水的飯店，還是五星級，覺得錢花的實在太不值得了！\\n泡完澡還要人工排水實在太可笑了！\\n感覺超級差',\n",
       " '就在板橋站對面， 非常好的體驗。\\n價錢優越， 非常整潔',\n",
       " 'CP值很高!',\n",
       " '很多地方都很滿意，唯獨餐廳實在不是很',\n",
       " '同太太第一次入住，一共住了三晚，原先只抱著一般心情入住，但由進入酒店開始就令我倆夫婦有驚喜感覺。\\n站於門外酒店職員遠處見到我們即上前替我拉行理，並帶引我們到服務台check in, 男職員亞Max超貼心嘅安排及服務都要值得一讚，除了Max之外，我留意到服務台其他職員都笑容滿面，令客人有超五星級酒店嘅感覺。\\n酒店設施好新，房間設備齊全，每天員工清潔房間都一絲不苟，亦要一讚。\\n酒店交通方便，板橋站出了地面，對面馬路已是酒店，非常便利。臺北車站有機捷板南線BL前往板橋站，亦可選擇台鐵搭一個站到板橋站，而且板橋站地面有多條巴士線，四通八達，非常方便，聽聞桃園機場亦有機場巴士直到板橋站，下次要一試，酒店附近有很多食市，如牛角等等！\\n總括而言，板橋凱撒大飯店交通方便，遇到嘅員工有善，房間非常齊潔，真五星酒店，值得推介，下次到臺北我一定會再次入住！',\n",
       " '房間空間夠大，洗澡水量也充足，又乾淨，泳池乾淨又漂亮，以五星飯店來說價格也非常親民，唯獨兒童遊戲室空間較小，比較可惜，房間隔音非常好，床也很舒服。交通非常方便，距離車站、百貨都是走路約十分鐘可達。',\n",
       " '馬路對邊就是三鐵共構的板橋車站 附近商圈林集非常便利 飯店新穎乾淨 飯店設施完善 人員服務也很好👍',\n",
       " '飯店空間寬敞舒適，服務人員態度親切是這次唯二滿意的地方，其他表現覺得實在未達標準。或許是假日入住，空間規劃欠佳，四？五部電梯不敷使用。早餐的動線很亂，服務人員看起來嚴肅匆忙，餐具、食物沒了卻都無法即時補上，咖啡機狀況連連，讓我和多位等待的外籍旅客面面相覻，無奈苦笑，看過去入住旅客也有提出類似反應，似乎一直無法解決這個問題！這次曾向櫃檯商借開瓶器，飯店人員請我們在mini bar找找，2個人輪番都遍尋不著後，才請人送過來，如果開瓶器是每個房間的備品，那麼客房準備的sop也很有問題，軟體部分真的很不及格。',\n",
       " '1、服務人員十分專業，親切友善。\\n2、地下室內平面停車場，車位多，環境明亮，車格大，出場需先至1樓櫃台拿磁扣消磁，雖較不便但安全管理佳\\n3、房間寬敞舒適，床和枕都很好睡，住三天都打掃的很乾淨。\\n4、冰箱冰滿了需要收費的飲料，有點佔空間。\\n5、淋浴間的熱水水龍頭超級燙，建議要加警示圖案或標語。\\n6、Check in時就刷卡凍結了$6000的保証金，雖然不是實際刷卡支出，人員也有說明是為了之後扣抵館內消費，但觀感不是很好，讓人有一種怕你消費落跑的感覺，不曉得是不是國外旅客多風俗民情不同，但住過許多飯店這是我第一次遇到，還好入住三天覺得一切都很好，才覺得比較釋懷。\\n\\n整體來說是很不錯的飯店，質感很好，如果預算上夠的話十分值得推薦，我們帶小孩住了三天，全家都覺得舒適開心，下次有機會回板橋凱撒也會是我們的首選，謝謝全體飯店人員的用心服務',\n",
       " '預定此飯店作為結婚化妝的基地，從飯店房間樓層直達停車場的電梯只有一台，沒有辦法直接從其他樓層直接到停車場真的是有點不方便，會需要是先到1樓去換停車場專用電梯。\\n\\n因為化妝的親友比較多，當下跟櫃檯詢問是否可以多提供兩張一般椅子的時候，當下是先被前台的櫃檯人員拒絕，她說除非是在飯店宴客的新人，否則不外借。\\n\\n當然最後一位帶有香港口音我猜應該是主管人員，後續有回電跟我確認一下需求後還是有幫我送椅子上來。只是當下直接被拒絕的時候有點傻眼，我也不是拿來做其他用途。\\n\\n除此之外房間很乾淨，設施很新，衛浴設備空間算是非常大的，其他服務人員都是有禮貌的，除了美中不足的插曲之外其實是很推薦大家來住的！',\n",
       " '預定此飯店作為結婚化妝的基地，從飯店前往停車場的電梯只有一台，沒有辦法直接從其他樓層直達停車場真的是有點不方便，會需要是先到1樓去換停車場專用電梯。\\n\\n因為化妝的親友比較多，當下跟櫃檯詢問是否可以多提供兩張一般椅子的時候，當下是先被前台的櫃檯人員拒絕，說除非是在飯店宴客的新人，否則不外借。\\n\\n當然最後一位帶有香港口音我猜應該是主管人員，後續有回電跟我確認一下需求後還是有幫我送椅子上來。只是當下直接被拒絕的時候有點傻眼，我也不是拿來做其他用途。\\n\\n除此之外房間很乾淨，設施很新，衛浴設備空間算是非常大的，其他服務人員都是有禮貌的，除了美中不足的插曲之外其實是很推薦大家來住的！',\n",
       " '星空酒吧只開到晚上10:00，很可惜太早關門了',\n",
       " '花了許多錢在硬體設備上面， 但卻沒有把人物立花在維持清潔以及維持服務人員素養上面， 雖說飯店有針對服務狀況不好的部分道歉， 但完全是官方文章 沒有任何的誠意跟改善的作為， 仔細一看這些狀況在一年前就有了，作為開幕兩年的飯店， 清潔狀況服務狀況不佳維持超過1年， 完全不應該評為五星飯店， 我認為他只值兩顆星',\n",
       " '1. 押金收了1萬台幣，快跟我的住宿總額差不多......\\n\\n2. 一開始在mini bar發現付費巧克力被吃過，後來跟飯店反應，員工態度差但總經理態度超級有禮（果然是經理👍🏻）跟我們道歉疏失，還附上水果致歉\\n\\n3. 第1、2天入住時感受到身上有1-2顆蟲蟲咬，之後換不同人打掃房間，就沒有出現蟲蟲咬，應該是打掃人員的認真程度決定房間整潔度。\\n\\n\\n飯店裝潢和房間設計整體都超級舒服，泳池也好拍照，基本上上面3點改善後，絕對是個完美飯店。',\n",
       " '擁有無邊際泳池的高級旅館，可惜一進房間發現茶壺是破損的且還有明顯污漬在壺蓋上，可以再加油',\n",
       " '房間空間大又整潔,露天泳池很美...性價比蠻高的飯店,有機會一定再去住',\n",
       " '一行三人住了3天, 我們訂了三床房,房間很大,\\n服務很好, 出入酒店職員也會親切問侯 或者 點頭微笑, 感覺貼心\\n飯店很新, 大地色系很感覺舒服, 天台無邊際泳池超美, 拍照一流!\\n房間很大, 所有沐浴品 及 個人護理用品也不吝嗇全部都給得很足~\\n淋浴品是用法國品牌的, 很不錯!電動馬桶也很好用,\\n清潔做得很足很乾淨, 地點是在板橋站2號出口一出過一條馬路就能到達飯店,\\n地點是超棒的!! 我們沒包早餐, 所以不知道味道如何!\\n這個價格軟件硬件上無可挑剔~有機會一定會再住!\\n我要遠離北車 及 西門町這些熱門酒店區了, 那些都太殘太舊太少..而且性價比不高!\\n謝謝給我們一個開心假期~']"
      ]
     },
     "execution_count": 30,
     "metadata": {},
     "output_type": "execute_result"
    }
   ],
   "source": [
    "comment"
   ]
  },
  {
   "cell_type": "code",
   "execution_count": 79,
   "metadata": {},
   "outputs": [],
   "source": [
    "browser = webdriver.Firefox()\n",
    "browser.get(\"https://www.agoda.com/zh-tw/search?asq=4oI%2FMUcWtaTA3fKh8%2F12VysLs8HBOYxs%2BeCgsfLhorP25knQ7HTBd%2BBE9%2FGLJ6NHGB%2ByTF9OmmDka1dGYCPa1hH1kvc4xwsMa4ttr5ut25bEwolxfBD2NlMifNG8MKZBMr84aap2d%2FV0Gn7FCq%2BWi%2B2jGYc3LKlraczma9Wb0JcYBXu8GDZFj2QNwZe4O%2FeA1f4tMtCkUOcG6AQSFmkuYird7i4EBfSKml3pHtwE9Mc%3D&city=12080&cid=1826371&tick=637132934361&languageId=20&userId=ab3a16fa-65bc-47a2-9cdd-41d1dda2337e&sessionId=wk4xgbrijujc53b3xmjf5uyt&pageTypeId=103&origin=TW&locale=zh-TW&tag=ab92ca0a-b803-8f27-c188-fe307db02490&gclid=CjwKCAiAuqHwBRAQEiwAD-zr3V4Zf_9fHqQ_QPGRK9OaQp_BrwbhqPweDC-chMr3w665TY8GjFYubhoCErMQAvD_BwE&aid=82361&currencyCode=TWD&htmlLanguage=zh-tw&cultureInfoName=zh-TW&ckuid=ab3a16fa-65bc-47a2-9cdd-41d1dda2337e&prid=0&checkIn=2020-01-07&checkOut=2020-01-08&rooms=1&adults=1&children=0&priceCur=TWD&los=1&textToSearch=%E5%8F%B0%E4%B8%AD%E5%B8%82&travellerType=0&familyMode=off&ro=C00000&productType=1&hotelStarRating=5&sort=agodaRecommended\")\n",
    "http=[]    \n",
    "browser.execute_script(\"window.scrollTo(0,1506)\")\n",
    "browser.execute_script(\"window.scrollTo(0,3185.39990234375)\")\n",
    "browser.execute_script(\"window.scrollTo(0,3873)\")\n",
    "browser.execute_script(\"window.scrollTo(0,4822.2001953125)\")\n",
    "browser.execute_script(\"window.scrollTo(0,6189)\")\n",
    "browser.execute_script(\"window.scrollTo(0,7017.60009765625)\")\n",
    "browser.execute_script(\"window.scrollTo(0,7994.39990234375)\")\n",
    "browser.execute_script(\"window.scrollTo(0,8772.599609375)\")\n",
    "browser.execute_script(\"window.scrollTo(0,9550.2001953125)\")\n",
    "browser.execute_script(\"window.scrollTo(0,10392)\")\n",
    "browser.execute_script(\"window.scrollTo(0,12255)\")\n",
    "browser.execute_script(\"window.scrollTo(0,13140.599609375)\")\n",
    "browser.execute_script(\"window.scrollTo(0,14139.599609375)\")\n",
    "browser.execute_script(\"window.scrollTo(0,15027.599609375)\")\n",
    "browser.execute_script(\"window.scrollTo(0,16029.599609375)\")\n",
    "browser.execute_script(\"window.scrollTo(0,17095.80078125)\")\n",
    "browser.execute_script(\"window.scrollTo(0,18708)\")\n",
    "browser.execute_script(\"window.scrollTo(0,20350.19921875)\")\n",
    "browser.execute_script(\"window.scrollTo(0,21402)\")\n",
    "browser.execute_script(\"window.scrollTo(0,22849.80078125)\")\n",
    "browser.execute_script(\"window.scrollTo(0,24066)\")\n",
    "browser.execute_script(\"window.scrollTo(0,25578.599609375)\")\n",
    "browser.execute_script(\"window.scrollTo(0,27189.599609375)\")\n",
    "browser.execute_script(\"window.scrollTo(0,27613.80078125)\")\n",
    "browser.execute_script(\"window.scrollTo(0,28394.400390625)\")\n",
    "browser.execute_script(\"window.scrollTo(0,29979.599609375)\")\n",
    "browser.execute_script(\"window.scrollTo(0,31002.599609375)\")\n",
    "browser.execute_script(\"window.scrollTo(0,31837.19921875)\")\n",
    "browser.execute_script(\"window.scrollTo(0,31688.400390625)\")\n",
    "browser.execute_script(\"window.scrollTo(0,31665.599609375)\")\n",
    "browser.execute_script(\"window.scrollTo(0, document.body.scrollHeight)\")\n",
    "time.sleep(2)\n",
    "soup = BeautifulSoup(browser.page_source)\n",
    "for ele in soup.select(\".PropertyCardItem.ssr-search-result a\"):    \n",
    "    http.append(\"https://www.agoda.com\"+ele.get(\"href\"))\n",
    "browser.close()\n",
    "comment=[]\n",
    "score=[]\n",
    "for i in http:\n",
    "    url=i\n",
    "    browser = webdriver.Firefox()\n",
    "    browser.get(url)\n",
    "    browser.execute_script(\"window.scrollTo(0, document.body.scrollHeight)\")\n",
    "    time.sleep(5)\n",
    "    if len(browser.find_element_by_css_selector(\"span.Searchbox__searchButton__text\").text)!=0:\n",
    "       \n",
    "       \n",
    "        browser.execute_script(\"window.scrollTo(0, document.body.scrollHeight)\")\n",
    "        time.sleep(1)\n",
    "        browser.find_element_by_css_selector(\"span.Searchbox__searchButton__text\").click()\n",
    "        soup = BeautifulSoup(browser.page_source)\n",
    "\n",
    "        for ele in soup.select(\".Review-comment\"):\n",
    "            for ele1 in ele.select(\".Review-comment-leftScore\"):\n",
    "\n",
    "                for ele2 in ele.select(\".Review-comment-bodyText\"):\n",
    "                    if len(ele1.text)*len(ele2.text)!=0:\n",
    "\n",
    "                        score.append(ele1.text)\n",
    "                        comment.append(ele2.text)\n",
    "\n",
    "    browser.close()\n"
   ]
  },
  {
   "cell_type": "code",
   "execution_count": 77,
   "metadata": {},
   "outputs": [
    {
     "ename": "KeyboardInterrupt",
     "evalue": "",
     "output_type": "error",
     "traceback": [
      "\u001b[1;31m---------------------------------------------------------------------------\u001b[0m",
      "\u001b[1;31mTypeError\u001b[0m                                 Traceback (most recent call last)",
      "\u001b[1;32mC:\\ProgramData\\Anaconda3\\lib\\site-packages\\urllib3\\connectionpool.py\u001b[0m in \u001b[0;36m_make_request\u001b[1;34m(self, conn, method, url, timeout, chunked, **httplib_request_kw)\u001b[0m\n\u001b[0;32m    376\u001b[0m             \u001b[1;32mtry\u001b[0m\u001b[1;33m:\u001b[0m  \u001b[1;31m# Python 2.7, use buffering of HTTP responses\u001b[0m\u001b[1;33m\u001b[0m\u001b[1;33m\u001b[0m\u001b[0m\n\u001b[1;32m--> 377\u001b[1;33m                 \u001b[0mhttplib_response\u001b[0m \u001b[1;33m=\u001b[0m \u001b[0mconn\u001b[0m\u001b[1;33m.\u001b[0m\u001b[0mgetresponse\u001b[0m\u001b[1;33m(\u001b[0m\u001b[0mbuffering\u001b[0m\u001b[1;33m=\u001b[0m\u001b[1;32mTrue\u001b[0m\u001b[1;33m)\u001b[0m\u001b[1;33m\u001b[0m\u001b[1;33m\u001b[0m\u001b[0m\n\u001b[0m\u001b[0;32m    378\u001b[0m             \u001b[1;32mexcept\u001b[0m \u001b[0mTypeError\u001b[0m\u001b[1;33m:\u001b[0m  \u001b[1;31m# Python 3\u001b[0m\u001b[1;33m\u001b[0m\u001b[1;33m\u001b[0m\u001b[0m\n",
      "\u001b[1;31mTypeError\u001b[0m: getresponse() got an unexpected keyword argument 'buffering'",
      "\nDuring handling of the above exception, another exception occurred:\n",
      "\u001b[1;31mKeyboardInterrupt\u001b[0m                         Traceback (most recent call last)",
      "\u001b[1;32m<ipython-input-77-0857a4601d83>\u001b[0m in \u001b[0;36m<module>\u001b[1;34m\u001b[0m\n\u001b[0;32m      1\u001b[0m \u001b[0mbrowser\u001b[0m \u001b[1;33m=\u001b[0m \u001b[0mwebdriver\u001b[0m\u001b[1;33m.\u001b[0m\u001b[0mFirefox\u001b[0m\u001b[1;33m(\u001b[0m\u001b[1;33m)\u001b[0m\u001b[1;33m\u001b[0m\u001b[1;33m\u001b[0m\u001b[0m\n\u001b[1;32m----> 2\u001b[1;33m \u001b[0mbrowser\u001b[0m\u001b[1;33m.\u001b[0m\u001b[0mget\u001b[0m\u001b[1;33m(\u001b[0m\u001b[1;34m\"https://www.agoda.com/zh-tw/search?city=4951&languageId=20&userId=fbea6c98-bc10-4d2c-a45f-38aa37091ae0&sessionId=lqi2vzzqajjvovbklngumdgs&pageTypeId=103&origin=TW&locale=zh-TW&cid=1826371&tag=ab92ca0a-b803-8f27-c188-fe307db02490&gclid=CjwKCAiAuqHwBRAQEiwAD-zr3V4Zf_9fHqQ_QPGRK9OaQp_BrwbhqPweDC-chMr3w665TY8GjFYubhoCErMQAvD_BwE&aid=82361&currencyCode=TWD&htmlLanguage=zh-tw&cultureInfoName=zh-TW&ckuid=fbea6c98-bc10-4d2c-a45f-38aa37091ae0&prid=0&checkIn=2020-01-07&checkOut=2020-01-08&rooms=1&adults=1&children=0&priceCur=TWD&los=1&textToSearch=%E5%8F%B0%E5%8C%97%E5%B8%82&selectedProperty=0&travellerType=0&familyMode=off&ro=C00000&productType=1&hotelStarRating=4,3&sort=agodaRecommended\"\u001b[0m\u001b[1;33m)\u001b[0m\u001b[1;33m\u001b[0m\u001b[1;33m\u001b[0m\u001b[0m\n\u001b[0m\u001b[0;32m      3\u001b[0m \u001b[0mhttp\u001b[0m\u001b[1;33m=\u001b[0m\u001b[1;33m[\u001b[0m\u001b[1;33m]\u001b[0m\u001b[1;33m\u001b[0m\u001b[1;33m\u001b[0m\u001b[0m\n\u001b[0;32m      4\u001b[0m \u001b[0mbrowser\u001b[0m\u001b[1;33m.\u001b[0m\u001b[0mexecute_script\u001b[0m\u001b[1;33m(\u001b[0m\u001b[1;34m\"window.scrollTo(0,1506)\"\u001b[0m\u001b[1;33m)\u001b[0m\u001b[1;33m\u001b[0m\u001b[1;33m\u001b[0m\u001b[0m\n\u001b[0;32m      5\u001b[0m \u001b[0mbrowser\u001b[0m\u001b[1;33m.\u001b[0m\u001b[0mexecute_script\u001b[0m\u001b[1;33m(\u001b[0m\u001b[1;34m\"window.scrollTo(0,3185.39990234375)\"\u001b[0m\u001b[1;33m)\u001b[0m\u001b[1;33m\u001b[0m\u001b[1;33m\u001b[0m\u001b[0m\n",
      "\u001b[1;32mC:\\ProgramData\\Anaconda3\\lib\\site-packages\\selenium\\webdriver\\remote\\webdriver.py\u001b[0m in \u001b[0;36mget\u001b[1;34m(self, url)\u001b[0m\n\u001b[0;32m    331\u001b[0m         \u001b[0mLoads\u001b[0m \u001b[0ma\u001b[0m \u001b[0mweb\u001b[0m \u001b[0mpage\u001b[0m \u001b[1;32min\u001b[0m \u001b[0mthe\u001b[0m \u001b[0mcurrent\u001b[0m \u001b[0mbrowser\u001b[0m \u001b[0msession\u001b[0m\u001b[1;33m.\u001b[0m\u001b[1;33m\u001b[0m\u001b[1;33m\u001b[0m\u001b[0m\n\u001b[0;32m    332\u001b[0m         \"\"\"\n\u001b[1;32m--> 333\u001b[1;33m         \u001b[0mself\u001b[0m\u001b[1;33m.\u001b[0m\u001b[0mexecute\u001b[0m\u001b[1;33m(\u001b[0m\u001b[0mCommand\u001b[0m\u001b[1;33m.\u001b[0m\u001b[0mGET\u001b[0m\u001b[1;33m,\u001b[0m \u001b[1;33m{\u001b[0m\u001b[1;34m'url'\u001b[0m\u001b[1;33m:\u001b[0m \u001b[0murl\u001b[0m\u001b[1;33m}\u001b[0m\u001b[1;33m)\u001b[0m\u001b[1;33m\u001b[0m\u001b[1;33m\u001b[0m\u001b[0m\n\u001b[0m\u001b[0;32m    334\u001b[0m \u001b[1;33m\u001b[0m\u001b[0m\n\u001b[0;32m    335\u001b[0m     \u001b[1;33m@\u001b[0m\u001b[0mproperty\u001b[0m\u001b[1;33m\u001b[0m\u001b[1;33m\u001b[0m\u001b[0m\n",
      "\u001b[1;32mC:\\ProgramData\\Anaconda3\\lib\\site-packages\\selenium\\webdriver\\remote\\webdriver.py\u001b[0m in \u001b[0;36mexecute\u001b[1;34m(self, driver_command, params)\u001b[0m\n\u001b[0;32m    317\u001b[0m \u001b[1;33m\u001b[0m\u001b[0m\n\u001b[0;32m    318\u001b[0m         \u001b[0mparams\u001b[0m \u001b[1;33m=\u001b[0m \u001b[0mself\u001b[0m\u001b[1;33m.\u001b[0m\u001b[0m_wrap_value\u001b[0m\u001b[1;33m(\u001b[0m\u001b[0mparams\u001b[0m\u001b[1;33m)\u001b[0m\u001b[1;33m\u001b[0m\u001b[1;33m\u001b[0m\u001b[0m\n\u001b[1;32m--> 319\u001b[1;33m         \u001b[0mresponse\u001b[0m \u001b[1;33m=\u001b[0m \u001b[0mself\u001b[0m\u001b[1;33m.\u001b[0m\u001b[0mcommand_executor\u001b[0m\u001b[1;33m.\u001b[0m\u001b[0mexecute\u001b[0m\u001b[1;33m(\u001b[0m\u001b[0mdriver_command\u001b[0m\u001b[1;33m,\u001b[0m \u001b[0mparams\u001b[0m\u001b[1;33m)\u001b[0m\u001b[1;33m\u001b[0m\u001b[1;33m\u001b[0m\u001b[0m\n\u001b[0m\u001b[0;32m    320\u001b[0m         \u001b[1;32mif\u001b[0m \u001b[0mresponse\u001b[0m\u001b[1;33m:\u001b[0m\u001b[1;33m\u001b[0m\u001b[1;33m\u001b[0m\u001b[0m\n\u001b[0;32m    321\u001b[0m             \u001b[0mself\u001b[0m\u001b[1;33m.\u001b[0m\u001b[0merror_handler\u001b[0m\u001b[1;33m.\u001b[0m\u001b[0mcheck_response\u001b[0m\u001b[1;33m(\u001b[0m\u001b[0mresponse\u001b[0m\u001b[1;33m)\u001b[0m\u001b[1;33m\u001b[0m\u001b[1;33m\u001b[0m\u001b[0m\n",
      "\u001b[1;32mC:\\ProgramData\\Anaconda3\\lib\\site-packages\\selenium\\webdriver\\remote\\remote_connection.py\u001b[0m in \u001b[0;36mexecute\u001b[1;34m(self, command, params)\u001b[0m\n\u001b[0;32m    372\u001b[0m         \u001b[0mdata\u001b[0m \u001b[1;33m=\u001b[0m \u001b[0mutils\u001b[0m\u001b[1;33m.\u001b[0m\u001b[0mdump_json\u001b[0m\u001b[1;33m(\u001b[0m\u001b[0mparams\u001b[0m\u001b[1;33m)\u001b[0m\u001b[1;33m\u001b[0m\u001b[1;33m\u001b[0m\u001b[0m\n\u001b[0;32m    373\u001b[0m         \u001b[0murl\u001b[0m \u001b[1;33m=\u001b[0m \u001b[1;34m'%s%s'\u001b[0m \u001b[1;33m%\u001b[0m \u001b[1;33m(\u001b[0m\u001b[0mself\u001b[0m\u001b[1;33m.\u001b[0m\u001b[0m_url\u001b[0m\u001b[1;33m,\u001b[0m \u001b[0mpath\u001b[0m\u001b[1;33m)\u001b[0m\u001b[1;33m\u001b[0m\u001b[1;33m\u001b[0m\u001b[0m\n\u001b[1;32m--> 374\u001b[1;33m         \u001b[1;32mreturn\u001b[0m \u001b[0mself\u001b[0m\u001b[1;33m.\u001b[0m\u001b[0m_request\u001b[0m\u001b[1;33m(\u001b[0m\u001b[0mcommand_info\u001b[0m\u001b[1;33m[\u001b[0m\u001b[1;36m0\u001b[0m\u001b[1;33m]\u001b[0m\u001b[1;33m,\u001b[0m \u001b[0murl\u001b[0m\u001b[1;33m,\u001b[0m \u001b[0mbody\u001b[0m\u001b[1;33m=\u001b[0m\u001b[0mdata\u001b[0m\u001b[1;33m)\u001b[0m\u001b[1;33m\u001b[0m\u001b[1;33m\u001b[0m\u001b[0m\n\u001b[0m\u001b[0;32m    375\u001b[0m \u001b[1;33m\u001b[0m\u001b[0m\n\u001b[0;32m    376\u001b[0m     \u001b[1;32mdef\u001b[0m \u001b[0m_request\u001b[0m\u001b[1;33m(\u001b[0m\u001b[0mself\u001b[0m\u001b[1;33m,\u001b[0m \u001b[0mmethod\u001b[0m\u001b[1;33m,\u001b[0m \u001b[0murl\u001b[0m\u001b[1;33m,\u001b[0m \u001b[0mbody\u001b[0m\u001b[1;33m=\u001b[0m\u001b[1;32mNone\u001b[0m\u001b[1;33m)\u001b[0m\u001b[1;33m:\u001b[0m\u001b[1;33m\u001b[0m\u001b[1;33m\u001b[0m\u001b[0m\n",
      "\u001b[1;32mC:\\ProgramData\\Anaconda3\\lib\\site-packages\\selenium\\webdriver\\remote\\remote_connection.py\u001b[0m in \u001b[0;36m_request\u001b[1;34m(self, method, url, body)\u001b[0m\n\u001b[0;32m    395\u001b[0m \u001b[1;33m\u001b[0m\u001b[0m\n\u001b[0;32m    396\u001b[0m         \u001b[1;32mif\u001b[0m \u001b[0mself\u001b[0m\u001b[1;33m.\u001b[0m\u001b[0mkeep_alive\u001b[0m\u001b[1;33m:\u001b[0m\u001b[1;33m\u001b[0m\u001b[1;33m\u001b[0m\u001b[0m\n\u001b[1;32m--> 397\u001b[1;33m             \u001b[0mresp\u001b[0m \u001b[1;33m=\u001b[0m \u001b[0mself\u001b[0m\u001b[1;33m.\u001b[0m\u001b[0m_conn\u001b[0m\u001b[1;33m.\u001b[0m\u001b[0mrequest\u001b[0m\u001b[1;33m(\u001b[0m\u001b[0mmethod\u001b[0m\u001b[1;33m,\u001b[0m \u001b[0murl\u001b[0m\u001b[1;33m,\u001b[0m \u001b[0mbody\u001b[0m\u001b[1;33m=\u001b[0m\u001b[0mbody\u001b[0m\u001b[1;33m,\u001b[0m \u001b[0mheaders\u001b[0m\u001b[1;33m=\u001b[0m\u001b[0mheaders\u001b[0m\u001b[1;33m)\u001b[0m\u001b[1;33m\u001b[0m\u001b[1;33m\u001b[0m\u001b[0m\n\u001b[0m\u001b[0;32m    398\u001b[0m \u001b[1;33m\u001b[0m\u001b[0m\n\u001b[0;32m    399\u001b[0m             \u001b[0mstatuscode\u001b[0m \u001b[1;33m=\u001b[0m \u001b[0mresp\u001b[0m\u001b[1;33m.\u001b[0m\u001b[0mstatus\u001b[0m\u001b[1;33m\u001b[0m\u001b[1;33m\u001b[0m\u001b[0m\n",
      "\u001b[1;32mC:\\ProgramData\\Anaconda3\\lib\\site-packages\\urllib3\\request.py\u001b[0m in \u001b[0;36mrequest\u001b[1;34m(self, method, url, fields, headers, **urlopen_kw)\u001b[0m\n\u001b[0;32m     70\u001b[0m             return self.request_encode_body(method, url, fields=fields,\n\u001b[0;32m     71\u001b[0m                                             \u001b[0mheaders\u001b[0m\u001b[1;33m=\u001b[0m\u001b[0mheaders\u001b[0m\u001b[1;33m,\u001b[0m\u001b[1;33m\u001b[0m\u001b[1;33m\u001b[0m\u001b[0m\n\u001b[1;32m---> 72\u001b[1;33m                                             **urlopen_kw)\n\u001b[0m\u001b[0;32m     73\u001b[0m \u001b[1;33m\u001b[0m\u001b[0m\n\u001b[0;32m     74\u001b[0m     def request_encode_url(self, method, url, fields=None, headers=None,\n",
      "\u001b[1;32mC:\\ProgramData\\Anaconda3\\lib\\site-packages\\urllib3\\request.py\u001b[0m in \u001b[0;36mrequest_encode_body\u001b[1;34m(self, method, url, fields, headers, encode_multipart, multipart_boundary, **urlopen_kw)\u001b[0m\n\u001b[0;32m    148\u001b[0m         \u001b[0mextra_kw\u001b[0m\u001b[1;33m.\u001b[0m\u001b[0mupdate\u001b[0m\u001b[1;33m(\u001b[0m\u001b[0murlopen_kw\u001b[0m\u001b[1;33m)\u001b[0m\u001b[1;33m\u001b[0m\u001b[1;33m\u001b[0m\u001b[0m\n\u001b[0;32m    149\u001b[0m \u001b[1;33m\u001b[0m\u001b[0m\n\u001b[1;32m--> 150\u001b[1;33m         \u001b[1;32mreturn\u001b[0m \u001b[0mself\u001b[0m\u001b[1;33m.\u001b[0m\u001b[0murlopen\u001b[0m\u001b[1;33m(\u001b[0m\u001b[0mmethod\u001b[0m\u001b[1;33m,\u001b[0m \u001b[0murl\u001b[0m\u001b[1;33m,\u001b[0m \u001b[1;33m**\u001b[0m\u001b[0mextra_kw\u001b[0m\u001b[1;33m)\u001b[0m\u001b[1;33m\u001b[0m\u001b[1;33m\u001b[0m\u001b[0m\n\u001b[0m",
      "\u001b[1;32mC:\\ProgramData\\Anaconda3\\lib\\site-packages\\urllib3\\poolmanager.py\u001b[0m in \u001b[0;36murlopen\u001b[1;34m(self, method, url, redirect, **kw)\u001b[0m\n\u001b[0;32m    322\u001b[0m             \u001b[0mresponse\u001b[0m \u001b[1;33m=\u001b[0m \u001b[0mconn\u001b[0m\u001b[1;33m.\u001b[0m\u001b[0murlopen\u001b[0m\u001b[1;33m(\u001b[0m\u001b[0mmethod\u001b[0m\u001b[1;33m,\u001b[0m \u001b[0murl\u001b[0m\u001b[1;33m,\u001b[0m \u001b[1;33m**\u001b[0m\u001b[0mkw\u001b[0m\u001b[1;33m)\u001b[0m\u001b[1;33m\u001b[0m\u001b[1;33m\u001b[0m\u001b[0m\n\u001b[0;32m    323\u001b[0m         \u001b[1;32melse\u001b[0m\u001b[1;33m:\u001b[0m\u001b[1;33m\u001b[0m\u001b[1;33m\u001b[0m\u001b[0m\n\u001b[1;32m--> 324\u001b[1;33m             \u001b[0mresponse\u001b[0m \u001b[1;33m=\u001b[0m \u001b[0mconn\u001b[0m\u001b[1;33m.\u001b[0m\u001b[0murlopen\u001b[0m\u001b[1;33m(\u001b[0m\u001b[0mmethod\u001b[0m\u001b[1;33m,\u001b[0m \u001b[0mu\u001b[0m\u001b[1;33m.\u001b[0m\u001b[0mrequest_uri\u001b[0m\u001b[1;33m,\u001b[0m \u001b[1;33m**\u001b[0m\u001b[0mkw\u001b[0m\u001b[1;33m)\u001b[0m\u001b[1;33m\u001b[0m\u001b[1;33m\u001b[0m\u001b[0m\n\u001b[0m\u001b[0;32m    325\u001b[0m \u001b[1;33m\u001b[0m\u001b[0m\n\u001b[0;32m    326\u001b[0m         \u001b[0mredirect_location\u001b[0m \u001b[1;33m=\u001b[0m \u001b[0mredirect\u001b[0m \u001b[1;32mand\u001b[0m \u001b[0mresponse\u001b[0m\u001b[1;33m.\u001b[0m\u001b[0mget_redirect_location\u001b[0m\u001b[1;33m(\u001b[0m\u001b[1;33m)\u001b[0m\u001b[1;33m\u001b[0m\u001b[1;33m\u001b[0m\u001b[0m\n",
      "\u001b[1;32mC:\\ProgramData\\Anaconda3\\lib\\site-packages\\urllib3\\connectionpool.py\u001b[0m in \u001b[0;36murlopen\u001b[1;34m(self, method, url, body, headers, retries, redirect, assert_same_host, timeout, pool_timeout, release_conn, chunked, body_pos, **response_kw)\u001b[0m\n\u001b[0;32m    598\u001b[0m                                                   \u001b[0mtimeout\u001b[0m\u001b[1;33m=\u001b[0m\u001b[0mtimeout_obj\u001b[0m\u001b[1;33m,\u001b[0m\u001b[1;33m\u001b[0m\u001b[1;33m\u001b[0m\u001b[0m\n\u001b[0;32m    599\u001b[0m                                                   \u001b[0mbody\u001b[0m\u001b[1;33m=\u001b[0m\u001b[0mbody\u001b[0m\u001b[1;33m,\u001b[0m \u001b[0mheaders\u001b[0m\u001b[1;33m=\u001b[0m\u001b[0mheaders\u001b[0m\u001b[1;33m,\u001b[0m\u001b[1;33m\u001b[0m\u001b[1;33m\u001b[0m\u001b[0m\n\u001b[1;32m--> 600\u001b[1;33m                                                   chunked=chunked)\n\u001b[0m\u001b[0;32m    601\u001b[0m \u001b[1;33m\u001b[0m\u001b[0m\n\u001b[0;32m    602\u001b[0m             \u001b[1;31m# If we're going to release the connection in ``finally:``, then\u001b[0m\u001b[1;33m\u001b[0m\u001b[1;33m\u001b[0m\u001b[1;33m\u001b[0m\u001b[0m\n",
      "\u001b[1;32mC:\\ProgramData\\Anaconda3\\lib\\site-packages\\urllib3\\connectionpool.py\u001b[0m in \u001b[0;36m_make_request\u001b[1;34m(self, conn, method, url, timeout, chunked, **httplib_request_kw)\u001b[0m\n\u001b[0;32m    378\u001b[0m             \u001b[1;32mexcept\u001b[0m \u001b[0mTypeError\u001b[0m\u001b[1;33m:\u001b[0m  \u001b[1;31m# Python 3\u001b[0m\u001b[1;33m\u001b[0m\u001b[1;33m\u001b[0m\u001b[0m\n\u001b[0;32m    379\u001b[0m                 \u001b[1;32mtry\u001b[0m\u001b[1;33m:\u001b[0m\u001b[1;33m\u001b[0m\u001b[1;33m\u001b[0m\u001b[0m\n\u001b[1;32m--> 380\u001b[1;33m                     \u001b[0mhttplib_response\u001b[0m \u001b[1;33m=\u001b[0m \u001b[0mconn\u001b[0m\u001b[1;33m.\u001b[0m\u001b[0mgetresponse\u001b[0m\u001b[1;33m(\u001b[0m\u001b[1;33m)\u001b[0m\u001b[1;33m\u001b[0m\u001b[1;33m\u001b[0m\u001b[0m\n\u001b[0m\u001b[0;32m    381\u001b[0m                 \u001b[1;32mexcept\u001b[0m \u001b[0mException\u001b[0m \u001b[1;32mas\u001b[0m \u001b[0me\u001b[0m\u001b[1;33m:\u001b[0m\u001b[1;33m\u001b[0m\u001b[1;33m\u001b[0m\u001b[0m\n\u001b[0;32m    382\u001b[0m                     \u001b[1;31m# Remove the TypeError from the exception chain in Python 3;\u001b[0m\u001b[1;33m\u001b[0m\u001b[1;33m\u001b[0m\u001b[1;33m\u001b[0m\u001b[0m\n",
      "\u001b[1;32mC:\\ProgramData\\Anaconda3\\lib\\http\\client.py\u001b[0m in \u001b[0;36mgetresponse\u001b[1;34m(self)\u001b[0m\n\u001b[0;32m   1334\u001b[0m         \u001b[1;32mtry\u001b[0m\u001b[1;33m:\u001b[0m\u001b[1;33m\u001b[0m\u001b[1;33m\u001b[0m\u001b[0m\n\u001b[0;32m   1335\u001b[0m             \u001b[1;32mtry\u001b[0m\u001b[1;33m:\u001b[0m\u001b[1;33m\u001b[0m\u001b[1;33m\u001b[0m\u001b[0m\n\u001b[1;32m-> 1336\u001b[1;33m                 \u001b[0mresponse\u001b[0m\u001b[1;33m.\u001b[0m\u001b[0mbegin\u001b[0m\u001b[1;33m(\u001b[0m\u001b[1;33m)\u001b[0m\u001b[1;33m\u001b[0m\u001b[1;33m\u001b[0m\u001b[0m\n\u001b[0m\u001b[0;32m   1337\u001b[0m             \u001b[1;32mexcept\u001b[0m \u001b[0mConnectionError\u001b[0m\u001b[1;33m:\u001b[0m\u001b[1;33m\u001b[0m\u001b[1;33m\u001b[0m\u001b[0m\n\u001b[0;32m   1338\u001b[0m                 \u001b[0mself\u001b[0m\u001b[1;33m.\u001b[0m\u001b[0mclose\u001b[0m\u001b[1;33m(\u001b[0m\u001b[1;33m)\u001b[0m\u001b[1;33m\u001b[0m\u001b[1;33m\u001b[0m\u001b[0m\n",
      "\u001b[1;32mC:\\ProgramData\\Anaconda3\\lib\\http\\client.py\u001b[0m in \u001b[0;36mbegin\u001b[1;34m(self)\u001b[0m\n\u001b[0;32m    304\u001b[0m         \u001b[1;31m# read until we get a non-100 response\u001b[0m\u001b[1;33m\u001b[0m\u001b[1;33m\u001b[0m\u001b[1;33m\u001b[0m\u001b[0m\n\u001b[0;32m    305\u001b[0m         \u001b[1;32mwhile\u001b[0m \u001b[1;32mTrue\u001b[0m\u001b[1;33m:\u001b[0m\u001b[1;33m\u001b[0m\u001b[1;33m\u001b[0m\u001b[0m\n\u001b[1;32m--> 306\u001b[1;33m             \u001b[0mversion\u001b[0m\u001b[1;33m,\u001b[0m \u001b[0mstatus\u001b[0m\u001b[1;33m,\u001b[0m \u001b[0mreason\u001b[0m \u001b[1;33m=\u001b[0m \u001b[0mself\u001b[0m\u001b[1;33m.\u001b[0m\u001b[0m_read_status\u001b[0m\u001b[1;33m(\u001b[0m\u001b[1;33m)\u001b[0m\u001b[1;33m\u001b[0m\u001b[1;33m\u001b[0m\u001b[0m\n\u001b[0m\u001b[0;32m    307\u001b[0m             \u001b[1;32mif\u001b[0m \u001b[0mstatus\u001b[0m \u001b[1;33m!=\u001b[0m \u001b[0mCONTINUE\u001b[0m\u001b[1;33m:\u001b[0m\u001b[1;33m\u001b[0m\u001b[1;33m\u001b[0m\u001b[0m\n\u001b[0;32m    308\u001b[0m                 \u001b[1;32mbreak\u001b[0m\u001b[1;33m\u001b[0m\u001b[1;33m\u001b[0m\u001b[0m\n",
      "\u001b[1;32mC:\\ProgramData\\Anaconda3\\lib\\http\\client.py\u001b[0m in \u001b[0;36m_read_status\u001b[1;34m(self)\u001b[0m\n\u001b[0;32m    265\u001b[0m \u001b[1;33m\u001b[0m\u001b[0m\n\u001b[0;32m    266\u001b[0m     \u001b[1;32mdef\u001b[0m \u001b[0m_read_status\u001b[0m\u001b[1;33m(\u001b[0m\u001b[0mself\u001b[0m\u001b[1;33m)\u001b[0m\u001b[1;33m:\u001b[0m\u001b[1;33m\u001b[0m\u001b[1;33m\u001b[0m\u001b[0m\n\u001b[1;32m--> 267\u001b[1;33m         \u001b[0mline\u001b[0m \u001b[1;33m=\u001b[0m \u001b[0mstr\u001b[0m\u001b[1;33m(\u001b[0m\u001b[0mself\u001b[0m\u001b[1;33m.\u001b[0m\u001b[0mfp\u001b[0m\u001b[1;33m.\u001b[0m\u001b[0mreadline\u001b[0m\u001b[1;33m(\u001b[0m\u001b[0m_MAXLINE\u001b[0m \u001b[1;33m+\u001b[0m \u001b[1;36m1\u001b[0m\u001b[1;33m)\u001b[0m\u001b[1;33m,\u001b[0m \u001b[1;34m\"iso-8859-1\"\u001b[0m\u001b[1;33m)\u001b[0m\u001b[1;33m\u001b[0m\u001b[1;33m\u001b[0m\u001b[0m\n\u001b[0m\u001b[0;32m    268\u001b[0m         \u001b[1;32mif\u001b[0m \u001b[0mlen\u001b[0m\u001b[1;33m(\u001b[0m\u001b[0mline\u001b[0m\u001b[1;33m)\u001b[0m \u001b[1;33m>\u001b[0m \u001b[0m_MAXLINE\u001b[0m\u001b[1;33m:\u001b[0m\u001b[1;33m\u001b[0m\u001b[1;33m\u001b[0m\u001b[0m\n\u001b[0;32m    269\u001b[0m             \u001b[1;32mraise\u001b[0m \u001b[0mLineTooLong\u001b[0m\u001b[1;33m(\u001b[0m\u001b[1;34m\"status line\"\u001b[0m\u001b[1;33m)\u001b[0m\u001b[1;33m\u001b[0m\u001b[1;33m\u001b[0m\u001b[0m\n",
      "\u001b[1;32mC:\\ProgramData\\Anaconda3\\lib\\socket.py\u001b[0m in \u001b[0;36mreadinto\u001b[1;34m(self, b)\u001b[0m\n\u001b[0;32m    587\u001b[0m         \u001b[1;32mwhile\u001b[0m \u001b[1;32mTrue\u001b[0m\u001b[1;33m:\u001b[0m\u001b[1;33m\u001b[0m\u001b[1;33m\u001b[0m\u001b[0m\n\u001b[0;32m    588\u001b[0m             \u001b[1;32mtry\u001b[0m\u001b[1;33m:\u001b[0m\u001b[1;33m\u001b[0m\u001b[1;33m\u001b[0m\u001b[0m\n\u001b[1;32m--> 589\u001b[1;33m                 \u001b[1;32mreturn\u001b[0m \u001b[0mself\u001b[0m\u001b[1;33m.\u001b[0m\u001b[0m_sock\u001b[0m\u001b[1;33m.\u001b[0m\u001b[0mrecv_into\u001b[0m\u001b[1;33m(\u001b[0m\u001b[0mb\u001b[0m\u001b[1;33m)\u001b[0m\u001b[1;33m\u001b[0m\u001b[1;33m\u001b[0m\u001b[0m\n\u001b[0m\u001b[0;32m    590\u001b[0m             \u001b[1;32mexcept\u001b[0m \u001b[0mtimeout\u001b[0m\u001b[1;33m:\u001b[0m\u001b[1;33m\u001b[0m\u001b[1;33m\u001b[0m\u001b[0m\n\u001b[0;32m    591\u001b[0m                 \u001b[0mself\u001b[0m\u001b[1;33m.\u001b[0m\u001b[0m_timeout_occurred\u001b[0m \u001b[1;33m=\u001b[0m \u001b[1;32mTrue\u001b[0m\u001b[1;33m\u001b[0m\u001b[1;33m\u001b[0m\u001b[0m\n",
      "\u001b[1;31mKeyboardInterrupt\u001b[0m: "
     ]
    }
   ],
   "source": [
    "browser = webdriver.Firefox()\n",
    "browser.get(\"https://www.agoda.com/zh-tw/search?city=4951&languageId=20&userId=fbea6c98-bc10-4d2c-a45f-38aa37091ae0&sessionId=lqi2vzzqajjvovbklngumdgs&pageTypeId=103&origin=TW&locale=zh-TW&cid=1826371&tag=ab92ca0a-b803-8f27-c188-fe307db02490&gclid=CjwKCAiAuqHwBRAQEiwAD-zr3V4Zf_9fHqQ_QPGRK9OaQp_BrwbhqPweDC-chMr3w665TY8GjFYubhoCErMQAvD_BwE&aid=82361&currencyCode=TWD&htmlLanguage=zh-tw&cultureInfoName=zh-TW&ckuid=fbea6c98-bc10-4d2c-a45f-38aa37091ae0&prid=0&checkIn=2020-01-07&checkOut=2020-01-08&rooms=1&adults=1&children=0&priceCur=TWD&los=1&textToSearch=%E5%8F%B0%E5%8C%97%E5%B8%82&selectedProperty=0&travellerType=0&familyMode=off&ro=C00000&productType=1&hotelStarRating=4,3&sort=agodaRecommended\")\n",
    "http=[]    \n",
    "browser.execute_script(\"window.scrollTo(0,1506)\")\n",
    "browser.execute_script(\"window.scrollTo(0,3185.39990234375)\")\n",
    "browser.execute_script(\"window.scrollTo(0,3873)\")\n",
    "browser.execute_script(\"window.scrollTo(0,4822.2001953125)\")\n",
    "browser.execute_script(\"window.scrollTo(0,6189)\")\n",
    "browser.execute_script(\"window.scrollTo(0,7017.60009765625)\")\n",
    "browser.execute_script(\"window.scrollTo(0,7994.39990234375)\")\n",
    "browser.execute_script(\"window.scrollTo(0,8772.599609375)\")\n",
    "browser.execute_script(\"window.scrollTo(0,9550.2001953125)\")\n",
    "browser.execute_script(\"window.scrollTo(0,10392)\")\n",
    "browser.execute_script(\"window.scrollTo(0,12255)\")\n",
    "browser.execute_script(\"window.scrollTo(0,13140.599609375)\")\n",
    "browser.execute_script(\"window.scrollTo(0,14139.599609375)\")\n",
    "browser.execute_script(\"window.scrollTo(0,15027.599609375)\")\n",
    "browser.execute_script(\"window.scrollTo(0,16029.599609375)\")\n",
    "browser.execute_script(\"window.scrollTo(0,17095.80078125)\")\n",
    "browser.execute_script(\"window.scrollTo(0,18708)\")\n",
    "browser.execute_script(\"window.scrollTo(0,20350.19921875)\")\n",
    "browser.execute_script(\"window.scrollTo(0,21402)\")\n",
    "browser.execute_script(\"window.scrollTo(0,22849.80078125)\")\n",
    "browser.execute_script(\"window.scrollTo(0,24066)\")\n",
    "browser.execute_script(\"window.scrollTo(0,25578.599609375)\")\n",
    "browser.execute_script(\"window.scrollTo(0,27189.599609375)\")\n",
    "browser.execute_script(\"window.scrollTo(0,27613.80078125)\")\n",
    "browser.execute_script(\"window.scrollTo(0,28394.400390625)\")\n",
    "browser.execute_script(\"window.scrollTo(0,29979.599609375)\")\n",
    "browser.execute_script(\"window.scrollTo(0,31002.599609375)\")\n",
    "browser.execute_script(\"window.scrollTo(0,31837.19921875)\")\n",
    "browser.execute_script(\"window.scrollTo(0,31688.400390625)\")\n",
    "browser.execute_script(\"window.scrollTo(0,31665.599609375)\")\n",
    "browser.execute_script(\"window.scrollTo(0, document.body.scrollHeight)\")\n",
    "time.sleep(2)\n",
    "soup = BeautifulSoup(browser.page_source)\n",
    "for ele2,ele in zip(soup.select(\".InfoBox__Header h3\"),soup.select(\".PropertyCardItem.ssr-search-result a\")):\n",
    "    print(ele2.text)\n",
    "    k=ele2.text[-4:]\n",
    "    print(k)\n",
    "    print(ele.get(\"href\"))\n",
    "browser.close()"
   ]
  },
  {
   "cell_type": "code",
   "execution_count": null,
   "metadata": {},
   "outputs": [],
   "source": [
    "https://www.agoda.com/zh-tw/Agoda-Secret-Deals/taiwan/taipei/3e8617c.secret?checkin=2020-01-07&los=1&adults=1&rooms=1&ro=C00000&cid=1826371&tag=ab92ca0a-b803-8f27-c188-fe307db02490&searchrequestid=370f5dd0-93f6-47bf-ac2c-9c173b882221&travellerType=0&cabinType=Economy"
   ]
  },
  {
   "cell_type": "code",
   "execution_count": 113,
   "metadata": {},
   "outputs": [
    {
     "ename": "KeyboardInterrupt",
     "evalue": "",
     "output_type": "error",
     "traceback": [
      "\u001b[1;31m---------------------------------------------------------------------------\u001b[0m",
      "\u001b[1;31mTypeError\u001b[0m                                 Traceback (most recent call last)",
      "\u001b[1;32mC:\\ProgramData\\Anaconda3\\lib\\site-packages\\urllib3\\connectionpool.py\u001b[0m in \u001b[0;36m_make_request\u001b[1;34m(self, conn, method, url, timeout, chunked, **httplib_request_kw)\u001b[0m\n\u001b[0;32m    376\u001b[0m             \u001b[1;32mtry\u001b[0m\u001b[1;33m:\u001b[0m  \u001b[1;31m# Python 2.7, use buffering of HTTP responses\u001b[0m\u001b[1;33m\u001b[0m\u001b[1;33m\u001b[0m\u001b[0m\n\u001b[1;32m--> 377\u001b[1;33m                 \u001b[0mhttplib_response\u001b[0m \u001b[1;33m=\u001b[0m \u001b[0mconn\u001b[0m\u001b[1;33m.\u001b[0m\u001b[0mgetresponse\u001b[0m\u001b[1;33m(\u001b[0m\u001b[0mbuffering\u001b[0m\u001b[1;33m=\u001b[0m\u001b[1;32mTrue\u001b[0m\u001b[1;33m)\u001b[0m\u001b[1;33m\u001b[0m\u001b[1;33m\u001b[0m\u001b[0m\n\u001b[0m\u001b[0;32m    378\u001b[0m             \u001b[1;32mexcept\u001b[0m \u001b[0mTypeError\u001b[0m\u001b[1;33m:\u001b[0m  \u001b[1;31m# Python 3\u001b[0m\u001b[1;33m\u001b[0m\u001b[1;33m\u001b[0m\u001b[0m\n",
      "\u001b[1;31mTypeError\u001b[0m: getresponse() got an unexpected keyword argument 'buffering'",
      "\nDuring handling of the above exception, another exception occurred:\n",
      "\u001b[1;31mKeyboardInterrupt\u001b[0m                         Traceback (most recent call last)",
      "\u001b[1;32m<ipython-input-113-f37aee8516a3>\u001b[0m in \u001b[0;36m<module>\u001b[1;34m\u001b[0m\n\u001b[0;32m     42\u001b[0m \u001b[1;32mfor\u001b[0m \u001b[0mi\u001b[0m \u001b[1;32min\u001b[0m \u001b[0mhttp\u001b[0m\u001b[1;33m:\u001b[0m\u001b[1;33m\u001b[0m\u001b[1;33m\u001b[0m\u001b[0m\n\u001b[0;32m     43\u001b[0m     \u001b[0murl\u001b[0m\u001b[1;33m=\u001b[0m\u001b[0mi\u001b[0m\u001b[1;33m\u001b[0m\u001b[1;33m\u001b[0m\u001b[0m\n\u001b[1;32m---> 44\u001b[1;33m     \u001b[0mbrowser\u001b[0m \u001b[1;33m=\u001b[0m \u001b[0mwebdriver\u001b[0m\u001b[1;33m.\u001b[0m\u001b[0mFirefox\u001b[0m\u001b[1;33m(\u001b[0m\u001b[1;33m)\u001b[0m\u001b[1;33m\u001b[0m\u001b[1;33m\u001b[0m\u001b[0m\n\u001b[0m\u001b[0;32m     45\u001b[0m     \u001b[0mbrowser\u001b[0m\u001b[1;33m.\u001b[0m\u001b[0mget\u001b[0m\u001b[1;33m(\u001b[0m\u001b[0murl\u001b[0m\u001b[1;33m)\u001b[0m\u001b[1;33m\u001b[0m\u001b[1;33m\u001b[0m\u001b[0m\n\u001b[0;32m     46\u001b[0m     \u001b[0mbrowser\u001b[0m\u001b[1;33m.\u001b[0m\u001b[0mexecute_script\u001b[0m\u001b[1;33m(\u001b[0m\u001b[1;34m\"window.scrollTo(0, document.body.scrollHeight)\"\u001b[0m\u001b[1;33m)\u001b[0m\u001b[1;33m\u001b[0m\u001b[1;33m\u001b[0m\u001b[0m\n",
      "\u001b[1;32mC:\\ProgramData\\Anaconda3\\lib\\site-packages\\selenium\\webdriver\\firefox\\webdriver.py\u001b[0m in \u001b[0;36m__init__\u001b[1;34m(self, firefox_profile, firefox_binary, timeout, capabilities, proxy, executable_path, options, service_log_path, firefox_options, service_args, desired_capabilities, log_path, keep_alive)\u001b[0m\n\u001b[0;32m    172\u001b[0m                 \u001b[0mcommand_executor\u001b[0m\u001b[1;33m=\u001b[0m\u001b[0mexecutor\u001b[0m\u001b[1;33m,\u001b[0m\u001b[1;33m\u001b[0m\u001b[1;33m\u001b[0m\u001b[0m\n\u001b[0;32m    173\u001b[0m                 \u001b[0mdesired_capabilities\u001b[0m\u001b[1;33m=\u001b[0m\u001b[0mcapabilities\u001b[0m\u001b[1;33m,\u001b[0m\u001b[1;33m\u001b[0m\u001b[1;33m\u001b[0m\u001b[0m\n\u001b[1;32m--> 174\u001b[1;33m                 keep_alive=True)\n\u001b[0m\u001b[0;32m    175\u001b[0m \u001b[1;33m\u001b[0m\u001b[0m\n\u001b[0;32m    176\u001b[0m         \u001b[1;31m# Selenium remote\u001b[0m\u001b[1;33m\u001b[0m\u001b[1;33m\u001b[0m\u001b[1;33m\u001b[0m\u001b[0m\n",
      "\u001b[1;32mC:\\ProgramData\\Anaconda3\\lib\\site-packages\\selenium\\webdriver\\remote\\webdriver.py\u001b[0m in \u001b[0;36m__init__\u001b[1;34m(self, command_executor, desired_capabilities, browser_profile, proxy, keep_alive, file_detector, options)\u001b[0m\n\u001b[0;32m    155\u001b[0m             warnings.warn(\"Please use FirefoxOptions to set browser profile\",\n\u001b[0;32m    156\u001b[0m                           DeprecationWarning, stacklevel=2)\n\u001b[1;32m--> 157\u001b[1;33m         \u001b[0mself\u001b[0m\u001b[1;33m.\u001b[0m\u001b[0mstart_session\u001b[0m\u001b[1;33m(\u001b[0m\u001b[0mcapabilities\u001b[0m\u001b[1;33m,\u001b[0m \u001b[0mbrowser_profile\u001b[0m\u001b[1;33m)\u001b[0m\u001b[1;33m\u001b[0m\u001b[1;33m\u001b[0m\u001b[0m\n\u001b[0m\u001b[0;32m    158\u001b[0m         \u001b[0mself\u001b[0m\u001b[1;33m.\u001b[0m\u001b[0m_switch_to\u001b[0m \u001b[1;33m=\u001b[0m \u001b[0mSwitchTo\u001b[0m\u001b[1;33m(\u001b[0m\u001b[0mself\u001b[0m\u001b[1;33m)\u001b[0m\u001b[1;33m\u001b[0m\u001b[1;33m\u001b[0m\u001b[0m\n\u001b[0;32m    159\u001b[0m         \u001b[0mself\u001b[0m\u001b[1;33m.\u001b[0m\u001b[0m_mobile\u001b[0m \u001b[1;33m=\u001b[0m \u001b[0mMobile\u001b[0m\u001b[1;33m(\u001b[0m\u001b[0mself\u001b[0m\u001b[1;33m)\u001b[0m\u001b[1;33m\u001b[0m\u001b[1;33m\u001b[0m\u001b[0m\n",
      "\u001b[1;32mC:\\ProgramData\\Anaconda3\\lib\\site-packages\\selenium\\webdriver\\remote\\webdriver.py\u001b[0m in \u001b[0;36mstart_session\u001b[1;34m(self, capabilities, browser_profile)\u001b[0m\n\u001b[0;32m    250\u001b[0m         parameters = {\"capabilities\": w3c_caps,\n\u001b[0;32m    251\u001b[0m                       \"desiredCapabilities\": capabilities}\n\u001b[1;32m--> 252\u001b[1;33m         \u001b[0mresponse\u001b[0m \u001b[1;33m=\u001b[0m \u001b[0mself\u001b[0m\u001b[1;33m.\u001b[0m\u001b[0mexecute\u001b[0m\u001b[1;33m(\u001b[0m\u001b[0mCommand\u001b[0m\u001b[1;33m.\u001b[0m\u001b[0mNEW_SESSION\u001b[0m\u001b[1;33m,\u001b[0m \u001b[0mparameters\u001b[0m\u001b[1;33m)\u001b[0m\u001b[1;33m\u001b[0m\u001b[1;33m\u001b[0m\u001b[0m\n\u001b[0m\u001b[0;32m    253\u001b[0m         \u001b[1;32mif\u001b[0m \u001b[1;34m'sessionId'\u001b[0m \u001b[1;32mnot\u001b[0m \u001b[1;32min\u001b[0m \u001b[0mresponse\u001b[0m\u001b[1;33m:\u001b[0m\u001b[1;33m\u001b[0m\u001b[1;33m\u001b[0m\u001b[0m\n\u001b[0;32m    254\u001b[0m             \u001b[0mresponse\u001b[0m \u001b[1;33m=\u001b[0m \u001b[0mresponse\u001b[0m\u001b[1;33m[\u001b[0m\u001b[1;34m'value'\u001b[0m\u001b[1;33m]\u001b[0m\u001b[1;33m\u001b[0m\u001b[1;33m\u001b[0m\u001b[0m\n",
      "\u001b[1;32mC:\\ProgramData\\Anaconda3\\lib\\site-packages\\selenium\\webdriver\\remote\\webdriver.py\u001b[0m in \u001b[0;36mexecute\u001b[1;34m(self, driver_command, params)\u001b[0m\n\u001b[0;32m    317\u001b[0m \u001b[1;33m\u001b[0m\u001b[0m\n\u001b[0;32m    318\u001b[0m         \u001b[0mparams\u001b[0m \u001b[1;33m=\u001b[0m \u001b[0mself\u001b[0m\u001b[1;33m.\u001b[0m\u001b[0m_wrap_value\u001b[0m\u001b[1;33m(\u001b[0m\u001b[0mparams\u001b[0m\u001b[1;33m)\u001b[0m\u001b[1;33m\u001b[0m\u001b[1;33m\u001b[0m\u001b[0m\n\u001b[1;32m--> 319\u001b[1;33m         \u001b[0mresponse\u001b[0m \u001b[1;33m=\u001b[0m \u001b[0mself\u001b[0m\u001b[1;33m.\u001b[0m\u001b[0mcommand_executor\u001b[0m\u001b[1;33m.\u001b[0m\u001b[0mexecute\u001b[0m\u001b[1;33m(\u001b[0m\u001b[0mdriver_command\u001b[0m\u001b[1;33m,\u001b[0m \u001b[0mparams\u001b[0m\u001b[1;33m)\u001b[0m\u001b[1;33m\u001b[0m\u001b[1;33m\u001b[0m\u001b[0m\n\u001b[0m\u001b[0;32m    320\u001b[0m         \u001b[1;32mif\u001b[0m \u001b[0mresponse\u001b[0m\u001b[1;33m:\u001b[0m\u001b[1;33m\u001b[0m\u001b[1;33m\u001b[0m\u001b[0m\n\u001b[0;32m    321\u001b[0m             \u001b[0mself\u001b[0m\u001b[1;33m.\u001b[0m\u001b[0merror_handler\u001b[0m\u001b[1;33m.\u001b[0m\u001b[0mcheck_response\u001b[0m\u001b[1;33m(\u001b[0m\u001b[0mresponse\u001b[0m\u001b[1;33m)\u001b[0m\u001b[1;33m\u001b[0m\u001b[1;33m\u001b[0m\u001b[0m\n",
      "\u001b[1;32mC:\\ProgramData\\Anaconda3\\lib\\site-packages\\selenium\\webdriver\\remote\\remote_connection.py\u001b[0m in \u001b[0;36mexecute\u001b[1;34m(self, command, params)\u001b[0m\n\u001b[0;32m    372\u001b[0m         \u001b[0mdata\u001b[0m \u001b[1;33m=\u001b[0m \u001b[0mutils\u001b[0m\u001b[1;33m.\u001b[0m\u001b[0mdump_json\u001b[0m\u001b[1;33m(\u001b[0m\u001b[0mparams\u001b[0m\u001b[1;33m)\u001b[0m\u001b[1;33m\u001b[0m\u001b[1;33m\u001b[0m\u001b[0m\n\u001b[0;32m    373\u001b[0m         \u001b[0murl\u001b[0m \u001b[1;33m=\u001b[0m \u001b[1;34m'%s%s'\u001b[0m \u001b[1;33m%\u001b[0m \u001b[1;33m(\u001b[0m\u001b[0mself\u001b[0m\u001b[1;33m.\u001b[0m\u001b[0m_url\u001b[0m\u001b[1;33m,\u001b[0m \u001b[0mpath\u001b[0m\u001b[1;33m)\u001b[0m\u001b[1;33m\u001b[0m\u001b[1;33m\u001b[0m\u001b[0m\n\u001b[1;32m--> 374\u001b[1;33m         \u001b[1;32mreturn\u001b[0m \u001b[0mself\u001b[0m\u001b[1;33m.\u001b[0m\u001b[0m_request\u001b[0m\u001b[1;33m(\u001b[0m\u001b[0mcommand_info\u001b[0m\u001b[1;33m[\u001b[0m\u001b[1;36m0\u001b[0m\u001b[1;33m]\u001b[0m\u001b[1;33m,\u001b[0m \u001b[0murl\u001b[0m\u001b[1;33m,\u001b[0m \u001b[0mbody\u001b[0m\u001b[1;33m=\u001b[0m\u001b[0mdata\u001b[0m\u001b[1;33m)\u001b[0m\u001b[1;33m\u001b[0m\u001b[1;33m\u001b[0m\u001b[0m\n\u001b[0m\u001b[0;32m    375\u001b[0m \u001b[1;33m\u001b[0m\u001b[0m\n\u001b[0;32m    376\u001b[0m     \u001b[1;32mdef\u001b[0m \u001b[0m_request\u001b[0m\u001b[1;33m(\u001b[0m\u001b[0mself\u001b[0m\u001b[1;33m,\u001b[0m \u001b[0mmethod\u001b[0m\u001b[1;33m,\u001b[0m \u001b[0murl\u001b[0m\u001b[1;33m,\u001b[0m \u001b[0mbody\u001b[0m\u001b[1;33m=\u001b[0m\u001b[1;32mNone\u001b[0m\u001b[1;33m)\u001b[0m\u001b[1;33m:\u001b[0m\u001b[1;33m\u001b[0m\u001b[1;33m\u001b[0m\u001b[0m\n",
      "\u001b[1;32mC:\\ProgramData\\Anaconda3\\lib\\site-packages\\selenium\\webdriver\\remote\\remote_connection.py\u001b[0m in \u001b[0;36m_request\u001b[1;34m(self, method, url, body)\u001b[0m\n\u001b[0;32m    395\u001b[0m \u001b[1;33m\u001b[0m\u001b[0m\n\u001b[0;32m    396\u001b[0m         \u001b[1;32mif\u001b[0m \u001b[0mself\u001b[0m\u001b[1;33m.\u001b[0m\u001b[0mkeep_alive\u001b[0m\u001b[1;33m:\u001b[0m\u001b[1;33m\u001b[0m\u001b[1;33m\u001b[0m\u001b[0m\n\u001b[1;32m--> 397\u001b[1;33m             \u001b[0mresp\u001b[0m \u001b[1;33m=\u001b[0m \u001b[0mself\u001b[0m\u001b[1;33m.\u001b[0m\u001b[0m_conn\u001b[0m\u001b[1;33m.\u001b[0m\u001b[0mrequest\u001b[0m\u001b[1;33m(\u001b[0m\u001b[0mmethod\u001b[0m\u001b[1;33m,\u001b[0m \u001b[0murl\u001b[0m\u001b[1;33m,\u001b[0m \u001b[0mbody\u001b[0m\u001b[1;33m=\u001b[0m\u001b[0mbody\u001b[0m\u001b[1;33m,\u001b[0m \u001b[0mheaders\u001b[0m\u001b[1;33m=\u001b[0m\u001b[0mheaders\u001b[0m\u001b[1;33m)\u001b[0m\u001b[1;33m\u001b[0m\u001b[1;33m\u001b[0m\u001b[0m\n\u001b[0m\u001b[0;32m    398\u001b[0m \u001b[1;33m\u001b[0m\u001b[0m\n\u001b[0;32m    399\u001b[0m             \u001b[0mstatuscode\u001b[0m \u001b[1;33m=\u001b[0m \u001b[0mresp\u001b[0m\u001b[1;33m.\u001b[0m\u001b[0mstatus\u001b[0m\u001b[1;33m\u001b[0m\u001b[1;33m\u001b[0m\u001b[0m\n",
      "\u001b[1;32mC:\\ProgramData\\Anaconda3\\lib\\site-packages\\urllib3\\request.py\u001b[0m in \u001b[0;36mrequest\u001b[1;34m(self, method, url, fields, headers, **urlopen_kw)\u001b[0m\n\u001b[0;32m     70\u001b[0m             return self.request_encode_body(method, url, fields=fields,\n\u001b[0;32m     71\u001b[0m                                             \u001b[0mheaders\u001b[0m\u001b[1;33m=\u001b[0m\u001b[0mheaders\u001b[0m\u001b[1;33m,\u001b[0m\u001b[1;33m\u001b[0m\u001b[1;33m\u001b[0m\u001b[0m\n\u001b[1;32m---> 72\u001b[1;33m                                             **urlopen_kw)\n\u001b[0m\u001b[0;32m     73\u001b[0m \u001b[1;33m\u001b[0m\u001b[0m\n\u001b[0;32m     74\u001b[0m     def request_encode_url(self, method, url, fields=None, headers=None,\n",
      "\u001b[1;32mC:\\ProgramData\\Anaconda3\\lib\\site-packages\\urllib3\\request.py\u001b[0m in \u001b[0;36mrequest_encode_body\u001b[1;34m(self, method, url, fields, headers, encode_multipart, multipart_boundary, **urlopen_kw)\u001b[0m\n\u001b[0;32m    148\u001b[0m         \u001b[0mextra_kw\u001b[0m\u001b[1;33m.\u001b[0m\u001b[0mupdate\u001b[0m\u001b[1;33m(\u001b[0m\u001b[0murlopen_kw\u001b[0m\u001b[1;33m)\u001b[0m\u001b[1;33m\u001b[0m\u001b[1;33m\u001b[0m\u001b[0m\n\u001b[0;32m    149\u001b[0m \u001b[1;33m\u001b[0m\u001b[0m\n\u001b[1;32m--> 150\u001b[1;33m         \u001b[1;32mreturn\u001b[0m \u001b[0mself\u001b[0m\u001b[1;33m.\u001b[0m\u001b[0murlopen\u001b[0m\u001b[1;33m(\u001b[0m\u001b[0mmethod\u001b[0m\u001b[1;33m,\u001b[0m \u001b[0murl\u001b[0m\u001b[1;33m,\u001b[0m \u001b[1;33m**\u001b[0m\u001b[0mextra_kw\u001b[0m\u001b[1;33m)\u001b[0m\u001b[1;33m\u001b[0m\u001b[1;33m\u001b[0m\u001b[0m\n\u001b[0m",
      "\u001b[1;32mC:\\ProgramData\\Anaconda3\\lib\\site-packages\\urllib3\\poolmanager.py\u001b[0m in \u001b[0;36murlopen\u001b[1;34m(self, method, url, redirect, **kw)\u001b[0m\n\u001b[0;32m    322\u001b[0m             \u001b[0mresponse\u001b[0m \u001b[1;33m=\u001b[0m \u001b[0mconn\u001b[0m\u001b[1;33m.\u001b[0m\u001b[0murlopen\u001b[0m\u001b[1;33m(\u001b[0m\u001b[0mmethod\u001b[0m\u001b[1;33m,\u001b[0m \u001b[0murl\u001b[0m\u001b[1;33m,\u001b[0m \u001b[1;33m**\u001b[0m\u001b[0mkw\u001b[0m\u001b[1;33m)\u001b[0m\u001b[1;33m\u001b[0m\u001b[1;33m\u001b[0m\u001b[0m\n\u001b[0;32m    323\u001b[0m         \u001b[1;32melse\u001b[0m\u001b[1;33m:\u001b[0m\u001b[1;33m\u001b[0m\u001b[1;33m\u001b[0m\u001b[0m\n\u001b[1;32m--> 324\u001b[1;33m             \u001b[0mresponse\u001b[0m \u001b[1;33m=\u001b[0m \u001b[0mconn\u001b[0m\u001b[1;33m.\u001b[0m\u001b[0murlopen\u001b[0m\u001b[1;33m(\u001b[0m\u001b[0mmethod\u001b[0m\u001b[1;33m,\u001b[0m \u001b[0mu\u001b[0m\u001b[1;33m.\u001b[0m\u001b[0mrequest_uri\u001b[0m\u001b[1;33m,\u001b[0m \u001b[1;33m**\u001b[0m\u001b[0mkw\u001b[0m\u001b[1;33m)\u001b[0m\u001b[1;33m\u001b[0m\u001b[1;33m\u001b[0m\u001b[0m\n\u001b[0m\u001b[0;32m    325\u001b[0m \u001b[1;33m\u001b[0m\u001b[0m\n\u001b[0;32m    326\u001b[0m         \u001b[0mredirect_location\u001b[0m \u001b[1;33m=\u001b[0m \u001b[0mredirect\u001b[0m \u001b[1;32mand\u001b[0m \u001b[0mresponse\u001b[0m\u001b[1;33m.\u001b[0m\u001b[0mget_redirect_location\u001b[0m\u001b[1;33m(\u001b[0m\u001b[1;33m)\u001b[0m\u001b[1;33m\u001b[0m\u001b[1;33m\u001b[0m\u001b[0m\n",
      "\u001b[1;32mC:\\ProgramData\\Anaconda3\\lib\\site-packages\\urllib3\\connectionpool.py\u001b[0m in \u001b[0;36murlopen\u001b[1;34m(self, method, url, body, headers, retries, redirect, assert_same_host, timeout, pool_timeout, release_conn, chunked, body_pos, **response_kw)\u001b[0m\n\u001b[0;32m    598\u001b[0m                                                   \u001b[0mtimeout\u001b[0m\u001b[1;33m=\u001b[0m\u001b[0mtimeout_obj\u001b[0m\u001b[1;33m,\u001b[0m\u001b[1;33m\u001b[0m\u001b[1;33m\u001b[0m\u001b[0m\n\u001b[0;32m    599\u001b[0m                                                   \u001b[0mbody\u001b[0m\u001b[1;33m=\u001b[0m\u001b[0mbody\u001b[0m\u001b[1;33m,\u001b[0m \u001b[0mheaders\u001b[0m\u001b[1;33m=\u001b[0m\u001b[0mheaders\u001b[0m\u001b[1;33m,\u001b[0m\u001b[1;33m\u001b[0m\u001b[1;33m\u001b[0m\u001b[0m\n\u001b[1;32m--> 600\u001b[1;33m                                                   chunked=chunked)\n\u001b[0m\u001b[0;32m    601\u001b[0m \u001b[1;33m\u001b[0m\u001b[0m\n\u001b[0;32m    602\u001b[0m             \u001b[1;31m# If we're going to release the connection in ``finally:``, then\u001b[0m\u001b[1;33m\u001b[0m\u001b[1;33m\u001b[0m\u001b[1;33m\u001b[0m\u001b[0m\n",
      "\u001b[1;32mC:\\ProgramData\\Anaconda3\\lib\\site-packages\\urllib3\\connectionpool.py\u001b[0m in \u001b[0;36m_make_request\u001b[1;34m(self, conn, method, url, timeout, chunked, **httplib_request_kw)\u001b[0m\n\u001b[0;32m    378\u001b[0m             \u001b[1;32mexcept\u001b[0m \u001b[0mTypeError\u001b[0m\u001b[1;33m:\u001b[0m  \u001b[1;31m# Python 3\u001b[0m\u001b[1;33m\u001b[0m\u001b[1;33m\u001b[0m\u001b[0m\n\u001b[0;32m    379\u001b[0m                 \u001b[1;32mtry\u001b[0m\u001b[1;33m:\u001b[0m\u001b[1;33m\u001b[0m\u001b[1;33m\u001b[0m\u001b[0m\n\u001b[1;32m--> 380\u001b[1;33m                     \u001b[0mhttplib_response\u001b[0m \u001b[1;33m=\u001b[0m \u001b[0mconn\u001b[0m\u001b[1;33m.\u001b[0m\u001b[0mgetresponse\u001b[0m\u001b[1;33m(\u001b[0m\u001b[1;33m)\u001b[0m\u001b[1;33m\u001b[0m\u001b[1;33m\u001b[0m\u001b[0m\n\u001b[0m\u001b[0;32m    381\u001b[0m                 \u001b[1;32mexcept\u001b[0m \u001b[0mException\u001b[0m \u001b[1;32mas\u001b[0m \u001b[0me\u001b[0m\u001b[1;33m:\u001b[0m\u001b[1;33m\u001b[0m\u001b[1;33m\u001b[0m\u001b[0m\n\u001b[0;32m    382\u001b[0m                     \u001b[1;31m# Remove the TypeError from the exception chain in Python 3;\u001b[0m\u001b[1;33m\u001b[0m\u001b[1;33m\u001b[0m\u001b[1;33m\u001b[0m\u001b[0m\n",
      "\u001b[1;32mC:\\ProgramData\\Anaconda3\\lib\\http\\client.py\u001b[0m in \u001b[0;36mgetresponse\u001b[1;34m(self)\u001b[0m\n\u001b[0;32m   1334\u001b[0m         \u001b[1;32mtry\u001b[0m\u001b[1;33m:\u001b[0m\u001b[1;33m\u001b[0m\u001b[1;33m\u001b[0m\u001b[0m\n\u001b[0;32m   1335\u001b[0m             \u001b[1;32mtry\u001b[0m\u001b[1;33m:\u001b[0m\u001b[1;33m\u001b[0m\u001b[1;33m\u001b[0m\u001b[0m\n\u001b[1;32m-> 1336\u001b[1;33m                 \u001b[0mresponse\u001b[0m\u001b[1;33m.\u001b[0m\u001b[0mbegin\u001b[0m\u001b[1;33m(\u001b[0m\u001b[1;33m)\u001b[0m\u001b[1;33m\u001b[0m\u001b[1;33m\u001b[0m\u001b[0m\n\u001b[0m\u001b[0;32m   1337\u001b[0m             \u001b[1;32mexcept\u001b[0m \u001b[0mConnectionError\u001b[0m\u001b[1;33m:\u001b[0m\u001b[1;33m\u001b[0m\u001b[1;33m\u001b[0m\u001b[0m\n\u001b[0;32m   1338\u001b[0m                 \u001b[0mself\u001b[0m\u001b[1;33m.\u001b[0m\u001b[0mclose\u001b[0m\u001b[1;33m(\u001b[0m\u001b[1;33m)\u001b[0m\u001b[1;33m\u001b[0m\u001b[1;33m\u001b[0m\u001b[0m\n",
      "\u001b[1;32mC:\\ProgramData\\Anaconda3\\lib\\http\\client.py\u001b[0m in \u001b[0;36mbegin\u001b[1;34m(self)\u001b[0m\n\u001b[0;32m    304\u001b[0m         \u001b[1;31m# read until we get a non-100 response\u001b[0m\u001b[1;33m\u001b[0m\u001b[1;33m\u001b[0m\u001b[1;33m\u001b[0m\u001b[0m\n\u001b[0;32m    305\u001b[0m         \u001b[1;32mwhile\u001b[0m \u001b[1;32mTrue\u001b[0m\u001b[1;33m:\u001b[0m\u001b[1;33m\u001b[0m\u001b[1;33m\u001b[0m\u001b[0m\n\u001b[1;32m--> 306\u001b[1;33m             \u001b[0mversion\u001b[0m\u001b[1;33m,\u001b[0m \u001b[0mstatus\u001b[0m\u001b[1;33m,\u001b[0m \u001b[0mreason\u001b[0m \u001b[1;33m=\u001b[0m \u001b[0mself\u001b[0m\u001b[1;33m.\u001b[0m\u001b[0m_read_status\u001b[0m\u001b[1;33m(\u001b[0m\u001b[1;33m)\u001b[0m\u001b[1;33m\u001b[0m\u001b[1;33m\u001b[0m\u001b[0m\n\u001b[0m\u001b[0;32m    307\u001b[0m             \u001b[1;32mif\u001b[0m \u001b[0mstatus\u001b[0m \u001b[1;33m!=\u001b[0m \u001b[0mCONTINUE\u001b[0m\u001b[1;33m:\u001b[0m\u001b[1;33m\u001b[0m\u001b[1;33m\u001b[0m\u001b[0m\n\u001b[0;32m    308\u001b[0m                 \u001b[1;32mbreak\u001b[0m\u001b[1;33m\u001b[0m\u001b[1;33m\u001b[0m\u001b[0m\n",
      "\u001b[1;32mC:\\ProgramData\\Anaconda3\\lib\\http\\client.py\u001b[0m in \u001b[0;36m_read_status\u001b[1;34m(self)\u001b[0m\n\u001b[0;32m    265\u001b[0m \u001b[1;33m\u001b[0m\u001b[0m\n\u001b[0;32m    266\u001b[0m     \u001b[1;32mdef\u001b[0m \u001b[0m_read_status\u001b[0m\u001b[1;33m(\u001b[0m\u001b[0mself\u001b[0m\u001b[1;33m)\u001b[0m\u001b[1;33m:\u001b[0m\u001b[1;33m\u001b[0m\u001b[1;33m\u001b[0m\u001b[0m\n\u001b[1;32m--> 267\u001b[1;33m         \u001b[0mline\u001b[0m \u001b[1;33m=\u001b[0m \u001b[0mstr\u001b[0m\u001b[1;33m(\u001b[0m\u001b[0mself\u001b[0m\u001b[1;33m.\u001b[0m\u001b[0mfp\u001b[0m\u001b[1;33m.\u001b[0m\u001b[0mreadline\u001b[0m\u001b[1;33m(\u001b[0m\u001b[0m_MAXLINE\u001b[0m \u001b[1;33m+\u001b[0m \u001b[1;36m1\u001b[0m\u001b[1;33m)\u001b[0m\u001b[1;33m,\u001b[0m \u001b[1;34m\"iso-8859-1\"\u001b[0m\u001b[1;33m)\u001b[0m\u001b[1;33m\u001b[0m\u001b[1;33m\u001b[0m\u001b[0m\n\u001b[0m\u001b[0;32m    268\u001b[0m         \u001b[1;32mif\u001b[0m \u001b[0mlen\u001b[0m\u001b[1;33m(\u001b[0m\u001b[0mline\u001b[0m\u001b[1;33m)\u001b[0m \u001b[1;33m>\u001b[0m \u001b[0m_MAXLINE\u001b[0m\u001b[1;33m:\u001b[0m\u001b[1;33m\u001b[0m\u001b[1;33m\u001b[0m\u001b[0m\n\u001b[0;32m    269\u001b[0m             \u001b[1;32mraise\u001b[0m \u001b[0mLineTooLong\u001b[0m\u001b[1;33m(\u001b[0m\u001b[1;34m\"status line\"\u001b[0m\u001b[1;33m)\u001b[0m\u001b[1;33m\u001b[0m\u001b[1;33m\u001b[0m\u001b[0m\n",
      "\u001b[1;32mC:\\ProgramData\\Anaconda3\\lib\\socket.py\u001b[0m in \u001b[0;36mreadinto\u001b[1;34m(self, b)\u001b[0m\n\u001b[0;32m    587\u001b[0m         \u001b[1;32mwhile\u001b[0m \u001b[1;32mTrue\u001b[0m\u001b[1;33m:\u001b[0m\u001b[1;33m\u001b[0m\u001b[1;33m\u001b[0m\u001b[0m\n\u001b[0;32m    588\u001b[0m             \u001b[1;32mtry\u001b[0m\u001b[1;33m:\u001b[0m\u001b[1;33m\u001b[0m\u001b[1;33m\u001b[0m\u001b[0m\n\u001b[1;32m--> 589\u001b[1;33m                 \u001b[1;32mreturn\u001b[0m \u001b[0mself\u001b[0m\u001b[1;33m.\u001b[0m\u001b[0m_sock\u001b[0m\u001b[1;33m.\u001b[0m\u001b[0mrecv_into\u001b[0m\u001b[1;33m(\u001b[0m\u001b[0mb\u001b[0m\u001b[1;33m)\u001b[0m\u001b[1;33m\u001b[0m\u001b[1;33m\u001b[0m\u001b[0m\n\u001b[0m\u001b[0;32m    590\u001b[0m             \u001b[1;32mexcept\u001b[0m \u001b[0mtimeout\u001b[0m\u001b[1;33m:\u001b[0m\u001b[1;33m\u001b[0m\u001b[1;33m\u001b[0m\u001b[0m\n\u001b[0;32m    591\u001b[0m                 \u001b[0mself\u001b[0m\u001b[1;33m.\u001b[0m\u001b[0m_timeout_occurred\u001b[0m \u001b[1;33m=\u001b[0m \u001b[1;32mTrue\u001b[0m\u001b[1;33m\u001b[0m\u001b[1;33m\u001b[0m\u001b[0m\n",
      "\u001b[1;31mKeyboardInterrupt\u001b[0m: "
     ]
    }
   ],
   "source": [
    "browser = webdriver.Firefox()\n",
    "browser.get(\"https://hkg.agoda.com/zh-tw/search?asq=4oI%2FMUcWtaTA3fKh8%2F12VysLs8HBOYxs%2BeCgsfLhorO%2Fsj4dDe3twvmgjQ05cJNi%2BTV5Y12Awa8gki%2F%2BoSoWJfX%2BxOVP1rUXt3kvUaWA38t%2FOstnUwx0hZTIOSP3w7XqHUYzT5KXLdOHxeTRZP1x2K%2B6k4BN15RfLh3PihVd0zNl0xQ3Z98XfNVxgH6afdV0dKT8zx5W5BioMdUuG%2F%2Fqg4YZQcsOcVRuazZjlpA1uWw%3D&city=4951&cid=1826371&tick=637132961282&languageId=20&userId=ab3a16fa-65bc-47a2-9cdd-41d1dda2337e&sessionId=rek5iuu5m2uwnutrzfca42we&pageTypeId=103&origin=TW&locale=zh-TW&tag=ab92ca0a-b803-8f27-c188-fe307db02490&gclid=CjwKCAiAuqHwBRAQEiwAD-zr3V4Zf_9fHqQ_QPGRK9OaQp_BrwbhqPweDC-chMr3w665TY8GjFYubhoCErMQAvD_BwE&aid=82361&currencyCode=TWD&htmlLanguage=zh-tw&cultureInfoName=zh-TW&ckuid=ab3a16fa-65bc-47a2-9cdd-41d1dda2337e&prid=0&checkIn=2020-01-07&checkOut=2020-01-08&rooms=1&adults=1&children=0&priceCur=TWD&los=1&textToSearch=%E5%8F%B0%E5%8C%97%E5%B8%82&travellerType=0&familyMode=off&ro=C00000&productType=1&hotelStarRating=4&sort=agodaRecommended\")\n",
    "http=[]    \n",
    "browser.execute_script(\"window.scrollTo(0,1506)\")\n",
    "browser.execute_script(\"window.scrollTo(0,3185.39990234375)\")\n",
    "browser.execute_script(\"window.scrollTo(0,3873)\")\n",
    "browser.execute_script(\"window.scrollTo(0,4822.2001953125)\")\n",
    "browser.execute_script(\"window.scrollTo(0,6189)\")\n",
    "browser.execute_script(\"window.scrollTo(0,7017.60009765625)\")\n",
    "browser.execute_script(\"window.scrollTo(0,7994.39990234375)\")\n",
    "browser.execute_script(\"window.scrollTo(0,8772.599609375)\")\n",
    "browser.execute_script(\"window.scrollTo(0,9550.2001953125)\")\n",
    "browser.execute_script(\"window.scrollTo(0,10392)\")\n",
    "browser.execute_script(\"window.scrollTo(0,12255)\")\n",
    "browser.execute_script(\"window.scrollTo(0,13140.599609375)\")\n",
    "browser.execute_script(\"window.scrollTo(0,14139.599609375)\")\n",
    "browser.execute_script(\"window.scrollTo(0,15027.599609375)\")\n",
    "browser.execute_script(\"window.scrollTo(0,16029.599609375)\")\n",
    "browser.execute_script(\"window.scrollTo(0,17095.80078125)\")\n",
    "browser.execute_script(\"window.scrollTo(0,18708)\")\n",
    "browser.execute_script(\"window.scrollTo(0,20350.19921875)\")\n",
    "browser.execute_script(\"window.scrollTo(0,21402)\")\n",
    "browser.execute_script(\"window.scrollTo(0,22849.80078125)\")\n",
    "browser.execute_script(\"window.scrollTo(0,24066)\")\n",
    "browser.execute_script(\"window.scrollTo(0,25578.599609375)\")\n",
    "browser.execute_script(\"window.scrollTo(0,27189.599609375)\")\n",
    "browser.execute_script(\"window.scrollTo(0,27613.80078125)\")\n",
    "browser.execute_script(\"window.scrollTo(0,28394.400390625)\")\n",
    "browser.execute_script(\"window.scrollTo(0,29979.599609375)\")\n",
    "browser.execute_script(\"window.scrollTo(0,31002.599609375)\")\n",
    "browser.execute_script(\"window.scrollTo(0,31837.19921875)\")\n",
    "browser.execute_script(\"window.scrollTo(0,31688.400390625)\")\n",
    "browser.execute_script(\"window.scrollTo(0,31665.599609375)\")\n",
    "browser.execute_script(\"window.scrollTo(0, document.body.scrollHeight)\")\n",
    "time.sleep(2)\n",
    "soup = BeautifulSoup(browser.page_source)\n",
    "for ele in soup.select(\".PropertyCardItem.ssr-search-result a\"):    \n",
    "    http.append(\"https://www.agoda.com\"+ele.get(\"href\"))\n",
    "browser.close()\n",
    "comment=[]\n",
    "score=[]\n",
    "for i in http:\n",
    "    url=i\n",
    "    browser = webdriver.Firefox()\n",
    "    browser.get(url)\n",
    "    browser.execute_script(\"window.scrollTo(0, document.body.scrollHeight)\")\n",
    "    time.sleep(5)\n",
    "    if  len(soup.select(\".HeaderCerebrum h1\"))==0:\n",
    "\n",
    "        browser.execute_script(\"window.scrollTo(0, document.body.scrollHeight)\")\n",
    "        time.sleep(1)\n",
    "        browser.find_element_by_css_selector(\"span.Searchbox__searchButton__text\").click()\n",
    "        soup = BeautifulSoup(browser.page_source)\n",
    "\n",
    "        for ele in soup.select(\".Review-comment\"):\n",
    "            for ele1 in ele.select(\".Review-comment-leftScore\"):\n",
    "\n",
    "                for ele2 in ele.select(\".Review-comment-bodyText\"):\n",
    "                    if len(ele1.text)*len(ele2.text)!=0:\n",
    "\n",
    "                        score.append(ele1.text)\n",
    "                        comment.append(ele2.text)\n",
    "    else:\n",
    "        pass\n",
    "\n",
    "    browser.close()\n"
   ]
  },
  {
   "cell_type": "code",
   "execution_count": 156,
   "metadata": {
    "scrolled": true
   },
   "outputs": [
    {
     "ename": "ElementClickInterceptedException",
     "evalue": "Message: Element <button id=\"paginationNext\" class=\"btn pagination2__next\"> is not clickable at point (1119,68) because another element <div class=\"SearchboxBackdrop\"> obscures it\n",
     "output_type": "error",
     "traceback": [
      "\u001b[1;31m---------------------------------------------------------------------------\u001b[0m",
      "\u001b[1;31mElementClickInterceptedException\u001b[0m          Traceback (most recent call last)",
      "\u001b[1;32m<ipython-input-156-8b93690fd4d9>\u001b[0m in \u001b[0;36m<module>\u001b[1;34m\u001b[0m\n\u001b[0;32m     47\u001b[0m \u001b[0mtime\u001b[0m\u001b[1;33m.\u001b[0m\u001b[0msleep\u001b[0m\u001b[1;33m(\u001b[0m\u001b[1;36m5\u001b[0m\u001b[1;33m)\u001b[0m\u001b[1;33m\u001b[0m\u001b[1;33m\u001b[0m\u001b[0m\n\u001b[0;32m     48\u001b[0m \u001b[0mnextPage\u001b[0m \u001b[1;33m=\u001b[0m \u001b[0mbrowser\u001b[0m\u001b[1;33m.\u001b[0m\u001b[0mfind_element_by_xpath\u001b[0m\u001b[1;33m(\u001b[0m\u001b[1;34m'//*[@id=\"paginationNext\"]'\u001b[0m\u001b[1;33m)\u001b[0m\u001b[1;33m\u001b[0m\u001b[1;33m\u001b[0m\u001b[0m\n\u001b[1;32m---> 49\u001b[1;33m \u001b[0mnextPage\u001b[0m\u001b[1;33m.\u001b[0m\u001b[0mclick\u001b[0m\u001b[1;33m(\u001b[0m\u001b[1;33m)\u001b[0m\u001b[1;33m\u001b[0m\u001b[1;33m\u001b[0m\u001b[0m\n\u001b[0m\u001b[0;32m     50\u001b[0m \u001b[1;33m\u001b[0m\u001b[0m\n\u001b[0;32m     51\u001b[0m \u001b[1;33m\u001b[0m\u001b[0m\n",
      "\u001b[1;32mC:\\ProgramData\\Anaconda3\\lib\\site-packages\\selenium\\webdriver\\remote\\webelement.py\u001b[0m in \u001b[0;36mclick\u001b[1;34m(self)\u001b[0m\n\u001b[0;32m     78\u001b[0m     \u001b[1;32mdef\u001b[0m \u001b[0mclick\u001b[0m\u001b[1;33m(\u001b[0m\u001b[0mself\u001b[0m\u001b[1;33m)\u001b[0m\u001b[1;33m:\u001b[0m\u001b[1;33m\u001b[0m\u001b[1;33m\u001b[0m\u001b[0m\n\u001b[0;32m     79\u001b[0m         \u001b[1;34m\"\"\"Clicks the element.\"\"\"\u001b[0m\u001b[1;33m\u001b[0m\u001b[1;33m\u001b[0m\u001b[0m\n\u001b[1;32m---> 80\u001b[1;33m         \u001b[0mself\u001b[0m\u001b[1;33m.\u001b[0m\u001b[0m_execute\u001b[0m\u001b[1;33m(\u001b[0m\u001b[0mCommand\u001b[0m\u001b[1;33m.\u001b[0m\u001b[0mCLICK_ELEMENT\u001b[0m\u001b[1;33m)\u001b[0m\u001b[1;33m\u001b[0m\u001b[1;33m\u001b[0m\u001b[0m\n\u001b[0m\u001b[0;32m     81\u001b[0m \u001b[1;33m\u001b[0m\u001b[0m\n\u001b[0;32m     82\u001b[0m     \u001b[1;32mdef\u001b[0m \u001b[0msubmit\u001b[0m\u001b[1;33m(\u001b[0m\u001b[0mself\u001b[0m\u001b[1;33m)\u001b[0m\u001b[1;33m:\u001b[0m\u001b[1;33m\u001b[0m\u001b[1;33m\u001b[0m\u001b[0m\n",
      "\u001b[1;32mC:\\ProgramData\\Anaconda3\\lib\\site-packages\\selenium\\webdriver\\remote\\webelement.py\u001b[0m in \u001b[0;36m_execute\u001b[1;34m(self, command, params)\u001b[0m\n\u001b[0;32m    631\u001b[0m             \u001b[0mparams\u001b[0m \u001b[1;33m=\u001b[0m \u001b[1;33m{\u001b[0m\u001b[1;33m}\u001b[0m\u001b[1;33m\u001b[0m\u001b[1;33m\u001b[0m\u001b[0m\n\u001b[0;32m    632\u001b[0m         \u001b[0mparams\u001b[0m\u001b[1;33m[\u001b[0m\u001b[1;34m'id'\u001b[0m\u001b[1;33m]\u001b[0m \u001b[1;33m=\u001b[0m \u001b[0mself\u001b[0m\u001b[1;33m.\u001b[0m\u001b[0m_id\u001b[0m\u001b[1;33m\u001b[0m\u001b[1;33m\u001b[0m\u001b[0m\n\u001b[1;32m--> 633\u001b[1;33m         \u001b[1;32mreturn\u001b[0m \u001b[0mself\u001b[0m\u001b[1;33m.\u001b[0m\u001b[0m_parent\u001b[0m\u001b[1;33m.\u001b[0m\u001b[0mexecute\u001b[0m\u001b[1;33m(\u001b[0m\u001b[0mcommand\u001b[0m\u001b[1;33m,\u001b[0m \u001b[0mparams\u001b[0m\u001b[1;33m)\u001b[0m\u001b[1;33m\u001b[0m\u001b[1;33m\u001b[0m\u001b[0m\n\u001b[0m\u001b[0;32m    634\u001b[0m \u001b[1;33m\u001b[0m\u001b[0m\n\u001b[0;32m    635\u001b[0m     \u001b[1;32mdef\u001b[0m \u001b[0mfind_element\u001b[0m\u001b[1;33m(\u001b[0m\u001b[0mself\u001b[0m\u001b[1;33m,\u001b[0m \u001b[0mby\u001b[0m\u001b[1;33m=\u001b[0m\u001b[0mBy\u001b[0m\u001b[1;33m.\u001b[0m\u001b[0mID\u001b[0m\u001b[1;33m,\u001b[0m \u001b[0mvalue\u001b[0m\u001b[1;33m=\u001b[0m\u001b[1;32mNone\u001b[0m\u001b[1;33m)\u001b[0m\u001b[1;33m:\u001b[0m\u001b[1;33m\u001b[0m\u001b[1;33m\u001b[0m\u001b[0m\n",
      "\u001b[1;32mC:\\ProgramData\\Anaconda3\\lib\\site-packages\\selenium\\webdriver\\remote\\webdriver.py\u001b[0m in \u001b[0;36mexecute\u001b[1;34m(self, driver_command, params)\u001b[0m\n\u001b[0;32m    319\u001b[0m         \u001b[0mresponse\u001b[0m \u001b[1;33m=\u001b[0m \u001b[0mself\u001b[0m\u001b[1;33m.\u001b[0m\u001b[0mcommand_executor\u001b[0m\u001b[1;33m.\u001b[0m\u001b[0mexecute\u001b[0m\u001b[1;33m(\u001b[0m\u001b[0mdriver_command\u001b[0m\u001b[1;33m,\u001b[0m \u001b[0mparams\u001b[0m\u001b[1;33m)\u001b[0m\u001b[1;33m\u001b[0m\u001b[1;33m\u001b[0m\u001b[0m\n\u001b[0;32m    320\u001b[0m         \u001b[1;32mif\u001b[0m \u001b[0mresponse\u001b[0m\u001b[1;33m:\u001b[0m\u001b[1;33m\u001b[0m\u001b[1;33m\u001b[0m\u001b[0m\n\u001b[1;32m--> 321\u001b[1;33m             \u001b[0mself\u001b[0m\u001b[1;33m.\u001b[0m\u001b[0merror_handler\u001b[0m\u001b[1;33m.\u001b[0m\u001b[0mcheck_response\u001b[0m\u001b[1;33m(\u001b[0m\u001b[0mresponse\u001b[0m\u001b[1;33m)\u001b[0m\u001b[1;33m\u001b[0m\u001b[1;33m\u001b[0m\u001b[0m\n\u001b[0m\u001b[0;32m    322\u001b[0m             response['value'] = self._unwrap_value(\n\u001b[0;32m    323\u001b[0m                 response.get('value', None))\n",
      "\u001b[1;32mC:\\ProgramData\\Anaconda3\\lib\\site-packages\\selenium\\webdriver\\remote\\errorhandler.py\u001b[0m in \u001b[0;36mcheck_response\u001b[1;34m(self, response)\u001b[0m\n\u001b[0;32m    240\u001b[0m                 \u001b[0malert_text\u001b[0m \u001b[1;33m=\u001b[0m \u001b[0mvalue\u001b[0m\u001b[1;33m[\u001b[0m\u001b[1;34m'alert'\u001b[0m\u001b[1;33m]\u001b[0m\u001b[1;33m.\u001b[0m\u001b[0mget\u001b[0m\u001b[1;33m(\u001b[0m\u001b[1;34m'text'\u001b[0m\u001b[1;33m)\u001b[0m\u001b[1;33m\u001b[0m\u001b[1;33m\u001b[0m\u001b[0m\n\u001b[0;32m    241\u001b[0m             \u001b[1;32mraise\u001b[0m \u001b[0mexception_class\u001b[0m\u001b[1;33m(\u001b[0m\u001b[0mmessage\u001b[0m\u001b[1;33m,\u001b[0m \u001b[0mscreen\u001b[0m\u001b[1;33m,\u001b[0m \u001b[0mstacktrace\u001b[0m\u001b[1;33m,\u001b[0m \u001b[0malert_text\u001b[0m\u001b[1;33m)\u001b[0m\u001b[1;33m\u001b[0m\u001b[1;33m\u001b[0m\u001b[0m\n\u001b[1;32m--> 242\u001b[1;33m         \u001b[1;32mraise\u001b[0m \u001b[0mexception_class\u001b[0m\u001b[1;33m(\u001b[0m\u001b[0mmessage\u001b[0m\u001b[1;33m,\u001b[0m \u001b[0mscreen\u001b[0m\u001b[1;33m,\u001b[0m \u001b[0mstacktrace\u001b[0m\u001b[1;33m)\u001b[0m\u001b[1;33m\u001b[0m\u001b[1;33m\u001b[0m\u001b[0m\n\u001b[0m\u001b[0;32m    243\u001b[0m \u001b[1;33m\u001b[0m\u001b[0m\n\u001b[0;32m    244\u001b[0m     \u001b[1;32mdef\u001b[0m \u001b[0m_value_or_default\u001b[0m\u001b[1;33m(\u001b[0m\u001b[0mself\u001b[0m\u001b[1;33m,\u001b[0m \u001b[0mobj\u001b[0m\u001b[1;33m,\u001b[0m \u001b[0mkey\u001b[0m\u001b[1;33m,\u001b[0m \u001b[0mdefault\u001b[0m\u001b[1;33m)\u001b[0m\u001b[1;33m:\u001b[0m\u001b[1;33m\u001b[0m\u001b[1;33m\u001b[0m\u001b[0m\n",
      "\u001b[1;31mElementClickInterceptedException\u001b[0m: Message: Element <button id=\"paginationNext\" class=\"btn pagination2__next\"> is not clickable at point (1119,68) because another element <div class=\"SearchboxBackdrop\"> obscures it\n"
     ]
    }
   ],
   "source": [
    "browser = webdriver.Firefox()\n",
    "browser.get(\"https://hkg.agoda.com/zh-tw/search?asq=4oI%2FMUcWtaTA3fKh8%2F12VysLs8HBOYxs%2BeCgsfLhorO%2Fsj4dDe3twvmgjQ05cJNi%2BTV5Y12Awa8gki%2F%2BoSoWJfX%2BxOVP1rUXt3kvUaWA38t%2FOstnUwx0hZTIOSP3w7XqHUYzT5KXLdOHxeTRZP1x2K%2B6k4BN15RfLh3PihVd0zNl0xQ3Z98XfNVxgH6afdV0dKT8zx5W5BioMdUuG%2F%2Fqg4YZQcsOcVRuazZjlpA1uWw%3D&city=4951&cid=1826371&tick=637132961282&languageId=20&userId=ab3a16fa-65bc-47a2-9cdd-41d1dda2337e&sessionId=rek5iuu5m2uwnutrzfca42we&pageTypeId=103&origin=TW&locale=zh-TW&tag=ab92ca0a-b803-8f27-c188-fe307db02490&gclid=CjwKCAiAuqHwBRAQEiwAD-zr3V4Zf_9fHqQ_QPGRK9OaQp_BrwbhqPweDC-chMr3w665TY8GjFYubhoCErMQAvD_BwE&aid=82361&currencyCode=TWD&htmlLanguage=zh-tw&cultureInfoName=zh-TW&ckuid=ab3a16fa-65bc-47a2-9cdd-41d1dda2337e&prid=0&checkIn=2020-01-07&checkOut=2020-01-08&rooms=1&adults=1&children=0&priceCur=TWD&los=1&textToSearch=%E5%8F%B0%E5%8C%97%E5%B8%82&travellerType=0&familyMode=off&ro=C00000&productType=1&hotelStarRating=4&sort=agodaRecommended\")\n",
    "http=[] \n",
    "browser.execute_script(\"window.scrollTo(0,90.66666412353516)\")\n",
    "browser.execute_script(\"window.scrollTo(0,388)\")\n",
    "browser.execute_script(\"window.scrollTo(0,836.6666870117188)\")\n",
    "browser.execute_script(\"window.scrollTo(0,1169.3333740234375)\")\n",
    "browser.execute_script(\"window.scrollTo(0,2276)\")\n",
    "browser.execute_script(\"window.scrollTo(0,2903.333251953125)\")\n",
    "browser.execute_script(\"window.scrollTo(0,3696)\")\n",
    "browser.execute_script(\"window.scrollTo(0,4164.66650390625)\")\n",
    "browser.execute_script(\"window.scrollTo(0,4814)\")\n",
    "browser.execute_script(\"window.scrollTo(0,5261.33349609375)\")\n",
    "browser.execute_script(\"window.scrollTo(0,6000.66650390625)\")\n",
    "browser.execute_script(\"window.scrollTo(0,6578)\")\n",
    "browser.execute_script(\"window.scrollTo(0,7451.33349609375)\")\n",
    "browser.execute_script(\"window.scrollTo(0,8339.3330078125)\")\n",
    "browser.execute_script(\"window.scrollTo(0,9155.3330078125)\")\n",
    "browser.execute_script(\"window.scrollTo(0,10041.3330078125)\")\n",
    "browser.execute_script(\"window.scrollTo(0,10615.3330078125)\")\n",
    "browser.execute_script(\"window.scrollTo(0,11138)\")\n",
    "browser.execute_script(\"window.scrollTo(0,11704)\")\n",
    "browser.execute_script(\"window.scrollTo(0,12222.6669921875)\")\n",
    "browser.execute_script(\"window.scrollTo(0,12996)\")\n",
    "browser.execute_script(\"window.scrollTo(0,14907.3330078125)\")\n",
    "browser.execute_script(\"window.scrollTo(0,15895.3330078125)\")\n",
    "browser.execute_script(\"window.scrollTo(0,18212)\")\n",
    "browser.execute_script(\"window.scrollTo(0,19273.333984375)\")\n",
    "browser.execute_script(\"window.scrollTo(0,19392)\")\n",
    "browser.execute_script(\"window.scrollTo(0,21073.333984375)\")\n",
    "browser.execute_script(\"window.scrollTo(0,22273.333984375)\")\n",
    "browser.execute_script(\"window.scrollTo(0,23367.333984375)\")\n",
    "browser.execute_script(\"window.scrollTo(0,23873.333984375)\")\n",
    "browser.execute_script(\"window.scrollTo(0,25273.333984375)\")\n",
    "browser.execute_script(\"window.scrollTo(0,26297.333984375)\")\n",
    "browser.execute_script(\"window.scrollTo(0,27280)\")\n",
    "browser.execute_script(\"window.scrollTo(0,28373.333984375)\")\n",
    "browser.execute_script(\"window.scrollTo(0,29373.333984375)\")\n",
    "time.sleep(1)\n",
    "soup = BeautifulSoup(browser.page_source)\n",
    "\n",
    "for ele in soup.select(\".PropertyCardItem.ssr-search-result a\"):    \n",
    "    http.append(\"https://www.agoda.com\"+ele.get(\"href\"))\n",
    "    \n",
    "# browser.find_element_by_xpath('//*[@id=\"paginationNext\"]')\n",
    "\n",
    "time.sleep(5)\n",
    "nextPage = browser.find_element_by_xpath('//*[@id=\"paginationNext\"]')\n",
    "nextPage.click()\n",
    "\n",
    "\n",
    "for ele in soup.select(\".PropertyCardItem.ssr-search-result a\"):    \n",
    "    http.append(\"https://www.agoda.com\"+ele.get(\"href\"))\n",
    "\n",
    "browser.close()\n"
   ]
  },
  {
   "cell_type": "code",
   "execution_count": null,
   "metadata": {},
   "outputs": [],
   "source": [
    "\n",
    "titles = driver.find_elements_by_xpath(\"//div[@class='div_title text_view']\")\n",
    "for u in titles:\n",
    "    print u.text\n",
    "#超链接\n",
    "urls = driver.find_elements_by_xpath(\"//div[@class='div_title text_view']/a\")\n",
    "for u in urls:\n",
    "    print u.get_attribute(\"href\")\n",
    "#时间\n",
    "times = driver.find_elements_by_xpath(\"//table[@class='table table-hover']/tbody/tr/td[2]\")\n",
    "for u in times:\n",
    "    print u.text\n",
    "#地点\n",
    "places = driver.find_elements_by_xpath(\"//table[@class='table table-hover']/tbody/tr/td[3]\")\n",
    "for u in places:\n",
    "    print u.text\n",
    " \n",
    " \n",
    "#点击下一页\n",
    "nextPage = driver.find_element_by_xpath(\"//ul[@class='pagination']/li[9]/a\")\n",
    "print nextPage.text\n",
    "nextPage.click()\n",
    "time.sleep(5)\n",
    " \n",
    "#爬取第2页数据\n",
    "content = driver.find_elements_by_xpath(\"//div[@class='div_title text_view']\")\n",
    "for u in content:\n",
    "\n",
    "————————————————\n",
    "版权声明：本文为CSDN博主「Eastmount」的原创文章，遵循 CC 4.0 BY-SA 版权协议，转载请附上原文出处链接及本声明。\n",
    "原文链接：https://blog.csdn.net/Eastmount/article/details/80088948"
   ]
  },
  {
   "cell_type": "code",
   "execution_count": 149,
   "metadata": {},
   "outputs": [
    {
     "data": {
      "text/plain": [
       "1"
      ]
     },
     "execution_count": 149,
     "metadata": {},
     "output_type": "execute_result"
    }
   ],
   "source": [
    "browser = webdriver.Firefox()\n",
    "browser.get(\"https://hkg.agoda.com/zh-tw/search?asq=4oI%2FMUcWtaTA3fKh8%2F12VysLs8HBOYxs%2BeCgsfLhorO%2Fsj4dDe3twvmgjQ05cJNi%2BTV5Y12Awa8gki%2F%2BoSoWJfX%2BxOVP1rUXt3kvUaWA38t%2FOstnUwx0hZTIOSP3w7XqHUYzT5KXLdOHxeTRZP1x2K%2B6k4BN15RfLh3PihVd0zNl0xQ3Z98XfNVxgH6afdV0dKT8zx5W5BioMdUuG%2F%2Fqg4YZQcsOcVRuazZjlpA1uWw%3D&city=4951&cid=1826371&tick=637132961282&languageId=20&userId=ab3a16fa-65bc-47a2-9cdd-41d1dda2337e&sessionId=rek5iuu5m2uwnutrzfca42we&pageTypeId=103&origin=TW&locale=zh-TW&tag=ab92ca0a-b803-8f27-c188-fe307db02490&gclid=CjwKCAiAuqHwBRAQEiwAD-zr3V4Zf_9fHqQ_QPGRK9OaQp_BrwbhqPweDC-chMr3w665TY8GjFYubhoCErMQAvD_BwE&aid=82361&currencyCode=TWD&htmlLanguage=zh-tw&cultureInfoName=zh-TW&ckuid=ab3a16fa-65bc-47a2-9cdd-41d1dda2337e&prid=0&checkIn=2020-01-07&checkOut=2020-01-08&rooms=1&adults=1&children=0&priceCur=TWD&los=1&textToSearch=%E5%8F%B0%E5%8C%97%E5%B8%82&travellerType=0&familyMode=off&ro=C00000&productType=1&hotelStarRating=4&sort=agodaRecommended\")\n",
    "soup = BeautifulSoup(browser.page_source)\n",
    "len(soup.select(\".btn.pagination2__next\"))"
   ]
  },
  {
   "cell_type": "code",
   "execution_count": 150,
   "metadata": {},
   "outputs": [
    {
     "data": {
      "text/plain": [
       "1"
      ]
     },
     "execution_count": 150,
     "metadata": {},
     "output_type": "execute_result"
    }
   ],
   "source": [
    "browser = webdriver.Firefox()\n",
    "browser.get(\"https://hkg.agoda.com/zh-tw/search?asq=4oI%2FMUcWtaTA3fKh8%2F12VysLs8HBOYxs%2BeCgsfLhorO%2Fsj4dDe3twvmgjQ05cJNi%2BTV5Y12Awa8gki%2F%2BoSoWJfX%2BxOVP1rUXt3kvUaWA38t%2FOstnUwx0hZTIOSP3w7XqHUYzT5KXLdOHxeTRZP1x2K%2B6k4BN15RfLh3PihVd0zNl0xQ3Z98XfNVxgH6afdV0dKT8zx5W5BioMdUuG%2F%2Fqg4YZQcsOcVRuazZjlpA1uWw%3D&city=4951&cid=1826371&tick=637132961282&languageId=20&userId=ab3a16fa-65bc-47a2-9cdd-41d1dda2337e&sessionId=rek5iuu5m2uwnutrzfca42we&pageTypeId=103&origin=TW&locale=zh-TW&tag=ab92ca0a-b803-8f27-c188-fe307db02490&gclid=CjwKCAiAuqHwBRAQEiwAD-zr3V4Zf_9fHqQ_QPGRK9OaQp_BrwbhqPweDC-chMr3w665TY8GjFYubhoCErMQAvD_BwE&aid=82361&currencyCode=TWD&htmlLanguage=zh-tw&cultureInfoName=zh-TW&ckuid=ab3a16fa-65bc-47a2-9cdd-41d1dda2337e&prid=0&checkIn=2020-01-07&checkOut=2020-01-08&rooms=1&adults=1&children=0&priceCur=TWD&los=1&textToSearch=%E5%8F%B0%E5%8C%97%E5%B8%82&travellerType=0&familyMode=off&ro=C00000&productType=1&hotelStarRating=4&sort=agodaRecommended\")\n",
    "soup = BeautifulSoup(browser.page_source)\n",
    "len(soup.select(\".btn.pagination2__next\"))"
   ]
  },
  {
   "cell_type": "code",
   "execution_count": 148,
   "metadata": {},
   "outputs": [
    {
     "data": {
      "text/plain": [
       "0"
      ]
     },
     "execution_count": 148,
     "metadata": {},
     "output_type": "execute_result"
    }
   ],
   "source": [
    "len(http)"
   ]
  },
  {
   "cell_type": "code",
   "execution_count": 120,
   "metadata": {},
   "outputs": [
    {
     "name": "stdout",
     "output_type": "stream",
     "text": [
      "1\n",
      "1\n",
      "1\n",
      "1\n",
      "1\n",
      "1\n"
     ]
    },
    {
     "ename": "KeyboardInterrupt",
     "evalue": "",
     "output_type": "error",
     "traceback": [
      "\u001b[1;31m---------------------------------------------------------------------------\u001b[0m",
      "\u001b[1;31mTypeError\u001b[0m                                 Traceback (most recent call last)",
      "\u001b[1;32mC:\\ProgramData\\Anaconda3\\lib\\site-packages\\urllib3\\connectionpool.py\u001b[0m in \u001b[0;36m_make_request\u001b[1;34m(self, conn, method, url, timeout, chunked, **httplib_request_kw)\u001b[0m\n\u001b[0;32m    376\u001b[0m             \u001b[1;32mtry\u001b[0m\u001b[1;33m:\u001b[0m  \u001b[1;31m# Python 2.7, use buffering of HTTP responses\u001b[0m\u001b[1;33m\u001b[0m\u001b[1;33m\u001b[0m\u001b[0m\n\u001b[1;32m--> 377\u001b[1;33m                 \u001b[0mhttplib_response\u001b[0m \u001b[1;33m=\u001b[0m \u001b[0mconn\u001b[0m\u001b[1;33m.\u001b[0m\u001b[0mgetresponse\u001b[0m\u001b[1;33m(\u001b[0m\u001b[0mbuffering\u001b[0m\u001b[1;33m=\u001b[0m\u001b[1;32mTrue\u001b[0m\u001b[1;33m)\u001b[0m\u001b[1;33m\u001b[0m\u001b[1;33m\u001b[0m\u001b[0m\n\u001b[0m\u001b[0;32m    378\u001b[0m             \u001b[1;32mexcept\u001b[0m \u001b[0mTypeError\u001b[0m\u001b[1;33m:\u001b[0m  \u001b[1;31m# Python 3\u001b[0m\u001b[1;33m\u001b[0m\u001b[1;33m\u001b[0m\u001b[0m\n",
      "\u001b[1;31mTypeError\u001b[0m: getresponse() got an unexpected keyword argument 'buffering'",
      "\nDuring handling of the above exception, another exception occurred:\n",
      "\u001b[1;31mKeyboardInterrupt\u001b[0m                         Traceback (most recent call last)",
      "\u001b[1;32m<ipython-input-120-d83eb686bb95>\u001b[0m in \u001b[0;36m<module>\u001b[1;34m\u001b[0m\n\u001b[0;32m      4\u001b[0m     \u001b[0murl\u001b[0m\u001b[1;33m=\u001b[0m\u001b[0mi\u001b[0m\u001b[1;33m\u001b[0m\u001b[1;33m\u001b[0m\u001b[0m\n\u001b[0;32m      5\u001b[0m     \u001b[0mbrowser\u001b[0m \u001b[1;33m=\u001b[0m \u001b[0mwebdriver\u001b[0m\u001b[1;33m.\u001b[0m\u001b[0mFirefox\u001b[0m\u001b[1;33m(\u001b[0m\u001b[1;33m)\u001b[0m\u001b[1;33m\u001b[0m\u001b[1;33m\u001b[0m\u001b[0m\n\u001b[1;32m----> 6\u001b[1;33m     \u001b[0mbrowser\u001b[0m\u001b[1;33m.\u001b[0m\u001b[0mget\u001b[0m\u001b[1;33m(\u001b[0m\u001b[0murl\u001b[0m\u001b[1;33m)\u001b[0m\u001b[1;33m\u001b[0m\u001b[1;33m\u001b[0m\u001b[0m\n\u001b[0m\u001b[0;32m      7\u001b[0m     \u001b[0mbrowser\u001b[0m\u001b[1;33m.\u001b[0m\u001b[0mexecute_script\u001b[0m\u001b[1;33m(\u001b[0m\u001b[1;34m\"window.scrollTo(0, document.body.scrollHeight)\"\u001b[0m\u001b[1;33m)\u001b[0m\u001b[1;33m\u001b[0m\u001b[1;33m\u001b[0m\u001b[0m\n\u001b[0;32m      8\u001b[0m     \u001b[0mtime\u001b[0m\u001b[1;33m.\u001b[0m\u001b[0msleep\u001b[0m\u001b[1;33m(\u001b[0m\u001b[1;36m5\u001b[0m\u001b[1;33m)\u001b[0m\u001b[1;33m\u001b[0m\u001b[1;33m\u001b[0m\u001b[0m\n",
      "\u001b[1;32mC:\\ProgramData\\Anaconda3\\lib\\site-packages\\selenium\\webdriver\\remote\\webdriver.py\u001b[0m in \u001b[0;36mget\u001b[1;34m(self, url)\u001b[0m\n\u001b[0;32m    331\u001b[0m         \u001b[0mLoads\u001b[0m \u001b[0ma\u001b[0m \u001b[0mweb\u001b[0m \u001b[0mpage\u001b[0m \u001b[1;32min\u001b[0m \u001b[0mthe\u001b[0m \u001b[0mcurrent\u001b[0m \u001b[0mbrowser\u001b[0m \u001b[0msession\u001b[0m\u001b[1;33m.\u001b[0m\u001b[1;33m\u001b[0m\u001b[1;33m\u001b[0m\u001b[0m\n\u001b[0;32m    332\u001b[0m         \"\"\"\n\u001b[1;32m--> 333\u001b[1;33m         \u001b[0mself\u001b[0m\u001b[1;33m.\u001b[0m\u001b[0mexecute\u001b[0m\u001b[1;33m(\u001b[0m\u001b[0mCommand\u001b[0m\u001b[1;33m.\u001b[0m\u001b[0mGET\u001b[0m\u001b[1;33m,\u001b[0m \u001b[1;33m{\u001b[0m\u001b[1;34m'url'\u001b[0m\u001b[1;33m:\u001b[0m \u001b[0murl\u001b[0m\u001b[1;33m}\u001b[0m\u001b[1;33m)\u001b[0m\u001b[1;33m\u001b[0m\u001b[1;33m\u001b[0m\u001b[0m\n\u001b[0m\u001b[0;32m    334\u001b[0m \u001b[1;33m\u001b[0m\u001b[0m\n\u001b[0;32m    335\u001b[0m     \u001b[1;33m@\u001b[0m\u001b[0mproperty\u001b[0m\u001b[1;33m\u001b[0m\u001b[1;33m\u001b[0m\u001b[0m\n",
      "\u001b[1;32mC:\\ProgramData\\Anaconda3\\lib\\site-packages\\selenium\\webdriver\\remote\\webdriver.py\u001b[0m in \u001b[0;36mexecute\u001b[1;34m(self, driver_command, params)\u001b[0m\n\u001b[0;32m    317\u001b[0m \u001b[1;33m\u001b[0m\u001b[0m\n\u001b[0;32m    318\u001b[0m         \u001b[0mparams\u001b[0m \u001b[1;33m=\u001b[0m \u001b[0mself\u001b[0m\u001b[1;33m.\u001b[0m\u001b[0m_wrap_value\u001b[0m\u001b[1;33m(\u001b[0m\u001b[0mparams\u001b[0m\u001b[1;33m)\u001b[0m\u001b[1;33m\u001b[0m\u001b[1;33m\u001b[0m\u001b[0m\n\u001b[1;32m--> 319\u001b[1;33m         \u001b[0mresponse\u001b[0m \u001b[1;33m=\u001b[0m \u001b[0mself\u001b[0m\u001b[1;33m.\u001b[0m\u001b[0mcommand_executor\u001b[0m\u001b[1;33m.\u001b[0m\u001b[0mexecute\u001b[0m\u001b[1;33m(\u001b[0m\u001b[0mdriver_command\u001b[0m\u001b[1;33m,\u001b[0m \u001b[0mparams\u001b[0m\u001b[1;33m)\u001b[0m\u001b[1;33m\u001b[0m\u001b[1;33m\u001b[0m\u001b[0m\n\u001b[0m\u001b[0;32m    320\u001b[0m         \u001b[1;32mif\u001b[0m \u001b[0mresponse\u001b[0m\u001b[1;33m:\u001b[0m\u001b[1;33m\u001b[0m\u001b[1;33m\u001b[0m\u001b[0m\n\u001b[0;32m    321\u001b[0m             \u001b[0mself\u001b[0m\u001b[1;33m.\u001b[0m\u001b[0merror_handler\u001b[0m\u001b[1;33m.\u001b[0m\u001b[0mcheck_response\u001b[0m\u001b[1;33m(\u001b[0m\u001b[0mresponse\u001b[0m\u001b[1;33m)\u001b[0m\u001b[1;33m\u001b[0m\u001b[1;33m\u001b[0m\u001b[0m\n",
      "\u001b[1;32mC:\\ProgramData\\Anaconda3\\lib\\site-packages\\selenium\\webdriver\\remote\\remote_connection.py\u001b[0m in \u001b[0;36mexecute\u001b[1;34m(self, command, params)\u001b[0m\n\u001b[0;32m    372\u001b[0m         \u001b[0mdata\u001b[0m \u001b[1;33m=\u001b[0m \u001b[0mutils\u001b[0m\u001b[1;33m.\u001b[0m\u001b[0mdump_json\u001b[0m\u001b[1;33m(\u001b[0m\u001b[0mparams\u001b[0m\u001b[1;33m)\u001b[0m\u001b[1;33m\u001b[0m\u001b[1;33m\u001b[0m\u001b[0m\n\u001b[0;32m    373\u001b[0m         \u001b[0murl\u001b[0m \u001b[1;33m=\u001b[0m \u001b[1;34m'%s%s'\u001b[0m \u001b[1;33m%\u001b[0m \u001b[1;33m(\u001b[0m\u001b[0mself\u001b[0m\u001b[1;33m.\u001b[0m\u001b[0m_url\u001b[0m\u001b[1;33m,\u001b[0m \u001b[0mpath\u001b[0m\u001b[1;33m)\u001b[0m\u001b[1;33m\u001b[0m\u001b[1;33m\u001b[0m\u001b[0m\n\u001b[1;32m--> 374\u001b[1;33m         \u001b[1;32mreturn\u001b[0m \u001b[0mself\u001b[0m\u001b[1;33m.\u001b[0m\u001b[0m_request\u001b[0m\u001b[1;33m(\u001b[0m\u001b[0mcommand_info\u001b[0m\u001b[1;33m[\u001b[0m\u001b[1;36m0\u001b[0m\u001b[1;33m]\u001b[0m\u001b[1;33m,\u001b[0m \u001b[0murl\u001b[0m\u001b[1;33m,\u001b[0m \u001b[0mbody\u001b[0m\u001b[1;33m=\u001b[0m\u001b[0mdata\u001b[0m\u001b[1;33m)\u001b[0m\u001b[1;33m\u001b[0m\u001b[1;33m\u001b[0m\u001b[0m\n\u001b[0m\u001b[0;32m    375\u001b[0m \u001b[1;33m\u001b[0m\u001b[0m\n\u001b[0;32m    376\u001b[0m     \u001b[1;32mdef\u001b[0m \u001b[0m_request\u001b[0m\u001b[1;33m(\u001b[0m\u001b[0mself\u001b[0m\u001b[1;33m,\u001b[0m \u001b[0mmethod\u001b[0m\u001b[1;33m,\u001b[0m \u001b[0murl\u001b[0m\u001b[1;33m,\u001b[0m \u001b[0mbody\u001b[0m\u001b[1;33m=\u001b[0m\u001b[1;32mNone\u001b[0m\u001b[1;33m)\u001b[0m\u001b[1;33m:\u001b[0m\u001b[1;33m\u001b[0m\u001b[1;33m\u001b[0m\u001b[0m\n",
      "\u001b[1;32mC:\\ProgramData\\Anaconda3\\lib\\site-packages\\selenium\\webdriver\\remote\\remote_connection.py\u001b[0m in \u001b[0;36m_request\u001b[1;34m(self, method, url, body)\u001b[0m\n\u001b[0;32m    395\u001b[0m \u001b[1;33m\u001b[0m\u001b[0m\n\u001b[0;32m    396\u001b[0m         \u001b[1;32mif\u001b[0m \u001b[0mself\u001b[0m\u001b[1;33m.\u001b[0m\u001b[0mkeep_alive\u001b[0m\u001b[1;33m:\u001b[0m\u001b[1;33m\u001b[0m\u001b[1;33m\u001b[0m\u001b[0m\n\u001b[1;32m--> 397\u001b[1;33m             \u001b[0mresp\u001b[0m \u001b[1;33m=\u001b[0m \u001b[0mself\u001b[0m\u001b[1;33m.\u001b[0m\u001b[0m_conn\u001b[0m\u001b[1;33m.\u001b[0m\u001b[0mrequest\u001b[0m\u001b[1;33m(\u001b[0m\u001b[0mmethod\u001b[0m\u001b[1;33m,\u001b[0m \u001b[0murl\u001b[0m\u001b[1;33m,\u001b[0m \u001b[0mbody\u001b[0m\u001b[1;33m=\u001b[0m\u001b[0mbody\u001b[0m\u001b[1;33m,\u001b[0m \u001b[0mheaders\u001b[0m\u001b[1;33m=\u001b[0m\u001b[0mheaders\u001b[0m\u001b[1;33m)\u001b[0m\u001b[1;33m\u001b[0m\u001b[1;33m\u001b[0m\u001b[0m\n\u001b[0m\u001b[0;32m    398\u001b[0m \u001b[1;33m\u001b[0m\u001b[0m\n\u001b[0;32m    399\u001b[0m             \u001b[0mstatuscode\u001b[0m \u001b[1;33m=\u001b[0m \u001b[0mresp\u001b[0m\u001b[1;33m.\u001b[0m\u001b[0mstatus\u001b[0m\u001b[1;33m\u001b[0m\u001b[1;33m\u001b[0m\u001b[0m\n",
      "\u001b[1;32mC:\\ProgramData\\Anaconda3\\lib\\site-packages\\urllib3\\request.py\u001b[0m in \u001b[0;36mrequest\u001b[1;34m(self, method, url, fields, headers, **urlopen_kw)\u001b[0m\n\u001b[0;32m     70\u001b[0m             return self.request_encode_body(method, url, fields=fields,\n\u001b[0;32m     71\u001b[0m                                             \u001b[0mheaders\u001b[0m\u001b[1;33m=\u001b[0m\u001b[0mheaders\u001b[0m\u001b[1;33m,\u001b[0m\u001b[1;33m\u001b[0m\u001b[1;33m\u001b[0m\u001b[0m\n\u001b[1;32m---> 72\u001b[1;33m                                             **urlopen_kw)\n\u001b[0m\u001b[0;32m     73\u001b[0m \u001b[1;33m\u001b[0m\u001b[0m\n\u001b[0;32m     74\u001b[0m     def request_encode_url(self, method, url, fields=None, headers=None,\n",
      "\u001b[1;32mC:\\ProgramData\\Anaconda3\\lib\\site-packages\\urllib3\\request.py\u001b[0m in \u001b[0;36mrequest_encode_body\u001b[1;34m(self, method, url, fields, headers, encode_multipart, multipart_boundary, **urlopen_kw)\u001b[0m\n\u001b[0;32m    148\u001b[0m         \u001b[0mextra_kw\u001b[0m\u001b[1;33m.\u001b[0m\u001b[0mupdate\u001b[0m\u001b[1;33m(\u001b[0m\u001b[0murlopen_kw\u001b[0m\u001b[1;33m)\u001b[0m\u001b[1;33m\u001b[0m\u001b[1;33m\u001b[0m\u001b[0m\n\u001b[0;32m    149\u001b[0m \u001b[1;33m\u001b[0m\u001b[0m\n\u001b[1;32m--> 150\u001b[1;33m         \u001b[1;32mreturn\u001b[0m \u001b[0mself\u001b[0m\u001b[1;33m.\u001b[0m\u001b[0murlopen\u001b[0m\u001b[1;33m(\u001b[0m\u001b[0mmethod\u001b[0m\u001b[1;33m,\u001b[0m \u001b[0murl\u001b[0m\u001b[1;33m,\u001b[0m \u001b[1;33m**\u001b[0m\u001b[0mextra_kw\u001b[0m\u001b[1;33m)\u001b[0m\u001b[1;33m\u001b[0m\u001b[1;33m\u001b[0m\u001b[0m\n\u001b[0m",
      "\u001b[1;32mC:\\ProgramData\\Anaconda3\\lib\\site-packages\\urllib3\\poolmanager.py\u001b[0m in \u001b[0;36murlopen\u001b[1;34m(self, method, url, redirect, **kw)\u001b[0m\n\u001b[0;32m    322\u001b[0m             \u001b[0mresponse\u001b[0m \u001b[1;33m=\u001b[0m \u001b[0mconn\u001b[0m\u001b[1;33m.\u001b[0m\u001b[0murlopen\u001b[0m\u001b[1;33m(\u001b[0m\u001b[0mmethod\u001b[0m\u001b[1;33m,\u001b[0m \u001b[0murl\u001b[0m\u001b[1;33m,\u001b[0m \u001b[1;33m**\u001b[0m\u001b[0mkw\u001b[0m\u001b[1;33m)\u001b[0m\u001b[1;33m\u001b[0m\u001b[1;33m\u001b[0m\u001b[0m\n\u001b[0;32m    323\u001b[0m         \u001b[1;32melse\u001b[0m\u001b[1;33m:\u001b[0m\u001b[1;33m\u001b[0m\u001b[1;33m\u001b[0m\u001b[0m\n\u001b[1;32m--> 324\u001b[1;33m             \u001b[0mresponse\u001b[0m \u001b[1;33m=\u001b[0m \u001b[0mconn\u001b[0m\u001b[1;33m.\u001b[0m\u001b[0murlopen\u001b[0m\u001b[1;33m(\u001b[0m\u001b[0mmethod\u001b[0m\u001b[1;33m,\u001b[0m \u001b[0mu\u001b[0m\u001b[1;33m.\u001b[0m\u001b[0mrequest_uri\u001b[0m\u001b[1;33m,\u001b[0m \u001b[1;33m**\u001b[0m\u001b[0mkw\u001b[0m\u001b[1;33m)\u001b[0m\u001b[1;33m\u001b[0m\u001b[1;33m\u001b[0m\u001b[0m\n\u001b[0m\u001b[0;32m    325\u001b[0m \u001b[1;33m\u001b[0m\u001b[0m\n\u001b[0;32m    326\u001b[0m         \u001b[0mredirect_location\u001b[0m \u001b[1;33m=\u001b[0m \u001b[0mredirect\u001b[0m \u001b[1;32mand\u001b[0m \u001b[0mresponse\u001b[0m\u001b[1;33m.\u001b[0m\u001b[0mget_redirect_location\u001b[0m\u001b[1;33m(\u001b[0m\u001b[1;33m)\u001b[0m\u001b[1;33m\u001b[0m\u001b[1;33m\u001b[0m\u001b[0m\n",
      "\u001b[1;32mC:\\ProgramData\\Anaconda3\\lib\\site-packages\\urllib3\\connectionpool.py\u001b[0m in \u001b[0;36murlopen\u001b[1;34m(self, method, url, body, headers, retries, redirect, assert_same_host, timeout, pool_timeout, release_conn, chunked, body_pos, **response_kw)\u001b[0m\n\u001b[0;32m    598\u001b[0m                                                   \u001b[0mtimeout\u001b[0m\u001b[1;33m=\u001b[0m\u001b[0mtimeout_obj\u001b[0m\u001b[1;33m,\u001b[0m\u001b[1;33m\u001b[0m\u001b[1;33m\u001b[0m\u001b[0m\n\u001b[0;32m    599\u001b[0m                                                   \u001b[0mbody\u001b[0m\u001b[1;33m=\u001b[0m\u001b[0mbody\u001b[0m\u001b[1;33m,\u001b[0m \u001b[0mheaders\u001b[0m\u001b[1;33m=\u001b[0m\u001b[0mheaders\u001b[0m\u001b[1;33m,\u001b[0m\u001b[1;33m\u001b[0m\u001b[1;33m\u001b[0m\u001b[0m\n\u001b[1;32m--> 600\u001b[1;33m                                                   chunked=chunked)\n\u001b[0m\u001b[0;32m    601\u001b[0m \u001b[1;33m\u001b[0m\u001b[0m\n\u001b[0;32m    602\u001b[0m             \u001b[1;31m# If we're going to release the connection in ``finally:``, then\u001b[0m\u001b[1;33m\u001b[0m\u001b[1;33m\u001b[0m\u001b[1;33m\u001b[0m\u001b[0m\n",
      "\u001b[1;32mC:\\ProgramData\\Anaconda3\\lib\\site-packages\\urllib3\\connectionpool.py\u001b[0m in \u001b[0;36m_make_request\u001b[1;34m(self, conn, method, url, timeout, chunked, **httplib_request_kw)\u001b[0m\n\u001b[0;32m    378\u001b[0m             \u001b[1;32mexcept\u001b[0m \u001b[0mTypeError\u001b[0m\u001b[1;33m:\u001b[0m  \u001b[1;31m# Python 3\u001b[0m\u001b[1;33m\u001b[0m\u001b[1;33m\u001b[0m\u001b[0m\n\u001b[0;32m    379\u001b[0m                 \u001b[1;32mtry\u001b[0m\u001b[1;33m:\u001b[0m\u001b[1;33m\u001b[0m\u001b[1;33m\u001b[0m\u001b[0m\n\u001b[1;32m--> 380\u001b[1;33m                     \u001b[0mhttplib_response\u001b[0m \u001b[1;33m=\u001b[0m \u001b[0mconn\u001b[0m\u001b[1;33m.\u001b[0m\u001b[0mgetresponse\u001b[0m\u001b[1;33m(\u001b[0m\u001b[1;33m)\u001b[0m\u001b[1;33m\u001b[0m\u001b[1;33m\u001b[0m\u001b[0m\n\u001b[0m\u001b[0;32m    381\u001b[0m                 \u001b[1;32mexcept\u001b[0m \u001b[0mException\u001b[0m \u001b[1;32mas\u001b[0m \u001b[0me\u001b[0m\u001b[1;33m:\u001b[0m\u001b[1;33m\u001b[0m\u001b[1;33m\u001b[0m\u001b[0m\n\u001b[0;32m    382\u001b[0m                     \u001b[1;31m# Remove the TypeError from the exception chain in Python 3;\u001b[0m\u001b[1;33m\u001b[0m\u001b[1;33m\u001b[0m\u001b[1;33m\u001b[0m\u001b[0m\n",
      "\u001b[1;32mC:\\ProgramData\\Anaconda3\\lib\\http\\client.py\u001b[0m in \u001b[0;36mgetresponse\u001b[1;34m(self)\u001b[0m\n\u001b[0;32m   1334\u001b[0m         \u001b[1;32mtry\u001b[0m\u001b[1;33m:\u001b[0m\u001b[1;33m\u001b[0m\u001b[1;33m\u001b[0m\u001b[0m\n\u001b[0;32m   1335\u001b[0m             \u001b[1;32mtry\u001b[0m\u001b[1;33m:\u001b[0m\u001b[1;33m\u001b[0m\u001b[1;33m\u001b[0m\u001b[0m\n\u001b[1;32m-> 1336\u001b[1;33m                 \u001b[0mresponse\u001b[0m\u001b[1;33m.\u001b[0m\u001b[0mbegin\u001b[0m\u001b[1;33m(\u001b[0m\u001b[1;33m)\u001b[0m\u001b[1;33m\u001b[0m\u001b[1;33m\u001b[0m\u001b[0m\n\u001b[0m\u001b[0;32m   1337\u001b[0m             \u001b[1;32mexcept\u001b[0m \u001b[0mConnectionError\u001b[0m\u001b[1;33m:\u001b[0m\u001b[1;33m\u001b[0m\u001b[1;33m\u001b[0m\u001b[0m\n\u001b[0;32m   1338\u001b[0m                 \u001b[0mself\u001b[0m\u001b[1;33m.\u001b[0m\u001b[0mclose\u001b[0m\u001b[1;33m(\u001b[0m\u001b[1;33m)\u001b[0m\u001b[1;33m\u001b[0m\u001b[1;33m\u001b[0m\u001b[0m\n",
      "\u001b[1;32mC:\\ProgramData\\Anaconda3\\lib\\http\\client.py\u001b[0m in \u001b[0;36mbegin\u001b[1;34m(self)\u001b[0m\n\u001b[0;32m    304\u001b[0m         \u001b[1;31m# read until we get a non-100 response\u001b[0m\u001b[1;33m\u001b[0m\u001b[1;33m\u001b[0m\u001b[1;33m\u001b[0m\u001b[0m\n\u001b[0;32m    305\u001b[0m         \u001b[1;32mwhile\u001b[0m \u001b[1;32mTrue\u001b[0m\u001b[1;33m:\u001b[0m\u001b[1;33m\u001b[0m\u001b[1;33m\u001b[0m\u001b[0m\n\u001b[1;32m--> 306\u001b[1;33m             \u001b[0mversion\u001b[0m\u001b[1;33m,\u001b[0m \u001b[0mstatus\u001b[0m\u001b[1;33m,\u001b[0m \u001b[0mreason\u001b[0m \u001b[1;33m=\u001b[0m \u001b[0mself\u001b[0m\u001b[1;33m.\u001b[0m\u001b[0m_read_status\u001b[0m\u001b[1;33m(\u001b[0m\u001b[1;33m)\u001b[0m\u001b[1;33m\u001b[0m\u001b[1;33m\u001b[0m\u001b[0m\n\u001b[0m\u001b[0;32m    307\u001b[0m             \u001b[1;32mif\u001b[0m \u001b[0mstatus\u001b[0m \u001b[1;33m!=\u001b[0m \u001b[0mCONTINUE\u001b[0m\u001b[1;33m:\u001b[0m\u001b[1;33m\u001b[0m\u001b[1;33m\u001b[0m\u001b[0m\n\u001b[0;32m    308\u001b[0m                 \u001b[1;32mbreak\u001b[0m\u001b[1;33m\u001b[0m\u001b[1;33m\u001b[0m\u001b[0m\n",
      "\u001b[1;32mC:\\ProgramData\\Anaconda3\\lib\\http\\client.py\u001b[0m in \u001b[0;36m_read_status\u001b[1;34m(self)\u001b[0m\n\u001b[0;32m    265\u001b[0m \u001b[1;33m\u001b[0m\u001b[0m\n\u001b[0;32m    266\u001b[0m     \u001b[1;32mdef\u001b[0m \u001b[0m_read_status\u001b[0m\u001b[1;33m(\u001b[0m\u001b[0mself\u001b[0m\u001b[1;33m)\u001b[0m\u001b[1;33m:\u001b[0m\u001b[1;33m\u001b[0m\u001b[1;33m\u001b[0m\u001b[0m\n\u001b[1;32m--> 267\u001b[1;33m         \u001b[0mline\u001b[0m \u001b[1;33m=\u001b[0m \u001b[0mstr\u001b[0m\u001b[1;33m(\u001b[0m\u001b[0mself\u001b[0m\u001b[1;33m.\u001b[0m\u001b[0mfp\u001b[0m\u001b[1;33m.\u001b[0m\u001b[0mreadline\u001b[0m\u001b[1;33m(\u001b[0m\u001b[0m_MAXLINE\u001b[0m \u001b[1;33m+\u001b[0m \u001b[1;36m1\u001b[0m\u001b[1;33m)\u001b[0m\u001b[1;33m,\u001b[0m \u001b[1;34m\"iso-8859-1\"\u001b[0m\u001b[1;33m)\u001b[0m\u001b[1;33m\u001b[0m\u001b[1;33m\u001b[0m\u001b[0m\n\u001b[0m\u001b[0;32m    268\u001b[0m         \u001b[1;32mif\u001b[0m \u001b[0mlen\u001b[0m\u001b[1;33m(\u001b[0m\u001b[0mline\u001b[0m\u001b[1;33m)\u001b[0m \u001b[1;33m>\u001b[0m \u001b[0m_MAXLINE\u001b[0m\u001b[1;33m:\u001b[0m\u001b[1;33m\u001b[0m\u001b[1;33m\u001b[0m\u001b[0m\n\u001b[0;32m    269\u001b[0m             \u001b[1;32mraise\u001b[0m \u001b[0mLineTooLong\u001b[0m\u001b[1;33m(\u001b[0m\u001b[1;34m\"status line\"\u001b[0m\u001b[1;33m)\u001b[0m\u001b[1;33m\u001b[0m\u001b[1;33m\u001b[0m\u001b[0m\n",
      "\u001b[1;32mC:\\ProgramData\\Anaconda3\\lib\\socket.py\u001b[0m in \u001b[0;36mreadinto\u001b[1;34m(self, b)\u001b[0m\n\u001b[0;32m    587\u001b[0m         \u001b[1;32mwhile\u001b[0m \u001b[1;32mTrue\u001b[0m\u001b[1;33m:\u001b[0m\u001b[1;33m\u001b[0m\u001b[1;33m\u001b[0m\u001b[0m\n\u001b[0;32m    588\u001b[0m             \u001b[1;32mtry\u001b[0m\u001b[1;33m:\u001b[0m\u001b[1;33m\u001b[0m\u001b[1;33m\u001b[0m\u001b[0m\n\u001b[1;32m--> 589\u001b[1;33m                 \u001b[1;32mreturn\u001b[0m \u001b[0mself\u001b[0m\u001b[1;33m.\u001b[0m\u001b[0m_sock\u001b[0m\u001b[1;33m.\u001b[0m\u001b[0mrecv_into\u001b[0m\u001b[1;33m(\u001b[0m\u001b[0mb\u001b[0m\u001b[1;33m)\u001b[0m\u001b[1;33m\u001b[0m\u001b[1;33m\u001b[0m\u001b[0m\n\u001b[0m\u001b[0;32m    590\u001b[0m             \u001b[1;32mexcept\u001b[0m \u001b[0mtimeout\u001b[0m\u001b[1;33m:\u001b[0m\u001b[1;33m\u001b[0m\u001b[1;33m\u001b[0m\u001b[0m\n\u001b[0;32m    591\u001b[0m                 \u001b[0mself\u001b[0m\u001b[1;33m.\u001b[0m\u001b[0m_timeout_occurred\u001b[0m \u001b[1;33m=\u001b[0m \u001b[1;32mTrue\u001b[0m\u001b[1;33m\u001b[0m\u001b[1;33m\u001b[0m\u001b[0m\n",
      "\u001b[1;31mKeyboardInterrupt\u001b[0m: "
     ]
    }
   ],
   "source": [
    "comment=[]\n",
    "score=[]\n",
    "for i in http:\n",
    "    url=i\n",
    "    browser = webdriver.Firefox()\n",
    "    browser.get(url)\n",
    "    browser.execute_script(\"window.scrollTo(0, document.body.scrollHeight)\")\n",
    "    time.sleep(5)\n",
    "    soup = BeautifulSoup(browser.page_source)\n",
    "    print(len(soup.select(\".HeaderCerebrum h1\")))\n",
    "    \n",
    "    browser.close()"
   ]
  },
  {
   "cell_type": "code",
   "execution_count": 108,
   "metadata": {},
   "outputs": [
    {
     "data": {
      "text/plain": [
       "1"
      ]
     },
     "execution_count": 108,
     "metadata": {},
     "output_type": "execute_result"
    }
   ],
   "source": [
    "browser = webdriver.Firefox()\n",
    "browser.get(\"https://hkg.agoda.com/zh-tw/surreal-motel_2/hotel/taipei-tw.html?checkin=2020-01-07&los=1&adults=1&rooms=1&ro=C00000&cid=1826371&tag=ab92ca0a-b803-8f27-c188-fe307db02490&searchrequestid=0899dfb8-9ce2-461e-881a-6c7311479f11&travellerType=0&tspTypes=2,16&flightAdults=0&flightChildren=0&flightInfants=0&cabinType=Economy\")\n",
    "browser.execute_script(\"window.scrollTo(0, document.body.scrollHeight)\")\n",
    "soup = BeautifulSoup(browser.page_source)\n",
    "\n",
    "len(soup.select(\".HeaderCerebrum h1\"))\n",
    "#print(len(soup.select(\".sc-hycgNl.gCfGZO.sc-iwsKbI.qBBcY\")))"
   ]
  },
  {
   "cell_type": "code",
   "execution_count": 116,
   "metadata": {},
   "outputs": [
    {
     "data": {
      "text/plain": [
       "1"
      ]
     },
     "execution_count": 116,
     "metadata": {},
     "output_type": "execute_result"
    }
   ],
   "source": [
    "browser = webdriver.Firefox()\n",
    "browser.get(\"https://www.agoda.com/zh-tw/fullon-hotel-fulong/hotel/taipei-tw.html?checkin=2020-01-07&los=1&adults=1&rooms=1&ro=C00000&cid=1826371&tag=ab92ca0a-b803-8f27-c188-fe307db02490&searchrequestid=d92d2916-6711-45aa-99ee-cb502b6035de&travellerType=0&tspTypes=16\")\n",
    "browser.execute_script(\"window.scrollTo(0, document.body.scrollHeight)\")\n",
    "soup = BeautifulSoup(browser.page_source)\n",
    "\n",
    "len(soup.select(\".HeaderCerebrum h1\"))\n",
    "#print(len(soup.select(\".sc-hycgNl.gCfGZO.sc-iwsKbI.qBBcY\")))"
   ]
  },
  {
   "cell_type": "code",
   "execution_count": null,
   "metadata": {},
   "outputs": [],
   "source": [
    "import requests\n",
    "from bs4 import BeautifulSoup\n",
    "import selenium\n",
    "from selenium import webdriver\n",
    "from selenium.common.exceptions import NoSuchElementException\n",
    "from selenium.webdriver.common.keys import Keys\n",
    "import time\n",
    "from bs4 import BeautifulSoup\n",
    "from selenium import webdriver\n",
    "from selenium.webdriver.support.ui import WebDriverWait\n",
    "from selenium.webdriver.common.by import By\n",
    "from selenium.webdriver.support import expected_conditions as ec\n",
    "import pandas as pd\n",
    "import numpy as np\n",
    "import xlrd"
   ]
  },
  {
   "cell_type": "code",
   "execution_count": null,
   "metadata": {},
   "outputs": [],
   "source": [
    "five = pd.read_excel(\"台北五星級飯店網址.xls\")\n",
    "four = pd.read_excel(\"台北四星級以下飯店網址.xls\")"
   ]
  },
  {
   "cell_type": "code",
   "execution_count": null,
   "metadata": {},
   "outputs": [],
   "source": [
    "##抓評論的原型\n",
    "\n",
    "browser = webdriver.Firefox()\n",
    "browser.get(\"https://www.agoda.com/zh-tw/fushin-hotel-taipei/hotel/taipei-tw.html?checkin=2020-01-07&los=1&adults=1&rooms=1&ro=C00000&cid=1826371&tag=ab92ca0a-b803-8f27-c188-fe307db02490&searchrequestid=da594449-6372-42ca-98ed-3741f61ea9bb&travellerType=0&tspTypes=6&flightAdults=0&flightChildren=0&flightInfants=0&cabinType=Economy\")\n",
    "cns = []\n",
    "soup1 = BeautifulSoup(browser.page_source)\n",
    "# name = soup.find('h1', {'class': 'HeaderCerebrum__Name'}).text\n",
    "for k in range(10):\n",
    "    try:\n",
    "        browser.execute_script(\"window.scrollTo(0, document.body.scrollHeight)\")\n",
    "        time.sleep(1)\n",
    "        browser.execute_script(\"window.scrollTo(0, document.body.scrollHeight)\")\n",
    "        time.sleep(1)\n",
    "        browser.find_element_by_css_selector(\"span.Searchbox__searchButton__text\").click()\n",
    "        soup = BeautifulSoup(browser.page_source)\n",
    "\n",
    "        for i in soup.find_all('div', {'class':\"Review-comment\"}):\n",
    "            cns.append([i.find('div', {'class': 'Review-comment-leftScore'}).text, i.find('p', {'class': 'Review-comment-bodyText'}).text, soup1.find('h1', {'class': 'HeaderCerebrum__Name'}).text])\n",
    "            df=pd.DataFrame(cns,columns=['score', 'comment', 'name'])\n",
    "        webElement=browser.find_element_by_css_selector(\".Review-paginator:nth-child(6) .ficon-carrouselarrow-right\")\n",
    "        browser.execute_script(\"arguments[0].click()\", webElement)\n",
    "        \n",
    "    except:\n",
    "        pass\n",
    "\n",
    "\n",
    "browser.close()\n",
    "df"
   ]
  },
  {
   "cell_type": "code",
   "execution_count": null,
   "metadata": {},
   "outputs": [],
   "source": [
    "##抓評論用這個\n",
    "\n",
    "cns = []\n",
    "for index, row in five.iterrows():\n",
    "    browser = webdriver.Firefox()\n",
    "    browser.get(row['url'])\n",
    "    soup1 = BeautifulSoup(browser.page_source)\n",
    "    for k in range(20):\n",
    "        try:\n",
    "            browser.execute_script(\"window.scrollTo(0, document.body.scrollHeight)\")\n",
    "            time.sleep(1)\n",
    "            browser.execute_script(\"window.scrollTo(0, document.body.scrollHeight)\")\n",
    "            time.sleep(1)\n",
    "            browser.find_element_by_css_selector(\"span.Searchbox__searchButton__text\").click()\n",
    "            soup = BeautifulSoup(browser.page_source)\n",
    "\n",
    "            for i in soup.find_all('div', {'class':\"Review-comment\"}):\n",
    "                cns.append([i.find('div', {'class': 'Review-comment-leftScore'}).text, i.find('p', {'class': 'Review-comment-bodyText'}).text, soup1.find('h1', {'class': 'HeaderCerebrum__Name'}).text])\n",
    "            webElement=browser.find_element_by_css_selector(\".Review-paginator:nth-child(6) .ficon-carrouselarrow-right\")\n",
    "            browser.execute_script(\"arguments[0].click()\", webElement)\n",
    "\n",
    "        except:\n",
    "            pass\n",
    "\n",
    "\n",
    "    browser.close()\n",
    "df=pd.DataFrame(cns,columns=['score', 'comment', 'name'])\n",
    "df"
   ]
  },
  {
   "cell_type": "code",
   "execution_count": null,
   "metadata": {},
   "outputs": [],
   "source": [
    "four = pd.read_excel(\"temp.xls\")"
   ]
  },
  {
   "cell_type": "code",
   "execution_count": null,
   "metadata": {},
   "outputs": [],
   "source": [
    "##純評論\n",
    "\n",
    "data1 = []\n",
    "for index, row in four.iterrows():\n",
    "    browser = webdriver.Firefox()\n",
    "    browser.get(row['url'])\n",
    "    soup1 = BeautifulSoup(browser.page_source)\n",
    "    try:\n",
    "        single=[soup1.find('h1', {'class': 'HeaderCerebrum__Name'}).text]\n",
    "        for k in range(20):\n",
    "            try:\n",
    "                browser.execute_script(\"window.scrollTo(0, document.body.scrollHeight)\")\n",
    "                time.sleep(1)\n",
    "                browser.execute_script(\"window.scrollTo(0, document.body.scrollHeight)\")\n",
    "                time.sleep(1)\n",
    "                browser.find_element_by_css_selector(\"span.Searchbox__searchButton__text\").click()\n",
    "                soup = BeautifulSoup(browser.page_source)\n",
    "\n",
    "                for i in soup.find_all('div', {'class':\"Review-comment\"}):\n",
    "                    single.append(i.find('p', {'class': 'Review-comment-bodyText'}).text)\n",
    "                webElement=browser.find_element_by_css_selector(\".Review-paginator:nth-child(6) .ficon-carrouselarrow-right\")\n",
    "                browser.execute_script(\"arguments[0].click()\", webElement)\n",
    "\n",
    "            except:\n",
    "                pass                \n",
    "    except:\n",
    "        pass\n",
    "\n",
    "    data1.append(single)\n",
    "    browser.close()\n",
    "\n",
    "# df=pd.DataFrame(cns,columns=['score', 'comment', 'name'])\n",
    "# df\n",
    "\n",
    "# score = data\n",
    "# with open(\"台北四星級以下飯店評論(list).txt\", 'w', encoding=\"utf-8\") as f:\n",
    "#     for s in score:\n",
    "#         f.write(str(s))"
   ]
  },
  {
   "cell_type": "code",
   "execution_count": null,
   "metadata": {},
   "outputs": [],
   "source": [
    "##分數+評論\n",
    "\n",
    "data1 = []\n",
    "for index, row in four.iterrows():\n",
    "    browser = webdriver.Firefox()\n",
    "    browser.get(row['url'])\n",
    "    soup1 = BeautifulSoup(browser.page_source)\n",
    "    try:\n",
    "        single=[soup1.find('h1', {'class': 'HeaderCerebrum__Name'}).text]\n",
    "        for k in range(20):\n",
    "            try:\n",
    "                browser.execute_script(\"window.scrollTo(0, document.body.scrollHeight)\")\n",
    "                time.sleep(1)\n",
    "                browser.execute_script(\"window.scrollTo(0, document.body.scrollHeight)\")\n",
    "                time.sleep(1)\n",
    "                browser.find_element_by_css_selector(\"span.Searchbox__searchButton__text\").click()\n",
    "                soup = BeautifulSoup(browser.page_source)\n",
    "\n",
    "                for i in soup.find_all('div', {'class':\"Review-comment\"}):\n",
    "                    single.append(i.find('p', {'class': 'Review-comment-bodyText'}).text)\n",
    "                webElement=browser.find_element_by_css_selector(\".Review-paginator:nth-child(6) .ficon-carrouselarrow-right\")\n",
    "                browser.execute_script(\"arguments[0].click()\", webElement)\n",
    "\n",
    "            except:\n",
    "                pass                \n",
    "    except:\n",
    "        pass\n",
    "\n",
    "    data1.append(single)\n",
    "    browser.close()\n",
    "\n",
    "# df=pd.DataFrame(cns,columns=['score', 'comment', 'name'])\n",
    "# df\n",
    "\n",
    "# score = data\n",
    "# with open(\"台北四星級以下飯店評論(list).txt\", 'w', encoding=\"utf-8\") as f:\n",
    "#     for s in score:\n",
    "#         f.write(str(s))"
   ]
  },
  {
   "cell_type": "code",
   "execution_count": null,
   "metadata": {},
   "outputs": [],
   "source": [
    "score = data\n",
    "with open(\"台北四星級以下飯店評論(list).txt\", 'w', encoding=\"utf-8\") as f:\n",
    "    for s in score:\n",
    "        f.write(str(s))\n",
    "data_five = score\n",
    "data_df=pd.DataFrame(data)"
   ]
  },
  {
   "cell_type": "code",
   "execution_count": null,
   "metadata": {},
   "outputs": [],
   "source": [
    "#####list to txt\n",
    "\n",
    "score = data\n",
    "with open(\"台北五星級飯店評論(list).txt\", 'w', encoding=\"utf-8\") as f:\n",
    "    for s in score:\n",
    "        f.write(str(s))"
   ]
  },
  {
   "cell_type": "code",
   "execution_count": null,
   "metadata": {},
   "outputs": [],
   "source": [
    "#####txt to list\n",
    "\n",
    "places = []\n",
    "with open(\"台北五星級飯店評論(list).txt\", 'r', encoding=\"utf-8\") as filehandle:\n",
    "    for line in filehandle:\n",
    "        currentPlace = line[:-1]\n",
    "        places.append(currentPlace)"
   ]
  },
  {
   "cell_type": "code",
   "execution_count": null,
   "metadata": {},
   "outputs": [],
   "source": [
    "one_four = one_five.drop_duplicates(subset=['name'], keep=False, inplace=False)"
   ]
  },
  {
   "cell_type": "code",
   "execution_count": null,
   "metadata": {},
   "outputs": [],
   "source": [
    "df.to_excel('台北五星級飯店評論(duplicates).xls')\n",
    "data_df.to_csv('台北四星級飯店評論.csv')\n",
    "data_df.to_csv('台北四星級飯店評論.csv')\n",
    "with open('台北五星級飯店評論(list).txt', 'r', encoding=\"utf-8\") as f:\n",
    "    new_five = [line.strip(',') for line in f]"
   ]
  }
 ],
 "metadata": {
  "kernelspec": {
   "display_name": "Python 3",
   "language": "python",
   "name": "python3"
  },
  "language_info": {
   "codemirror_mode": {
    "name": "ipython",
    "version": 3
   },
   "file_extension": ".py",
   "mimetype": "text/x-python",
   "name": "python",
   "nbconvert_exporter": "python",
   "pygments_lexer": "ipython3",
   "version": "3.7.1"
  }
 },
 "nbformat": 4,
 "nbformat_minor": 2
}
