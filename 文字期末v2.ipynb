{
 "cells": [
  {
   "cell_type": "code",
   "execution_count": 1,
   "metadata": {},
   "outputs": [],
   "source": [
    "import selenium\n",
    "from selenium import webdriver\n",
    "from selenium.common.exceptions import NoSuchElementException\n",
    "from selenium.webdriver.common.keys import Keys\n",
    "import time\n",
    "from bs4 import BeautifulSoup"
   ]
  },
  {
   "cell_type": "code",
   "execution_count": null,
   "metadata": {},
   "outputs": [],
   "source": []
  },
  {
   "cell_type": "code",
   "execution_count": 2,
   "metadata": {},
   "outputs": [],
   "source": [
    "cd=\"/Users/tzuchyi/Downloads/chromedriver\""
   ]
  },
  {
   "cell_type": "code",
   "execution_count": 26,
   "metadata": {},
   "outputs": [
    {
     "ename": "ElementNotInteractableException",
     "evalue": "Message: element not interactable\n  (Session info: chrome=79.0.3945.88)\n",
     "output_type": "error",
     "traceback": [
      "\u001b[0;31m---------------------------------------------------------------------------\u001b[0m",
      "\u001b[0;31mElementNotInteractableException\u001b[0m           Traceback (most recent call last)",
      "\u001b[0;32m<ipython-input-26-a0c95ced34e8>\u001b[0m in \u001b[0;36m<module>\u001b[0;34m\u001b[0m\n\u001b[1;32m     14\u001b[0m     \u001b[0;32mfor\u001b[0m \u001b[0mele\u001b[0m \u001b[0;32min\u001b[0m \u001b[0msoup\u001b[0m\u001b[0;34m.\u001b[0m\u001b[0mselect\u001b[0m\u001b[0;34m(\u001b[0m\u001b[0;34m\".Review-comment-body p.Review-comment-bodyText\"\u001b[0m\u001b[0;34m)\u001b[0m\u001b[0;34m:\u001b[0m\u001b[0;34m\u001b[0m\u001b[0;34m\u001b[0m\u001b[0m\n\u001b[1;32m     15\u001b[0m         \u001b[0mprint\u001b[0m\u001b[0;34m(\u001b[0m\u001b[0mele\u001b[0m\u001b[0;34m.\u001b[0m\u001b[0mtext\u001b[0m\u001b[0;34m)\u001b[0m\u001b[0;34m\u001b[0m\u001b[0;34m\u001b[0m\u001b[0m\n\u001b[0;32m---> 16\u001b[0;31m     \u001b[0mbrowser\u001b[0m\u001b[0;34m.\u001b[0m\u001b[0mfind_element_by_xpath\u001b[0m\u001b[0;34m(\u001b[0m\u001b[0;34m'//*[contains(concat( \" \", @class, \" \" ), concat( \" \", \"ficon-carrouselarrow-right\", \" \" ))]'\u001b[0m\u001b[0;34m)\u001b[0m\u001b[0;34m.\u001b[0m\u001b[0mclick\u001b[0m\u001b[0;34m(\u001b[0m\u001b[0;34m)\u001b[0m\u001b[0;34m\u001b[0m\u001b[0;34m\u001b[0m\u001b[0m\n\u001b[0m\u001b[1;32m     17\u001b[0m     \u001b[0msoup\u001b[0m \u001b[0;34m=\u001b[0m \u001b[0mBeautifulSoup\u001b[0m\u001b[0;34m(\u001b[0m\u001b[0mbrowser\u001b[0m\u001b[0;34m.\u001b[0m\u001b[0mpage_source\u001b[0m\u001b[0;34m)\u001b[0m\u001b[0;34m\u001b[0m\u001b[0;34m\u001b[0m\u001b[0m\n\u001b[1;32m     18\u001b[0m \u001b[0mbrowser\u001b[0m\u001b[0;34m.\u001b[0m\u001b[0mclose\u001b[0m\u001b[0;34m(\u001b[0m\u001b[0;34m)\u001b[0m\u001b[0;34m\u001b[0m\u001b[0;34m\u001b[0m\u001b[0m\n",
      "\u001b[0;32m/anaconda3/lib/python3.7/site-packages/selenium/webdriver/remote/webelement.py\u001b[0m in \u001b[0;36mclick\u001b[0;34m(self)\u001b[0m\n\u001b[1;32m     78\u001b[0m     \u001b[0;32mdef\u001b[0m \u001b[0mclick\u001b[0m\u001b[0;34m(\u001b[0m\u001b[0mself\u001b[0m\u001b[0;34m)\u001b[0m\u001b[0;34m:\u001b[0m\u001b[0;34m\u001b[0m\u001b[0;34m\u001b[0m\u001b[0m\n\u001b[1;32m     79\u001b[0m         \u001b[0;34m\"\"\"Clicks the element.\"\"\"\u001b[0m\u001b[0;34m\u001b[0m\u001b[0;34m\u001b[0m\u001b[0m\n\u001b[0;32m---> 80\u001b[0;31m         \u001b[0mself\u001b[0m\u001b[0;34m.\u001b[0m\u001b[0m_execute\u001b[0m\u001b[0;34m(\u001b[0m\u001b[0mCommand\u001b[0m\u001b[0;34m.\u001b[0m\u001b[0mCLICK_ELEMENT\u001b[0m\u001b[0;34m)\u001b[0m\u001b[0;34m\u001b[0m\u001b[0;34m\u001b[0m\u001b[0m\n\u001b[0m\u001b[1;32m     81\u001b[0m \u001b[0;34m\u001b[0m\u001b[0m\n\u001b[1;32m     82\u001b[0m     \u001b[0;32mdef\u001b[0m \u001b[0msubmit\u001b[0m\u001b[0;34m(\u001b[0m\u001b[0mself\u001b[0m\u001b[0;34m)\u001b[0m\u001b[0;34m:\u001b[0m\u001b[0;34m\u001b[0m\u001b[0;34m\u001b[0m\u001b[0m\n",
      "\u001b[0;32m/anaconda3/lib/python3.7/site-packages/selenium/webdriver/remote/webelement.py\u001b[0m in \u001b[0;36m_execute\u001b[0;34m(self, command, params)\u001b[0m\n\u001b[1;32m    631\u001b[0m             \u001b[0mparams\u001b[0m \u001b[0;34m=\u001b[0m \u001b[0;34m{\u001b[0m\u001b[0;34m}\u001b[0m\u001b[0;34m\u001b[0m\u001b[0;34m\u001b[0m\u001b[0m\n\u001b[1;32m    632\u001b[0m         \u001b[0mparams\u001b[0m\u001b[0;34m[\u001b[0m\u001b[0;34m'id'\u001b[0m\u001b[0;34m]\u001b[0m \u001b[0;34m=\u001b[0m \u001b[0mself\u001b[0m\u001b[0;34m.\u001b[0m\u001b[0m_id\u001b[0m\u001b[0;34m\u001b[0m\u001b[0;34m\u001b[0m\u001b[0m\n\u001b[0;32m--> 633\u001b[0;31m         \u001b[0;32mreturn\u001b[0m \u001b[0mself\u001b[0m\u001b[0;34m.\u001b[0m\u001b[0m_parent\u001b[0m\u001b[0;34m.\u001b[0m\u001b[0mexecute\u001b[0m\u001b[0;34m(\u001b[0m\u001b[0mcommand\u001b[0m\u001b[0;34m,\u001b[0m \u001b[0mparams\u001b[0m\u001b[0;34m)\u001b[0m\u001b[0;34m\u001b[0m\u001b[0;34m\u001b[0m\u001b[0m\n\u001b[0m\u001b[1;32m    634\u001b[0m \u001b[0;34m\u001b[0m\u001b[0m\n\u001b[1;32m    635\u001b[0m     \u001b[0;32mdef\u001b[0m \u001b[0mfind_element\u001b[0m\u001b[0;34m(\u001b[0m\u001b[0mself\u001b[0m\u001b[0;34m,\u001b[0m \u001b[0mby\u001b[0m\u001b[0;34m=\u001b[0m\u001b[0mBy\u001b[0m\u001b[0;34m.\u001b[0m\u001b[0mID\u001b[0m\u001b[0;34m,\u001b[0m \u001b[0mvalue\u001b[0m\u001b[0;34m=\u001b[0m\u001b[0;32mNone\u001b[0m\u001b[0;34m)\u001b[0m\u001b[0;34m:\u001b[0m\u001b[0;34m\u001b[0m\u001b[0;34m\u001b[0m\u001b[0m\n",
      "\u001b[0;32m/anaconda3/lib/python3.7/site-packages/selenium/webdriver/remote/webdriver.py\u001b[0m in \u001b[0;36mexecute\u001b[0;34m(self, driver_command, params)\u001b[0m\n\u001b[1;32m    319\u001b[0m         \u001b[0mresponse\u001b[0m \u001b[0;34m=\u001b[0m \u001b[0mself\u001b[0m\u001b[0;34m.\u001b[0m\u001b[0mcommand_executor\u001b[0m\u001b[0;34m.\u001b[0m\u001b[0mexecute\u001b[0m\u001b[0;34m(\u001b[0m\u001b[0mdriver_command\u001b[0m\u001b[0;34m,\u001b[0m \u001b[0mparams\u001b[0m\u001b[0;34m)\u001b[0m\u001b[0;34m\u001b[0m\u001b[0;34m\u001b[0m\u001b[0m\n\u001b[1;32m    320\u001b[0m         \u001b[0;32mif\u001b[0m \u001b[0mresponse\u001b[0m\u001b[0;34m:\u001b[0m\u001b[0;34m\u001b[0m\u001b[0;34m\u001b[0m\u001b[0m\n\u001b[0;32m--> 321\u001b[0;31m             \u001b[0mself\u001b[0m\u001b[0;34m.\u001b[0m\u001b[0merror_handler\u001b[0m\u001b[0;34m.\u001b[0m\u001b[0mcheck_response\u001b[0m\u001b[0;34m(\u001b[0m\u001b[0mresponse\u001b[0m\u001b[0;34m)\u001b[0m\u001b[0;34m\u001b[0m\u001b[0;34m\u001b[0m\u001b[0m\n\u001b[0m\u001b[1;32m    322\u001b[0m             response['value'] = self._unwrap_value(\n\u001b[1;32m    323\u001b[0m                 response.get('value', None))\n",
      "\u001b[0;32m/anaconda3/lib/python3.7/site-packages/selenium/webdriver/remote/errorhandler.py\u001b[0m in \u001b[0;36mcheck_response\u001b[0;34m(self, response)\u001b[0m\n\u001b[1;32m    240\u001b[0m                 \u001b[0malert_text\u001b[0m \u001b[0;34m=\u001b[0m \u001b[0mvalue\u001b[0m\u001b[0;34m[\u001b[0m\u001b[0;34m'alert'\u001b[0m\u001b[0;34m]\u001b[0m\u001b[0;34m.\u001b[0m\u001b[0mget\u001b[0m\u001b[0;34m(\u001b[0m\u001b[0;34m'text'\u001b[0m\u001b[0;34m)\u001b[0m\u001b[0;34m\u001b[0m\u001b[0;34m\u001b[0m\u001b[0m\n\u001b[1;32m    241\u001b[0m             \u001b[0;32mraise\u001b[0m \u001b[0mexception_class\u001b[0m\u001b[0;34m(\u001b[0m\u001b[0mmessage\u001b[0m\u001b[0;34m,\u001b[0m \u001b[0mscreen\u001b[0m\u001b[0;34m,\u001b[0m \u001b[0mstacktrace\u001b[0m\u001b[0;34m,\u001b[0m \u001b[0malert_text\u001b[0m\u001b[0;34m)\u001b[0m\u001b[0;34m\u001b[0m\u001b[0;34m\u001b[0m\u001b[0m\n\u001b[0;32m--> 242\u001b[0;31m         \u001b[0;32mraise\u001b[0m \u001b[0mexception_class\u001b[0m\u001b[0;34m(\u001b[0m\u001b[0mmessage\u001b[0m\u001b[0;34m,\u001b[0m \u001b[0mscreen\u001b[0m\u001b[0;34m,\u001b[0m \u001b[0mstacktrace\u001b[0m\u001b[0;34m)\u001b[0m\u001b[0;34m\u001b[0m\u001b[0;34m\u001b[0m\u001b[0m\n\u001b[0m\u001b[1;32m    243\u001b[0m \u001b[0;34m\u001b[0m\u001b[0m\n\u001b[1;32m    244\u001b[0m     \u001b[0;32mdef\u001b[0m \u001b[0m_value_or_default\u001b[0m\u001b[0;34m(\u001b[0m\u001b[0mself\u001b[0m\u001b[0;34m,\u001b[0m \u001b[0mobj\u001b[0m\u001b[0;34m,\u001b[0m \u001b[0mkey\u001b[0m\u001b[0;34m,\u001b[0m \u001b[0mdefault\u001b[0m\u001b[0;34m)\u001b[0m\u001b[0;34m:\u001b[0m\u001b[0;34m\u001b[0m\u001b[0;34m\u001b[0m\u001b[0m\n",
      "\u001b[0;31mElementNotInteractableException\u001b[0m: Message: element not interactable\n  (Session info: chrome=79.0.3945.88)\n"
     ]
    }
   ],
   "source": [
    "browser = webdriver.Chrome(cd)\n",
    "browser.get(\"https://www.agoda.com/zh-tw/fushin-hotel-taipei/hotel/taipei-tw.html?checkin=2020-01-07&los=1&adults=1&rooms=1&cid=1826371&tag=c9eb0777-faac-f238-8d4b-05488b8a3d0f&searchrequestid=d1931e0a-9717-4d56-8f40-0b1833f7f9b9&travellerType=-1&tspTypes=1&cabinType=Economy&tabbed=true\")\n",
    "#browser.driver.set_window_size(1440, 816)\n",
    "\n",
    "\n",
    "browser.execute_script(\"window.scrollTo(0, document.body.scrollHeight)\")\n",
    "\n",
    "time.sleep(1)\n",
    "\n",
    "#for ele in soup.select(\".Review-comment-body p.Review-comment-bodyText\"):\n",
    "#    print(ele.text)\n",
    "#browser.find_element_by_xpath('//*[contains(concat( \" \", @class, \" \" ), concat( \" \", \"ficon-carrouselarrow-right\", \" \" ))]').click()\n",
    "for i in range(27):\n",
    "    for ele in soup.select(\".Review-comment-body p.Review-comment-bodyText\"):\n",
    "        print(ele.text)\n",
    "    browser.find_element_by_xpath('//*[contains(concat( \" \", @class, \" \" ), concat( \" \", \"ficon-carrouselarrow-right\", \" \" ))]').click()\n",
    "    soup = BeautifulSoup(browser.page_source)\n",
    "browser.close()\n",
    "\n",
    "    #browser.find_element(\"paginationNext\").click()\n",
    "    #soup = BeautifulSoup(browser.page_source)\n",
    "#browser.close()"
   ]
  },
  {
   "cell_type": "code",
   "execution_count": 29,
   "metadata": {},
   "outputs": [
    {
     "ename": "NoSuchElementException",
     "evalue": "Message: no such element: Unable to locate element: {\"method\":\"xpath\",\"selector\":\"//*[contains(concat( \" \", @class, \" \" ), concat( \" \", \"ficon-carrouselarrow-right\", \" \" ))]\"}\n  (Session info: chrome=79.0.3945.88)\n",
     "output_type": "error",
     "traceback": [
      "\u001b[0;31m---------------------------------------------------------------------------\u001b[0m",
      "\u001b[0;31mNoSuchElementException\u001b[0m                    Traceback (most recent call last)",
      "\u001b[0;32m<ipython-input-29-23d88ff1324e>\u001b[0m in \u001b[0;36m<module>\u001b[0;34m\u001b[0m\n\u001b[1;32m     10\u001b[0m \u001b[0;32mfor\u001b[0m \u001b[0mele\u001b[0m \u001b[0;32min\u001b[0m \u001b[0msoup\u001b[0m\u001b[0;34m.\u001b[0m\u001b[0mselect\u001b[0m\u001b[0;34m(\u001b[0m\u001b[0;34m\".Review-comment-body p.Review-comment-bodyText\"\u001b[0m\u001b[0;34m)\u001b[0m\u001b[0;34m:\u001b[0m\u001b[0;34m\u001b[0m\u001b[0;34m\u001b[0m\u001b[0m\n\u001b[1;32m     11\u001b[0m     \u001b[0mprint\u001b[0m\u001b[0;34m(\u001b[0m\u001b[0mele\u001b[0m\u001b[0;34m.\u001b[0m\u001b[0mtext\u001b[0m\u001b[0;34m)\u001b[0m\u001b[0;34m\u001b[0m\u001b[0;34m\u001b[0m\u001b[0m\n\u001b[0;32m---> 12\u001b[0;31m \u001b[0mbrowser\u001b[0m\u001b[0;34m.\u001b[0m\u001b[0mfind_element_by_xpath\u001b[0m\u001b[0;34m(\u001b[0m\u001b[0;34m'//*[contains(concat( \" \", @class, \" \" ), concat( \" \", \"ficon-carrouselarrow-right\", \" \" ))]'\u001b[0m\u001b[0;34m)\u001b[0m\u001b[0;34m.\u001b[0m\u001b[0mclick\u001b[0m\u001b[0;34m(\u001b[0m\u001b[0;34m)\u001b[0m\u001b[0;34m\u001b[0m\u001b[0;34m\u001b[0m\u001b[0m\n\u001b[0m\u001b[1;32m     13\u001b[0m \u001b[0;34m\u001b[0m\u001b[0m\n\u001b[1;32m     14\u001b[0m \u001b[0mbrowser\u001b[0m\u001b[0;34m.\u001b[0m\u001b[0mexecute_script\u001b[0m\u001b[0;34m(\u001b[0m\u001b[0;34m\"window.scrollTo(0, document.body.scrollHeight)\"\u001b[0m\u001b[0;34m)\u001b[0m\u001b[0;34m\u001b[0m\u001b[0;34m\u001b[0m\u001b[0m\n",
      "\u001b[0;32m/anaconda3/lib/python3.7/site-packages/selenium/webdriver/remote/webdriver.py\u001b[0m in \u001b[0;36mfind_element_by_xpath\u001b[0;34m(self, xpath)\u001b[0m\n\u001b[1;32m    392\u001b[0m             \u001b[0melement\u001b[0m \u001b[0;34m=\u001b[0m \u001b[0mdriver\u001b[0m\u001b[0;34m.\u001b[0m\u001b[0mfind_element_by_xpath\u001b[0m\u001b[0;34m(\u001b[0m\u001b[0;34m'//div/td[1]'\u001b[0m\u001b[0;34m)\u001b[0m\u001b[0;34m\u001b[0m\u001b[0;34m\u001b[0m\u001b[0m\n\u001b[1;32m    393\u001b[0m         \"\"\"\n\u001b[0;32m--> 394\u001b[0;31m         \u001b[0;32mreturn\u001b[0m \u001b[0mself\u001b[0m\u001b[0;34m.\u001b[0m\u001b[0mfind_element\u001b[0m\u001b[0;34m(\u001b[0m\u001b[0mby\u001b[0m\u001b[0;34m=\u001b[0m\u001b[0mBy\u001b[0m\u001b[0;34m.\u001b[0m\u001b[0mXPATH\u001b[0m\u001b[0;34m,\u001b[0m \u001b[0mvalue\u001b[0m\u001b[0;34m=\u001b[0m\u001b[0mxpath\u001b[0m\u001b[0;34m)\u001b[0m\u001b[0;34m\u001b[0m\u001b[0;34m\u001b[0m\u001b[0m\n\u001b[0m\u001b[1;32m    395\u001b[0m \u001b[0;34m\u001b[0m\u001b[0m\n\u001b[1;32m    396\u001b[0m     \u001b[0;32mdef\u001b[0m \u001b[0mfind_elements_by_xpath\u001b[0m\u001b[0;34m(\u001b[0m\u001b[0mself\u001b[0m\u001b[0;34m,\u001b[0m \u001b[0mxpath\u001b[0m\u001b[0;34m)\u001b[0m\u001b[0;34m:\u001b[0m\u001b[0;34m\u001b[0m\u001b[0;34m\u001b[0m\u001b[0m\n",
      "\u001b[0;32m/anaconda3/lib/python3.7/site-packages/selenium/webdriver/remote/webdriver.py\u001b[0m in \u001b[0;36mfind_element\u001b[0;34m(self, by, value)\u001b[0m\n\u001b[1;32m    976\u001b[0m         return self.execute(Command.FIND_ELEMENT, {\n\u001b[1;32m    977\u001b[0m             \u001b[0;34m'using'\u001b[0m\u001b[0;34m:\u001b[0m \u001b[0mby\u001b[0m\u001b[0;34m,\u001b[0m\u001b[0;34m\u001b[0m\u001b[0;34m\u001b[0m\u001b[0m\n\u001b[0;32m--> 978\u001b[0;31m             'value': value})['value']\n\u001b[0m\u001b[1;32m    979\u001b[0m \u001b[0;34m\u001b[0m\u001b[0m\n\u001b[1;32m    980\u001b[0m     \u001b[0;32mdef\u001b[0m \u001b[0mfind_elements\u001b[0m\u001b[0;34m(\u001b[0m\u001b[0mself\u001b[0m\u001b[0;34m,\u001b[0m \u001b[0mby\u001b[0m\u001b[0;34m=\u001b[0m\u001b[0mBy\u001b[0m\u001b[0;34m.\u001b[0m\u001b[0mID\u001b[0m\u001b[0;34m,\u001b[0m \u001b[0mvalue\u001b[0m\u001b[0;34m=\u001b[0m\u001b[0;32mNone\u001b[0m\u001b[0;34m)\u001b[0m\u001b[0;34m:\u001b[0m\u001b[0;34m\u001b[0m\u001b[0;34m\u001b[0m\u001b[0m\n",
      "\u001b[0;32m/anaconda3/lib/python3.7/site-packages/selenium/webdriver/remote/webdriver.py\u001b[0m in \u001b[0;36mexecute\u001b[0;34m(self, driver_command, params)\u001b[0m\n\u001b[1;32m    319\u001b[0m         \u001b[0mresponse\u001b[0m \u001b[0;34m=\u001b[0m \u001b[0mself\u001b[0m\u001b[0;34m.\u001b[0m\u001b[0mcommand_executor\u001b[0m\u001b[0;34m.\u001b[0m\u001b[0mexecute\u001b[0m\u001b[0;34m(\u001b[0m\u001b[0mdriver_command\u001b[0m\u001b[0;34m,\u001b[0m \u001b[0mparams\u001b[0m\u001b[0;34m)\u001b[0m\u001b[0;34m\u001b[0m\u001b[0;34m\u001b[0m\u001b[0m\n\u001b[1;32m    320\u001b[0m         \u001b[0;32mif\u001b[0m \u001b[0mresponse\u001b[0m\u001b[0;34m:\u001b[0m\u001b[0;34m\u001b[0m\u001b[0;34m\u001b[0m\u001b[0m\n\u001b[0;32m--> 321\u001b[0;31m             \u001b[0mself\u001b[0m\u001b[0;34m.\u001b[0m\u001b[0merror_handler\u001b[0m\u001b[0;34m.\u001b[0m\u001b[0mcheck_response\u001b[0m\u001b[0;34m(\u001b[0m\u001b[0mresponse\u001b[0m\u001b[0;34m)\u001b[0m\u001b[0;34m\u001b[0m\u001b[0;34m\u001b[0m\u001b[0m\n\u001b[0m\u001b[1;32m    322\u001b[0m             response['value'] = self._unwrap_value(\n\u001b[1;32m    323\u001b[0m                 response.get('value', None))\n",
      "\u001b[0;32m/anaconda3/lib/python3.7/site-packages/selenium/webdriver/remote/errorhandler.py\u001b[0m in \u001b[0;36mcheck_response\u001b[0;34m(self, response)\u001b[0m\n\u001b[1;32m    240\u001b[0m                 \u001b[0malert_text\u001b[0m \u001b[0;34m=\u001b[0m \u001b[0mvalue\u001b[0m\u001b[0;34m[\u001b[0m\u001b[0;34m'alert'\u001b[0m\u001b[0;34m]\u001b[0m\u001b[0;34m.\u001b[0m\u001b[0mget\u001b[0m\u001b[0;34m(\u001b[0m\u001b[0;34m'text'\u001b[0m\u001b[0;34m)\u001b[0m\u001b[0;34m\u001b[0m\u001b[0;34m\u001b[0m\u001b[0m\n\u001b[1;32m    241\u001b[0m             \u001b[0;32mraise\u001b[0m \u001b[0mexception_class\u001b[0m\u001b[0;34m(\u001b[0m\u001b[0mmessage\u001b[0m\u001b[0;34m,\u001b[0m \u001b[0mscreen\u001b[0m\u001b[0;34m,\u001b[0m \u001b[0mstacktrace\u001b[0m\u001b[0;34m,\u001b[0m \u001b[0malert_text\u001b[0m\u001b[0;34m)\u001b[0m\u001b[0;34m\u001b[0m\u001b[0;34m\u001b[0m\u001b[0m\n\u001b[0;32m--> 242\u001b[0;31m         \u001b[0;32mraise\u001b[0m \u001b[0mexception_class\u001b[0m\u001b[0;34m(\u001b[0m\u001b[0mmessage\u001b[0m\u001b[0;34m,\u001b[0m \u001b[0mscreen\u001b[0m\u001b[0;34m,\u001b[0m \u001b[0mstacktrace\u001b[0m\u001b[0;34m)\u001b[0m\u001b[0;34m\u001b[0m\u001b[0;34m\u001b[0m\u001b[0m\n\u001b[0m\u001b[1;32m    243\u001b[0m \u001b[0;34m\u001b[0m\u001b[0m\n\u001b[1;32m    244\u001b[0m     \u001b[0;32mdef\u001b[0m \u001b[0m_value_or_default\u001b[0m\u001b[0;34m(\u001b[0m\u001b[0mself\u001b[0m\u001b[0;34m,\u001b[0m \u001b[0mobj\u001b[0m\u001b[0;34m,\u001b[0m \u001b[0mkey\u001b[0m\u001b[0;34m,\u001b[0m \u001b[0mdefault\u001b[0m\u001b[0;34m)\u001b[0m\u001b[0;34m:\u001b[0m\u001b[0;34m\u001b[0m\u001b[0;34m\u001b[0m\u001b[0m\n",
      "\u001b[0;31mNoSuchElementException\u001b[0m: Message: no such element: Unable to locate element: {\"method\":\"xpath\",\"selector\":\"//*[contains(concat( \" \", @class, \" \" ), concat( \" \", \"ficon-carrouselarrow-right\", \" \" ))]\"}\n  (Session info: chrome=79.0.3945.88)\n"
     ]
    }
   ],
   "source": [
    "browser = webdriver.Chrome(cd)\n",
    "browser.get(\"https://www.agoda.com/zh-tw/fushin-hotel-taipei/hotel/taipei-tw.html?checkin=2020-01-07&los=1&adults=1&rooms=1&cid=1826371&tag=c9eb0777-faac-f238-8d4b-05488b8a3d0f&searchrequestid=d1931e0a-9717-4d56-8f40-0b1833f7f9b9&travellerType=-1&tspTypes=1&cabinType=Economy&tabbed=true\")\n",
    "#browser.driver.set_window_size(1440, 816)\n",
    "\n",
    "\n",
    "browser.execute_script(\"window.scrollTo(0, document.body.scrollHeight)\")\n",
    "\n",
    "time.sleep(1)\n",
    "#soup = BeautifulSoup(browser.page_source)\n",
    "for ele in soup.select(\".Review-comment-body p.Review-comment-bodyText\"):\n",
    "    print(ele.text)\n",
    "browser.find_element_by_xpath('//*[contains(concat( \" \", @class, \" \" ), concat( \" \", \"ficon-carrouselarrow-right\", \" \" ))]').click()\n",
    "browser.execute_script(\"window.scrollTo(0, document.body.scrollHeight)\")\n",
    "time.sleep(1)\n",
    "soup = BeautifulSoup(browser.page_source)\n",
    "for ele in soup.select(\".Review-comment-body p.Review-comment-bodyText\"):\n",
    "    print(ele.text)"
   ]
  },
  {
   "cell_type": "code",
   "execution_count": 38,
   "metadata": {},
   "outputs": [
    {
     "name": "stdout",
     "output_type": "stream",
     "text": [
      "因為剛開幕時入住感受極佳  這次已再相隔四年入住所以這次再選擇富信 一切本來都還不錯 雖然跟剛開幕比是有一丁點落差 但整體還是不錯 but.......\n",
      "睡到半夜三點被冷氣機漏水聲音滴到地毯聲音吵醒\n",
      "開燈一看 出風口旁已被滲水裂出一條痕跡  打電話給服務中心派人來看之後就跑到走廊打電話請師傅來 \n",
      "整個過程拖了20-30分才問我們要不要換房 我問說那可以先離開讓我們換個衣服嗎?師傅也不為所動\n",
      "我們只好到廁所去換，然後把睡夢中的小孩抱到新房間(這時已經4點左右) 之後飯店也沒主動提出要給任何補償 我才打給飯店問能不能延後退房 櫃台回我只能延一小時 但睡眠被中斷之後翻來覆去好久才再入睡 隔天起來超疲憊 退房時也沒人因為此事向我們打聲招呼 實在遺憾\n",
      "1. 住宿很多次了,  浴室的設施一直都有狀況, 譬如淋浴間的門無法密合關門, 這次住宿蓮蓬頭都已經壞掉了\n",
      "2. 浴巾沒有清洗乾淨, 咖啡杯沒有洗乾淨\n",
      "3. agoda有提供\"提前入住的需求\"的選項, 但是飯店都沒有回覆可不可以, 等到要入住了, 打電話去問\"也僅回覆不敢保證\", 等到我到飯店, 飯店真的讓客人在大廳等1個小時, 更令人生氣的是, 同樣是無法提早入住, 櫃台人員親自把房間門卡送到同樣在大廳等待的外國客人, 而我卻是在大廳等1個小時, 然後還要自己去跟櫃台人員拿門卡, 原來飯店的櫃台人員是歧視本國籍的旅客\n",
      "優點：\n",
      "飯店整潔度佳，且非常貼心於床頭及Mini Bar均擺設礦泉水，備品齊全，牙刷是小刷頭的十分加分，房務無可挑剔。\n",
      "健身房設備齊全，空間適中不壅擠，三溫暖非常乾淨，晚上或早晨適合泡一泡放鬆。\n",
      "早餐樣式種類不少，該有的都有且調味不差。\n",
      "價格相當實惠，服務態度適中，不過度殷勤。\n",
      "飯店整體適合商務旅行，或員工訓練、會議用途。\n",
      "\n",
      "缺點：\n",
      "雖然是觀光局五星級飯店，但是整體較無特色（無景觀、特殊設施或活動安排，非度假或豪華酒店取向），較適合商務或是團體會議使用。\n",
      "另外三溫暖應提醒住客是裸湯，免得有人有裸體有人穿泳衣褲，使用起來十分尷尬。\n",
      "以五星級飯店來說 這樣的房價算很優惠的了~ 如果以我所住過的五星級飯店來說 這裡有很多可以進步的空間! 例如早餐很多都是冷的 不知是我大約9:15左右吃的關係嗎? 不過他的台南擔仔麵溫暖的我的胃跟心! 而他早餐餐廳的裝潢擄獲我老婆的拍照慾望，飯店有小孩遊戲室，三溫暖(雖然是泡自來水)，如果可以加一點溫泉粉會更加分。\n",
      "假設你是要來台北信義區或去南港展覽館，這是不錯的選擇，且COSTCO就在旁邊，也不怕沒東西可以吃!\n",
      "\n",
      "近國道一、國道三汐止交流道，飯店地下室附停車場，開車很方便!\n",
      "\n",
      "館內設施不多，但大體上整潔、保養的不錯!\n",
      "\n",
      "一年內第二次入住了，下次還是會再考慮入住這間飯店。\n",
      "住的相當舒適，床舒服枕頭軟硬適中，飯店乾淨整潔，泡湯設備完備，住的質感想當好。\r\n",
      "早餐有相當大的改進空間，好吃的東西沒幾樣，看到好多人跟我一樣拿個空盤子轉阿轉，優格請不要加糖，因為旁邊已經有美味果醬可加，飲料只有加了糖水的風味飲料，請把拿優格裝在小瓶子的時間，拿來榨些果汁，早餐可以喝到新鮮的果菜汁，一定非常幸福，而不是橘子風味和葡萄風味的加糖飲料，還有桌面有張空席和用餐中的牌子，入席前也要宣導，放了用餐中的紅牌子，回來一看桌面竟然被收了一半，牌子還被擺回空席，這是哪門子的玩笑呀！\r\n",
      "\n",
      "訂房留言回答快速，房間乾淨，早餐豐富。\n",
      "位置較偏僻，但地下平面停車位多。有開車算方便。\n",
      "CP值高 ,但地點要交通工具或接駁\n",
      "優：飯店人員服務非常用心及貼心，是個難忘的住宿經驗。\n",
      "缺：如能再增加自助洗衣設備會更棒！\n",
      "飯店周遭飲食不便,且因未在捷運旁造成展覽結束後回飯店困難重重,南港展覽館在尖峰時刻很難叫到計程車,對於參展的廠商沒有相對配合可以接駁回飯店的接駁車, 因參展結束後都6點,但飯店發車是6點或5點半,根本來不及搭車,希望以後能增加班次或延後個10-20分＿\n",
      "櫃台服務人員有禮貌\n",
      "房間乾淨冷氣很夠, 浴室的熱水強度好也穩定\n",
      "因是出差目的, 對飯店要求只要住得舒服睡得好就可以\n",
      "唯一需改善的是房間隔音不好, 外面及隔壁房的聲音都聽得到\n",
      "早餐款式選擇不太多, 建議可以再新增多些\n",
      "以比較嚴格的標準來看的話，隔音比較差一點，早餐還ok不到驚艷，我們半夜才洗澡熱水沒有很熱，但其他都還不錯。\n",
      "很不錯的旅店...早餐菜色可以再多一些變化...會更好!\n",
      "很棒的飯店\n",
      "下次有來還會來住喔\n",
      "\n",
      "很棒的飯店\n",
      "下次有來還會來住喔\n",
      "\n",
      "地下停車場是我去過的飯店最寬敞最好停也最方便的飯店，我好幾次再回來都是因為這個停車場的緣故，上高速公路也超級快，三溫暖大浴池實在舒服又棒，一大早去泡再去吃美味又多樣的早餐非常享受，房間寬敞、員工服務態度都很好，值得一再推薦\n",
      "優點 : 櫃台親切有禮,大廰環境整潔\n",
      "缺點: \n",
      "1.櫃台小姐說要幫我由高級客房升等豪華房,但進入房間後是高級客房的房間,沒有升等,有點小失望\n",
      "2. 房間地毯很髒,椅子上還留有前位房客的頭髮,清潔宜加強           \n",
      "3.早上在走廊清潔員工聲音大聲,關門很用力,大力關門好多次,很糟糕,,出了房門,清潔車全擺在門口,看看時間也才   10點多, 退房是12點,真的佷糟,,之前住也不會這樣,員工訓練宜加強 \n",
      " \n",
      "當天是初四.自行開車,我家的噗噗君大概有1米9.飯店的停車場在地下室,很好停.不是機械式的.\n",
      "櫃檯人員的態度也很棒.雖然我叨叨絮絮的問了好些問題.但都被溫柔親切的回答了.\n",
      "住四人房.很大.從床到電視之間以我身高150CM的臂展可以有兩個.\n",
      "有浴缸.放水速度算快\n",
      "請人員送枕頭跟被子(我家都習慣一人一套枕被)也很快就送到了.\n",
      "雖然是在河的這一邊.但飯店有免費的接駁車可以往返南港展覽館捷運站.我們當天晚上就是這樣去搭捷運的.\n",
      "早餐菜色就是很正常的飯店早餐.不會不好吃.\n",
      "房間隔音應該很不錯.因為我早上用餐遇到好幾組的韓客.但前一晚住宿的時候完全不覺得吵.\n",
      "樓下還有大浴池..沒有什麼景.他的淋浴區跟泡湯池還有烤箱跟蒸氣室跟加賀屋一樣是在同一個空間.所以整個大小約略是加賀屋的1/3.\n",
      "但我覺得很超值.畢竟這不是溫泉飯店.台灣不是溫泉飯店但卻設有大浴池的飯店真的不多.(價格還這麼便宜)而且當晚除了我跟我家人以外,也就遇到兩個人來泡.\n",
      "附近的步行範圍內沒什麼商店.只有對面一間私人非連鎖超商.而且不是24hr.大半夜的話不太好買.所以建議想買什麼最好先在鬧區解決.\n",
      "整體來說很推.\n",
      "P.S:他不是那種外型或者佈置很奇特的飯店.但一走進大廳就會覺得很舒適.\n",
      "\n",
      "\n",
      "1. 沒迎賓水果( 以前都有的)\n",
      "2. 床上枕頭只有一只( 以前都兩只), 落枕後發現一只藏在衣櫃裡.\n",
      "3. 餐廳做蛋包的師傅, 客人在前面, 頭也不抬. 不理人. 回頭蛋包又先給了別人. 建議用號碼牌, 大家省事.\n",
      "4. 自助餐廳\"使用中座位\"識別, 要改善. 我甚至把房卡放在餐桌上, 員工還是把我的刀叉收走了, 更不用說, 已使用餐廳內“使用中“的紅色標簽.\n",
      "5. 還好, 前台還算順利, 但信用卡單也差點沒給我簽名, 所幸我提醒.\n",
      "6. 總之, 在此10數次的住宿, 這次是荒腔走板...\n",
      "7. 服務團隊要加油了 !!!\n",
      "這趟旅行是家族之旅，有3歲的小孩同行，房務安排了壁貼與玩具都齊全的孩童房，這點蠻驚喜的，小朋友很喜歡。不過切記一定要訂富有早餐的房型，不然附近都沒有早餐店實在很麻煩。有接駁車，不過回程在南港展覽館六號出口卻沒有顯示停等位置，還要打電話向房務確認，這個有些小麻煩。房間設施還不錯，空間確實很大，備品也齊全，可惜沒有HDMI線。第一日入房房間空調有潮濕霉味，向櫃檯反映後送上了一台空氣清淨機。\n"
     ]
    }
   ],
   "source": [
    "browser = webdriver.Chrome(cd)\n",
    "browser.get(\"https://www.agoda.com/zh-tw/fushin-hotel-taipei/hotel/taipei-tw.html?checkin=2020-01-07&los=1&adults=1&rooms=1&cid=1826371&tag=c9eb0777-faac-f238-8d4b-05488b8a3d0f&searchrequestid=d1931e0a-9717-4d56-8f40-0b1833f7f9b9&travellerType=-1&tspTypes=1&cabinType=Economy&tabbed=true\")\n",
    "browser.set_window_size(1440, 816)\n",
    "browser.execute_script(\"window.scrollTo(0,143)\")\n",
    "browser.execute_script(\"window.scrollTo(0,821)\")\n",
    "browser.execute_script(\"window.scrollTo(0,6980)\")\n",
    "browser.execute_script(\"window.scrollTo(0,8160)\")\n",
    "browser.execute_script(\"window.scrollTo(0,16415)\")\n",
    "browser.execute_script(\"window.scrollTo(0,20161)\")\n",
    "browser.execute_script(\"window.scrollTo(0, document.body.scrollHeight)\")\n",
    "\n",
    "time.sleep(1)\n",
    "soup = BeautifulSoup(browser.page_source)\n",
    "for ele in soup.select(\".Review-comment-body p.Review-comment-bodyText\"):\n",
    "    print(ele.text)\n"
   ]
  },
  {
   "cell_type": "code",
   "execution_count": 296,
   "metadata": {},
   "outputs": [
    {
     "name": "stdout",
     "output_type": "stream",
     "text": [
      "蘊泉庄 (Yun Estate Hotel)\n",
      "tel)\n",
      "/zh-tw/yun-estate-hotel/hotel/taipei-tw.html?checkin=2020-01-07&los=1&adults=1&rooms=1&ro=C00000&cid=1826371&tag=ab92ca0a-b803-8f27-c188-fe307db02490&searchrequestid=165ddd1c-d8a1-4857-9e21-3fc5ac935648&travellerType=0&tspTypes=16&cabinType=Economy\n",
      "宜家商旅 (La Maison Hotel)\n",
      "tel)\n",
      "/zh-tw/la-maison-hotel/hotel/taipei-tw.html?checkin=2020-01-07&los=1&adults=1&rooms=1&ro=C00000&cid=1826371&tag=ab92ca0a-b803-8f27-c188-fe307db02490&searchrequestid=165ddd1c-d8a1-4857-9e21-3fc5ac935648&travellerType=0&cabinType=Economy\n",
      "台北馥華商旅 - 敦北館 (Simple+ Hotel)\n",
      "tel)\n",
      "/zh-tw/hotel-cham-cham-taipei_2/hotel/taipei-tw.html?checkin=2020-01-07&los=1&adults=1&rooms=1&ro=C00000&cid=1826371&tag=ab92ca0a-b803-8f27-c188-fe307db02490&searchrequestid=165ddd1c-d8a1-4857-9e21-3fc5ac935648&travellerType=0&tspTypes=8,1,16&cabinType=Economy\n",
      "倆人旅店 (Hotel Double One)\n",
      "One)\n",
      "/zh-tw/taipei-fullerton-hotel-east/hotel/taipei-tw.html?checkin=2020-01-07&los=1&adults=1&rooms=1&ro=C00000&cid=1826371&tag=ab92ca0a-b803-8f27-c188-fe307db02490&searchrequestid=165ddd1c-d8a1-4857-9e21-3fc5ac935648&travellerType=0&cabinType=Economy\n",
      "台北天成大飯店 (Cosmos Hotel Taipei)\n",
      "pei)\n",
      "/zh-tw/united-hotel/hotel/taipei-tw.html?checkin=2020-01-07&los=1&adults=1&rooms=1&ro=C00000&cid=1826371&tag=ab92ca0a-b803-8f27-c188-fe307db02490&searchrequestid=165ddd1c-d8a1-4857-9e21-3fc5ac935648&travellerType=0&tspTypes=8,16&cabinType=Economy\n",
      "HOME HOTEL DA-AN\n",
      "A-AN\n",
      "/zh-tw/Agoda-Secret-Deals/taiwan/taipei/3e015fb.secret?checkin=2020-01-07&los=1&adults=1&rooms=1&ro=C00000&cid=1826371&tag=ab92ca0a-b803-8f27-c188-fe307db02490&searchrequestid=165ddd1c-d8a1-4857-9e21-3fc5ac935648&travellerType=0&cabinType=Economy\n",
      "福格大飯店 (Hotel Regalees)\n",
      "ees)\n",
      "/zh-tw/fushin-hotel-no-2/hotel/taipei-tw.html?checkin=2020-01-07&los=1&adults=1&rooms=1&ro=C00000&cid=1826371&tag=ab92ca0a-b803-8f27-c188-fe307db02490&searchrequestid=165ddd1c-d8a1-4857-9e21-3fc5ac935648&travellerType=0&tspTypes=8&cabinType=Economy\n",
      "天閣酒店 - 林森店 (Tango Hotel Taipei LinSen)\n",
      "Sen)\n",
      "/zh-tw/capital-hotel-songshan/hotel/taipei-tw.html?checkin=2020-01-07&los=1&adults=1&rooms=1&ro=C00000&cid=1826371&tag=ab92ca0a-b803-8f27-c188-fe307db02490&searchrequestid=165ddd1c-d8a1-4857-9e21-3fc5ac935648&travellerType=0&cabinType=Economy\n"
     ]
    }
   ],
   "source": [
    "browser = webdriver.Chrome(cd)\n",
    "browser.get(\"https://www.agoda.com/zh-tw/search?asq=Uq62oMmDO92bLOxpntQ%2BTEvZuBN2f6E8NhdcdV4DkxOdfPxko8DuO%2Fy%2FTMh7ahoqBocoyS7DIWqeheAl2KchTch924cAsjjhJhdSTXeUCklkivsbECS3yPcj2WgKNbRfV2wSZTw3HszKHRMToXsIr0NZuqqmX9jF%2FPBQ2%2ByXuvw%3D&city=4951&cid=1826371&tag=ab92ca0a-b803-8f27-c188-fe307db02490&tick=637133029320&languageId=20&userId=197c05ba-990e-4b8a-9036-ac7222c312f9&sessionId=mhwg1154zvqwruu1n54i0j0c&pageTypeId=7&origin=TW&locale=zh-TW&aid=82361&currencyCode=TWD&htmlLanguage=zh-tw&cultureInfoName=zh-TW&ckuid=197c05ba-990e-4b8a-9036-ac7222c312f9&prid=0&checkIn=2020-01-07&checkOut=2020-01-08&rooms=1&adults=1&children=0&priceCur=TWD&los=1&textToSearch=%E5%8F%B0%E5%8C%97%E5%B8%82&travellerType=0&familyMode=off&ro=C00000&productType=-1&hotelStarRating=4&sort=agodaRecommended\")\n",
    "\n",
    "for i in range(10):\n",
    "    browser.execute_script(\"window.scrollTo(0, document.body.scrollHeight)\")\n",
    "    time.sleep(1)\n",
    "soup = BeautifulSoup(browser.page_source)\n",
    "for ele,ele2 in zip(soup.select(\".InfoBox__Header h3\"),soup.select(\".PropertyCardItem.ssr-search-result a\")):\n",
    "    print(ele.text)\n",
    "    print(ele.text[-4:])\n",
    "    print(ele2.get(\"href\"))\n",
    "\n"
   ]
  },
  {
   "cell_type": "code",
   "execution_count": null,
   "metadata": {},
   "outputs": [],
   "source": [
    "for ele in soup.select(\".InfoBox__Header h3\"):\n",
    "    print(ele.text)\n",
    "for ele in soup.select(\".PropertyCardItem.ssr-search-result a\"):\n",
    "    print(ele.get(\"href\"))\n",
    "browser.close()"
   ]
  },
  {
   "cell_type": "code",
   "execution_count": 64,
   "metadata": {},
   "outputs": [],
   "source": [
    "Fushin=[] "
   ]
  },
  {
   "cell_type": "code",
   "execution_count": 65,
   "metadata": {},
   "outputs": [],
   "source": [
    "browser = webdriver.Chrome(cd)\n",
    "browser.get(\"https://www.agoda.com/zh-tw/fushin-hotel-taipei/hotel/taipei-tw.html?checkin=2020-01-07&los=1&adults=1&rooms=1&cid=1826371&tag=c9eb0777-faac-f238-8d4b-05488b8a3d0f&searchrequestid=d1931e0a-9717-4d56-8f40-0b1833f7f9b9&travellerType=-1&tspTypes=1&cabinType=Economy&tabbed=true\")\n",
    "browser.set_window_size(1440, 816)\n",
    "for i in range(5):\n",
    "    browser.execute_script(\"window.scrollTo(0, document.body.scrollHeight)\")\n",
    "    time.sleep(1)\n",
    "soup = BeautifulSoup(browser.page_source)\n",
    "for ele in soup.select(\".Review-comment-body p.Review-comment-bodyText\"):\n",
    "    Fushin.append(ele.text)\n",
    "browser.close()"
   ]
  },
  {
   "cell_type": "code",
   "execution_count": 66,
   "metadata": {},
   "outputs": [
    {
     "data": {
      "text/plain": [
       "20"
      ]
     },
     "execution_count": 66,
     "metadata": {},
     "output_type": "execute_result"
    }
   ],
   "source": [
    "len(Fushin)"
   ]
  },
  {
   "cell_type": "code",
   "execution_count": 81,
   "metadata": {},
   "outputs": [
    {
     "name": "stdout",
     "output_type": "stream",
     "text": [
      "因為剛開幕時入住感受極佳  這次已再相隔四年入住所以這次再選擇富信 一切本來都還不錯 雖然跟剛開幕比是有一丁點落差 但整體還是不錯 but.......\n",
      "睡到半夜三點被冷氣機漏水聲音滴到地毯聲音吵醒\n",
      "開燈一看 出風口旁已被滲水裂出一條痕跡  打電話給服務中心派人來看之後就跑到走廊打電話請師傅來 \n",
      "整個過程拖了20-30分才問我們要不要換房 我問說那可以先離開讓我們換個衣服嗎?師傅也不為所動\n",
      "我們只好到廁所去換，然後把睡夢中的小孩抱到新房間(這時已經4點左右) 之後飯店也沒主動提出要給任何補償 我才打給飯店問能不能延後退房 櫃台回我只能延一小時 但睡眠被中斷之後翻來覆去好久才再入睡 隔天起來超疲憊 退房時也沒人因為此事向我們打聲招呼 實在遺憾\n",
      "1. 住宿很多次了,  浴室的設施一直都有狀況, 譬如淋浴間的門無法密合關門, 這次住宿蓮蓬頭都已經壞掉了\n",
      "2. 浴巾沒有清洗乾淨, 咖啡杯沒有洗乾淨\n",
      "3. agoda有提供\"提前入住的需求\"的選項, 但是飯店都沒有回覆可不可以, 等到要入住了, 打電話去問\"也僅回覆不敢保證\", 等到我到飯店, 飯店真的讓客人在大廳等1個小時, 更令人生氣的是, 同樣是無法提早入住, 櫃台人員親自把房間門卡送到同樣在大廳等待的外國客人, 而我卻是在大廳等1個小時, 然後還要自己去跟櫃台人員拿門卡, 原來飯店的櫃台人員是歧視本國籍的旅客\n",
      "優點：\n",
      "飯店整潔度佳，且非常貼心於床頭及Mini Bar均擺設礦泉水，備品齊全，牙刷是小刷頭的十分加分，房務無可挑剔。\n",
      "健身房設備齊全，空間適中不壅擠，三溫暖非常乾淨，晚上或早晨適合泡一泡放鬆。\n",
      "早餐樣式種類不少，該有的都有且調味不差。\n",
      "價格相當實惠，服務態度適中，不過度殷勤。\n",
      "飯店整體適合商務旅行，或員工訓練、會議用途。\n",
      "\n",
      "缺點：\n",
      "雖然是觀光局五星級飯店，但是整體較無特色（無景觀、特殊設施或活動安排，非度假或豪華酒店取向），較適合商務或是團體會議使用。\n",
      "另外三溫暖應提醒住客是裸湯，免得有人有裸體有人穿泳衣褲，使用起來十分尷尬。\n",
      "以五星級飯店來說 這樣的房價算很優惠的了~ 如果以我所住過的五星級飯店來說 這裡有很多可以進步的空間! 例如早餐很多都是冷的 不知是我大約9:15左右吃的關係嗎? 不過他的台南擔仔麵溫暖的我的胃跟心! 而他早餐餐廳的裝潢擄獲我老婆的拍照慾望，飯店有小孩遊戲室，三溫暖(雖然是泡自來水)，如果可以加一點溫泉粉會更加分。\n",
      "假設你是要來台北信義區或去南港展覽館，這是不錯的選擇，且COSTCO就在旁邊，也不怕沒東西可以吃!\n",
      "\n",
      "近國道一、國道三汐止交流道，飯店地下室附停車場，開車很方便!\n",
      "\n",
      "館內設施不多，但大體上整潔、保養的不錯!\n",
      "\n",
      "一年內第二次入住了，下次還是會再考慮入住這間飯店。\n",
      "住的相當舒適，床舒服枕頭軟硬適中，飯店乾淨整潔，泡湯設備完備，住的質感想當好。\r\n",
      "早餐有相當大的改進空間，好吃的東西沒幾樣，看到好多人跟我一樣拿個空盤子轉阿轉，優格請不要加糖，因為旁邊已經有美味果醬可加，飲料只有加了糖水的風味飲料，請把拿優格裝在小瓶子的時間，拿來榨些果汁，早餐可以喝到新鮮的果菜汁，一定非常幸福，而不是橘子風味和葡萄風味的加糖飲料，還有桌面有張空席和用餐中的牌子，入席前也要宣導，放了用餐中的紅牌子，回來一看桌面竟然被收了一半，牌子還被擺回空席，這是哪門子的玩笑呀！\r\n",
      "\n",
      "訂房留言回答快速，房間乾淨，早餐豐富。\n",
      "位置較偏僻，但地下平面停車位多。有開車算方便。\n",
      "CP值高 ,但地點要交通工具或接駁\n",
      "優：飯店人員服務非常用心及貼心，是個難忘的住宿經驗。\n",
      "缺：如能再增加自助洗衣設備會更棒！\n",
      "飯店周遭飲食不便,且因未在捷運旁造成展覽結束後回飯店困難重重,南港展覽館在尖峰時刻很難叫到計程車,對於參展的廠商沒有相對配合可以接駁回飯店的接駁車, 因參展結束後都6點,但飯店發車是6點或5點半,根本來不及搭車,希望以後能增加班次或延後個10-20分＿\n",
      "櫃台服務人員有禮貌\n",
      "房間乾淨冷氣很夠, 浴室的熱水強度好也穩定\n",
      "因是出差目的, 對飯店要求只要住得舒服睡得好就可以\n",
      "唯一需改善的是房間隔音不好, 外面及隔壁房的聲音都聽得到\n",
      "早餐款式選擇不太多, 建議可以再新增多些\n",
      "以比較嚴格的標準來看的話，隔音比較差一點，早餐還ok不到驚艷，我們半夜才洗澡熱水沒有很熱，但其他都還不錯。\n",
      "很不錯的旅店...早餐菜色可以再多一些變化...會更好!\n",
      "很棒的飯店\n",
      "下次有來還會來住喔\n",
      "\n",
      "很棒的飯店\n",
      "下次有來還會來住喔\n",
      "\n",
      "地下停車場是我去過的飯店最寬敞最好停也最方便的飯店，我好幾次再回來都是因為這個停車場的緣故，上高速公路也超級快，三溫暖大浴池實在舒服又棒，一大早去泡再去吃美味又多樣的早餐非常享受，房間寬敞、員工服務態度都很好，值得一再推薦\n",
      "優點 : 櫃台親切有禮,大廰環境整潔\n",
      "缺點: \n",
      "1.櫃台小姐說要幫我由高級客房升等豪華房,但進入房間後是高級客房的房間,沒有升等,有點小失望\n",
      "2. 房間地毯很髒,椅子上還留有前位房客的頭髮,清潔宜加強           \n",
      "3.早上在走廊清潔員工聲音大聲,關門很用力,大力關門好多次,很糟糕,,出了房門,清潔車全擺在門口,看看時間也才   10點多, 退房是12點,真的佷糟,,之前住也不會這樣,員工訓練宜加強 \n",
      " \n",
      "當天是初四.自行開車,我家的噗噗君大概有1米9.飯店的停車場在地下室,很好停.不是機械式的.\n",
      "櫃檯人員的態度也很棒.雖然我叨叨絮絮的問了好些問題.但都被溫柔親切的回答了.\n",
      "住四人房.很大.從床到電視之間以我身高150CM的臂展可以有兩個.\n",
      "有浴缸.放水速度算快\n",
      "請人員送枕頭跟被子(我家都習慣一人一套枕被)也很快就送到了.\n",
      "雖然是在河的這一邊.但飯店有免費的接駁車可以往返南港展覽館捷運站.我們當天晚上就是這樣去搭捷運的.\n",
      "早餐菜色就是很正常的飯店早餐.不會不好吃.\n",
      "房間隔音應該很不錯.因為我早上用餐遇到好幾組的韓客.但前一晚住宿的時候完全不覺得吵.\n",
      "樓下還有大浴池..沒有什麼景.他的淋浴區跟泡湯池還有烤箱跟蒸氣室跟加賀屋一樣是在同一個空間.所以整個大小約略是加賀屋的1/3.\n",
      "但我覺得很超值.畢竟這不是溫泉飯店.台灣不是溫泉飯店但卻設有大浴池的飯店真的不多.(價格還這麼便宜)而且當晚除了我跟我家人以外,也就遇到兩個人來泡.\n",
      "附近的步行範圍內沒什麼商店.只有對面一間私人非連鎖超商.而且不是24hr.大半夜的話不太好買.所以建議想買什麼最好先在鬧區解決.\n",
      "整體來說很推.\n",
      "P.S:他不是那種外型或者佈置很奇特的飯店.但一走進大廳就會覺得很舒適.\n",
      "\n",
      "\n",
      "1. 沒迎賓水果( 以前都有的)\n",
      "2. 床上枕頭只有一只( 以前都兩只), 落枕後發現一只藏在衣櫃裡.\n",
      "3. 餐廳做蛋包的師傅, 客人在前面, 頭也不抬. 不理人. 回頭蛋包又先給了別人. 建議用號碼牌, 大家省事.\n",
      "4. 自助餐廳\"使用中座位\"識別, 要改善. 我甚至把房卡放在餐桌上, 員工還是把我的刀叉收走了, 更不用說, 已使用餐廳內“使用中“的紅色標簽.\n",
      "5. 還好, 前台還算順利, 但信用卡單也差點沒給我簽名, 所幸我提醒.\n",
      "6. 總之, 在此10數次的住宿, 這次是荒腔走板...\n",
      "7. 服務團隊要加油了 !!!\n",
      "這趟旅行是家族之旅，有3歲的小孩同行，房務安排了壁貼與玩具都齊全的孩童房，這點蠻驚喜的，小朋友很喜歡。不過切記一定要訂富有早餐的房型，不然附近都沒有早餐店實在很麻煩。有接駁車，不過回程在南港展覽館六號出口卻沒有顯示停等位置，還要打電話向房務確認，這個有些小麻煩。房間設施還不錯，空間確實很大，備品也齊全，可惜沒有HDMI線。第一日入房房間空調有潮濕霉味，向櫃檯反映後送上了一台空氣清淨機。\n"
     ]
    },
    {
     "ename": "ElementClickInterceptedException",
     "evalue": "Message: element click intercepted: Element <i class=\"ficon ficon-24 ficon-carrouselarrow-right\"></i> is not clickable at point (850, 12). Other element would receive the click: <div data-selenium=\"checkOutBox\" data-date=\"2020-01-08\" class=\"SearchBoxTextDescription SearchBoxTextDescription--checkOut\">...</div>\n  (Session info: chrome=79.0.3945.88)\n",
     "output_type": "error",
     "traceback": [
      "\u001b[0;31m---------------------------------------------------------------------------\u001b[0m",
      "\u001b[0;31mElementClickInterceptedException\u001b[0m          Traceback (most recent call last)",
      "\u001b[0;32m<ipython-input-81-2d2cb5f87a88>\u001b[0m in \u001b[0;36m<module>\u001b[0;34m\u001b[0m\n\u001b[1;32m     17\u001b[0m         \u001b[0;31m#Fushin.append(ele.text)\u001b[0m\u001b[0;34m\u001b[0m\u001b[0;34m\u001b[0m\u001b[0;34m\u001b[0m\u001b[0m\n\u001b[1;32m     18\u001b[0m         \u001b[0mprint\u001b[0m\u001b[0;34m(\u001b[0m\u001b[0mele\u001b[0m\u001b[0;34m.\u001b[0m\u001b[0mtext\u001b[0m\u001b[0;34m)\u001b[0m\u001b[0;34m\u001b[0m\u001b[0;34m\u001b[0m\u001b[0m\n\u001b[0;32m---> 19\u001b[0;31m     \u001b[0mbrowser\u001b[0m\u001b[0;34m.\u001b[0m\u001b[0mfind_element_by_css_selector\u001b[0m\u001b[0;34m(\u001b[0m\u001b[0;34m\".Review-paginator:nth-child(6) .ficon-carrouselarrow-right\"\u001b[0m\u001b[0;34m)\u001b[0m\u001b[0;34m.\u001b[0m\u001b[0mclick\u001b[0m\u001b[0;34m(\u001b[0m\u001b[0;34m)\u001b[0m\u001b[0;34m\u001b[0m\u001b[0;34m\u001b[0m\u001b[0m\n\u001b[0m\u001b[1;32m     20\u001b[0m \u001b[0;34m\u001b[0m\u001b[0m\n\u001b[1;32m     21\u001b[0m \u001b[0mbrowser\u001b[0m\u001b[0;34m.\u001b[0m\u001b[0mclose\u001b[0m\u001b[0;34m(\u001b[0m\u001b[0;34m)\u001b[0m\u001b[0;34m\u001b[0m\u001b[0;34m\u001b[0m\u001b[0m\n",
      "\u001b[0;32m/anaconda3/lib/python3.7/site-packages/selenium/webdriver/remote/webelement.py\u001b[0m in \u001b[0;36mclick\u001b[0;34m(self)\u001b[0m\n\u001b[1;32m     78\u001b[0m     \u001b[0;32mdef\u001b[0m \u001b[0mclick\u001b[0m\u001b[0;34m(\u001b[0m\u001b[0mself\u001b[0m\u001b[0;34m)\u001b[0m\u001b[0;34m:\u001b[0m\u001b[0;34m\u001b[0m\u001b[0;34m\u001b[0m\u001b[0m\n\u001b[1;32m     79\u001b[0m         \u001b[0;34m\"\"\"Clicks the element.\"\"\"\u001b[0m\u001b[0;34m\u001b[0m\u001b[0;34m\u001b[0m\u001b[0m\n\u001b[0;32m---> 80\u001b[0;31m         \u001b[0mself\u001b[0m\u001b[0;34m.\u001b[0m\u001b[0m_execute\u001b[0m\u001b[0;34m(\u001b[0m\u001b[0mCommand\u001b[0m\u001b[0;34m.\u001b[0m\u001b[0mCLICK_ELEMENT\u001b[0m\u001b[0;34m)\u001b[0m\u001b[0;34m\u001b[0m\u001b[0;34m\u001b[0m\u001b[0m\n\u001b[0m\u001b[1;32m     81\u001b[0m \u001b[0;34m\u001b[0m\u001b[0m\n\u001b[1;32m     82\u001b[0m     \u001b[0;32mdef\u001b[0m \u001b[0msubmit\u001b[0m\u001b[0;34m(\u001b[0m\u001b[0mself\u001b[0m\u001b[0;34m)\u001b[0m\u001b[0;34m:\u001b[0m\u001b[0;34m\u001b[0m\u001b[0;34m\u001b[0m\u001b[0m\n",
      "\u001b[0;32m/anaconda3/lib/python3.7/site-packages/selenium/webdriver/remote/webelement.py\u001b[0m in \u001b[0;36m_execute\u001b[0;34m(self, command, params)\u001b[0m\n\u001b[1;32m    631\u001b[0m             \u001b[0mparams\u001b[0m \u001b[0;34m=\u001b[0m \u001b[0;34m{\u001b[0m\u001b[0;34m}\u001b[0m\u001b[0;34m\u001b[0m\u001b[0;34m\u001b[0m\u001b[0m\n\u001b[1;32m    632\u001b[0m         \u001b[0mparams\u001b[0m\u001b[0;34m[\u001b[0m\u001b[0;34m'id'\u001b[0m\u001b[0;34m]\u001b[0m \u001b[0;34m=\u001b[0m \u001b[0mself\u001b[0m\u001b[0;34m.\u001b[0m\u001b[0m_id\u001b[0m\u001b[0;34m\u001b[0m\u001b[0;34m\u001b[0m\u001b[0m\n\u001b[0;32m--> 633\u001b[0;31m         \u001b[0;32mreturn\u001b[0m \u001b[0mself\u001b[0m\u001b[0;34m.\u001b[0m\u001b[0m_parent\u001b[0m\u001b[0;34m.\u001b[0m\u001b[0mexecute\u001b[0m\u001b[0;34m(\u001b[0m\u001b[0mcommand\u001b[0m\u001b[0;34m,\u001b[0m \u001b[0mparams\u001b[0m\u001b[0;34m)\u001b[0m\u001b[0;34m\u001b[0m\u001b[0;34m\u001b[0m\u001b[0m\n\u001b[0m\u001b[1;32m    634\u001b[0m \u001b[0;34m\u001b[0m\u001b[0m\n\u001b[1;32m    635\u001b[0m     \u001b[0;32mdef\u001b[0m \u001b[0mfind_element\u001b[0m\u001b[0;34m(\u001b[0m\u001b[0mself\u001b[0m\u001b[0;34m,\u001b[0m \u001b[0mby\u001b[0m\u001b[0;34m=\u001b[0m\u001b[0mBy\u001b[0m\u001b[0;34m.\u001b[0m\u001b[0mID\u001b[0m\u001b[0;34m,\u001b[0m \u001b[0mvalue\u001b[0m\u001b[0;34m=\u001b[0m\u001b[0;32mNone\u001b[0m\u001b[0;34m)\u001b[0m\u001b[0;34m:\u001b[0m\u001b[0;34m\u001b[0m\u001b[0;34m\u001b[0m\u001b[0m\n",
      "\u001b[0;32m/anaconda3/lib/python3.7/site-packages/selenium/webdriver/remote/webdriver.py\u001b[0m in \u001b[0;36mexecute\u001b[0;34m(self, driver_command, params)\u001b[0m\n\u001b[1;32m    319\u001b[0m         \u001b[0mresponse\u001b[0m \u001b[0;34m=\u001b[0m \u001b[0mself\u001b[0m\u001b[0;34m.\u001b[0m\u001b[0mcommand_executor\u001b[0m\u001b[0;34m.\u001b[0m\u001b[0mexecute\u001b[0m\u001b[0;34m(\u001b[0m\u001b[0mdriver_command\u001b[0m\u001b[0;34m,\u001b[0m \u001b[0mparams\u001b[0m\u001b[0;34m)\u001b[0m\u001b[0;34m\u001b[0m\u001b[0;34m\u001b[0m\u001b[0m\n\u001b[1;32m    320\u001b[0m         \u001b[0;32mif\u001b[0m \u001b[0mresponse\u001b[0m\u001b[0;34m:\u001b[0m\u001b[0;34m\u001b[0m\u001b[0;34m\u001b[0m\u001b[0m\n\u001b[0;32m--> 321\u001b[0;31m             \u001b[0mself\u001b[0m\u001b[0;34m.\u001b[0m\u001b[0merror_handler\u001b[0m\u001b[0;34m.\u001b[0m\u001b[0mcheck_response\u001b[0m\u001b[0;34m(\u001b[0m\u001b[0mresponse\u001b[0m\u001b[0;34m)\u001b[0m\u001b[0;34m\u001b[0m\u001b[0;34m\u001b[0m\u001b[0m\n\u001b[0m\u001b[1;32m    322\u001b[0m             response['value'] = self._unwrap_value(\n\u001b[1;32m    323\u001b[0m                 response.get('value', None))\n",
      "\u001b[0;32m/anaconda3/lib/python3.7/site-packages/selenium/webdriver/remote/errorhandler.py\u001b[0m in \u001b[0;36mcheck_response\u001b[0;34m(self, response)\u001b[0m\n\u001b[1;32m    240\u001b[0m                 \u001b[0malert_text\u001b[0m \u001b[0;34m=\u001b[0m \u001b[0mvalue\u001b[0m\u001b[0;34m[\u001b[0m\u001b[0;34m'alert'\u001b[0m\u001b[0;34m]\u001b[0m\u001b[0;34m.\u001b[0m\u001b[0mget\u001b[0m\u001b[0;34m(\u001b[0m\u001b[0;34m'text'\u001b[0m\u001b[0;34m)\u001b[0m\u001b[0;34m\u001b[0m\u001b[0;34m\u001b[0m\u001b[0m\n\u001b[1;32m    241\u001b[0m             \u001b[0;32mraise\u001b[0m \u001b[0mexception_class\u001b[0m\u001b[0;34m(\u001b[0m\u001b[0mmessage\u001b[0m\u001b[0;34m,\u001b[0m \u001b[0mscreen\u001b[0m\u001b[0;34m,\u001b[0m \u001b[0mstacktrace\u001b[0m\u001b[0;34m,\u001b[0m \u001b[0malert_text\u001b[0m\u001b[0;34m)\u001b[0m\u001b[0;34m\u001b[0m\u001b[0;34m\u001b[0m\u001b[0m\n\u001b[0;32m--> 242\u001b[0;31m         \u001b[0;32mraise\u001b[0m \u001b[0mexception_class\u001b[0m\u001b[0;34m(\u001b[0m\u001b[0mmessage\u001b[0m\u001b[0;34m,\u001b[0m \u001b[0mscreen\u001b[0m\u001b[0;34m,\u001b[0m \u001b[0mstacktrace\u001b[0m\u001b[0;34m)\u001b[0m\u001b[0;34m\u001b[0m\u001b[0;34m\u001b[0m\u001b[0m\n\u001b[0m\u001b[1;32m    243\u001b[0m \u001b[0;34m\u001b[0m\u001b[0m\n\u001b[1;32m    244\u001b[0m     \u001b[0;32mdef\u001b[0m \u001b[0m_value_or_default\u001b[0m\u001b[0;34m(\u001b[0m\u001b[0mself\u001b[0m\u001b[0;34m,\u001b[0m \u001b[0mobj\u001b[0m\u001b[0;34m,\u001b[0m \u001b[0mkey\u001b[0m\u001b[0;34m,\u001b[0m \u001b[0mdefault\u001b[0m\u001b[0;34m)\u001b[0m\u001b[0;34m:\u001b[0m\u001b[0;34m\u001b[0m\u001b[0;34m\u001b[0m\u001b[0m\n",
      "\u001b[0;31mElementClickInterceptedException\u001b[0m: Message: element click intercepted: Element <i class=\"ficon ficon-24 ficon-carrouselarrow-right\"></i> is not clickable at point (850, 12). Other element would receive the click: <div data-selenium=\"checkOutBox\" data-date=\"2020-01-08\" class=\"SearchBoxTextDescription SearchBoxTextDescription--checkOut\">...</div>\n  (Session info: chrome=79.0.3945.88)\n"
     ]
    }
   ],
   "source": [
    "Fushin=[] \n",
    "browser = webdriver.Chrome(cd)\n",
    "browser.get(\"https://www.agoda.com/zh-tw/fushin-hotel-taipei/hotel/taipei-tw.html?checkin=2020-01-07&los=1&adults=1&rooms=1&cid=1826371&tag=c9eb0777-faac-f238-8d4b-05488b8a3d0f&searchrequestid=d1931e0a-9717-4d56-8f40-0b1833f7f9b9&travellerType=-1&tspTypes=1&cabinType=Economy&tabbed=true\")\n",
    "browser.set_window_size(1440, 816)\n",
    "for i in range(3):\n",
    "    browser.execute_script(\"window.scrollTo(0,143)\")\n",
    "    browser.execute_script(\"window.scrollTo(0,821)\")\n",
    "    browser.execute_script(\"window.scrollTo(0,6980)\")\n",
    "    browser.execute_script(\"window.scrollTo(0,8160)\")\n",
    "    browser.execute_script(\"window.scrollTo(0,16415)\")\n",
    "    browser.execute_script(\"window.scrollTo(0,20161)\")\n",
    "    browser.execute_script(\"window.scrollTo(0, document.body.scrollHeight)\")\n",
    "\n",
    "    time.sleep(1)\n",
    "    soup = BeautifulSoup(browser.page_source)\n",
    "    for ele in soup.select(\".Review-comment-body p.Review-comment-bodyText\"):\n",
    "        #Fushin.append(ele.text)\n",
    "        print(ele.text)\n",
    "    browser.find_element_by_css_selector(\".Review-paginator:nth-child(6) .ficon-carrouselarrow-right\").click()\n",
    "\n",
    "browser.close()"
   ]
  },
  {
   "cell_type": "code",
   "execution_count": 106,
   "metadata": {},
   "outputs": [
    {
     "data": {
      "text/plain": [
       "40"
      ]
     },
     "execution_count": 106,
     "metadata": {},
     "output_type": "execute_result"
    }
   ],
   "source": [
    "len(Fushin)"
   ]
  },
  {
   "cell_type": "code",
   "execution_count": 69,
   "metadata": {},
   "outputs": [
    {
     "data": {
      "text/plain": [
       "'這趟旅行是家族之旅，有3歲的小孩同行，房務安排了壁貼與玩具都齊全的孩童房，這點蠻驚喜的，小朋友很喜歡。不過切記一定要訂富有早餐的房型，不然附近都沒有早餐店實在很麻煩。有接駁車，不過回程在南港展覽館六號出口卻沒有顯示停等位置，還要打電話向房務確認，這個有些小麻煩。房間設施還不錯，空間確實很大，備品也齊全，可惜沒有HDMI線。第一日入房房間空調有潮濕霉味，向櫃檯反映後送上了一台空氣清淨機。'"
      ]
     },
     "execution_count": 69,
     "metadata": {},
     "output_type": "execute_result"
    }
   ],
   "source": []
  },
  {
   "cell_type": "code",
   "execution_count": 3,
   "metadata": {},
   "outputs": [
    {
     "name": "stdout",
     "output_type": "stream",
     "text": [
      "因為剛開幕時入住感受極佳  這次已再相隔四年入住所以這次再選擇富信 一切本來都還不錯 雖然跟剛開幕比是有一丁點落差 但整體還是不錯 but.......\n",
      "睡到半夜三點被冷氣機漏水聲音滴到地毯聲音吵醒\n",
      "開燈一看 出風口旁已被滲水裂出一條痕跡  打電話給服務中心派人來看之後就跑到走廊打電話請師傅來 \n",
      "整個過程拖了20-30分才問我們要不要換房 我問說那可以先離開讓我們換個衣服嗎?師傅也不為所動\n",
      "我們只好到廁所去換，然後把睡夢中的小孩抱到新房間(這時已經4點左右) 之後飯店也沒主動提出要給任何補償 我才打給飯店問能不能延後退房 櫃台回我只能延一小時 但睡眠被中斷之後翻來覆去好久才再入睡 隔天起來超疲憊 退房時也沒人因為此事向我們打聲招呼 實在遺憾\n",
      "1. 住宿很多次了,  浴室的設施一直都有狀況, 譬如淋浴間的門無法密合關門, 這次住宿蓮蓬頭都已經壞掉了\n",
      "2. 浴巾沒有清洗乾淨, 咖啡杯沒有洗乾淨\n",
      "3. agoda有提供\"提前入住的需求\"的選項, 但是飯店都沒有回覆可不可以, 等到要入住了, 打電話去問\"也僅回覆不敢保證\", 等到我到飯店, 飯店真的讓客人在大廳等1個小時, 更令人生氣的是, 同樣是無法提早入住, 櫃台人員親自把房間門卡送到同樣在大廳等待的外國客人, 而我卻是在大廳等1個小時, 然後還要自己去跟櫃台人員拿門卡, 原來飯店的櫃台人員是歧視本國籍的旅客\n",
      "優點：\n",
      "飯店整潔度佳，且非常貼心於床頭及Mini Bar均擺設礦泉水，備品齊全，牙刷是小刷頭的十分加分，房務無可挑剔。\n",
      "健身房設備齊全，空間適中不壅擠，三溫暖非常乾淨，晚上或早晨適合泡一泡放鬆。\n",
      "早餐樣式種類不少，該有的都有且調味不差。\n",
      "價格相當實惠，服務態度適中，不過度殷勤。\n",
      "飯店整體適合商務旅行，或員工訓練、會議用途。\n",
      "\n",
      "缺點：\n",
      "雖然是觀光局五星級飯店，但是整體較無特色（無景觀、特殊設施或活動安排，非度假或豪華酒店取向），較適合商務或是團體會議使用。\n",
      "另外三溫暖應提醒住客是裸湯，免得有人有裸體有人穿泳衣褲，使用起來十分尷尬。\n",
      "以五星級飯店來說 這樣的房價算很優惠的了~ 如果以我所住過的五星級飯店來說 這裡有很多可以進步的空間! 例如早餐很多都是冷的 不知是我大約9:15左右吃的關係嗎? 不過他的台南擔仔麵溫暖的我的胃跟心! 而他早餐餐廳的裝潢擄獲我老婆的拍照慾望，飯店有小孩遊戲室，三溫暖(雖然是泡自來水)，如果可以加一點溫泉粉會更加分。\n",
      "假設你是要來台北信義區或去南港展覽館，這是不錯的選擇，且COSTCO就在旁邊，也不怕沒東西可以吃!\n",
      "\n",
      "近國道一、國道三汐止交流道，飯店地下室附停車場，開車很方便!\n",
      "\n",
      "館內設施不多，但大體上整潔、保養的不錯!\n",
      "\n",
      "一年內第二次入住了，下次還是會再考慮入住這間飯店。\n",
      "住的相當舒適，床舒服枕頭軟硬適中，飯店乾淨整潔，泡湯設備完備，住的質感想當好。\r\n",
      "早餐有相當大的改進空間，好吃的東西沒幾樣，看到好多人跟我一樣拿個空盤子轉阿轉，優格請不要加糖，因為旁邊已經有美味果醬可加，飲料只有加了糖水的風味飲料，請把拿優格裝在小瓶子的時間，拿來榨些果汁，早餐可以喝到新鮮的果菜汁，一定非常幸福，而不是橘子風味和葡萄風味的加糖飲料，還有桌面有張空席和用餐中的牌子，入席前也要宣導，放了用餐中的紅牌子，回來一看桌面竟然被收了一半，牌子還被擺回空席，這是哪門子的玩笑呀！\r\n",
      "\n",
      "訂房留言回答快速，房間乾淨，早餐豐富。\n",
      "位置較偏僻，但地下平面停車位多。有開車算方便。\n",
      "CP值高 ,但地點要交通工具或接駁\n",
      "優：飯店人員服務非常用心及貼心，是個難忘的住宿經驗。\n",
      "缺：如能再增加自助洗衣設備會更棒！\n",
      "飯店周遭飲食不便,且因未在捷運旁造成展覽結束後回飯店困難重重,南港展覽館在尖峰時刻很難叫到計程車,對於參展的廠商沒有相對配合可以接駁回飯店的接駁車, 因參展結束後都6點,但飯店發車是6點或5點半,根本來不及搭車,希望以後能增加班次或延後個10-20分＿\n",
      "櫃台服務人員有禮貌\n",
      "房間乾淨冷氣很夠, 浴室的熱水強度好也穩定\n",
      "因是出差目的, 對飯店要求只要住得舒服睡得好就可以\n",
      "唯一需改善的是房間隔音不好, 外面及隔壁房的聲音都聽得到\n",
      "早餐款式選擇不太多, 建議可以再新增多些\n",
      "以比較嚴格的標準來看的話，隔音比較差一點，早餐還ok不到驚艷，我們半夜才洗澡熱水沒有很熱，但其他都還不錯。\n",
      "很不錯的旅店...早餐菜色可以再多一些變化...會更好!\n",
      "很棒的飯店\n",
      "下次有來還會來住喔\n",
      "\n",
      "很棒的飯店\n",
      "下次有來還會來住喔\n",
      "\n",
      "地下停車場是我去過的飯店最寬敞最好停也最方便的飯店，我好幾次再回來都是因為這個停車場的緣故，上高速公路也超級快，三溫暖大浴池實在舒服又棒，一大早去泡再去吃美味又多樣的早餐非常享受，房間寬敞、員工服務態度都很好，值得一再推薦\n",
      "優點 : 櫃台親切有禮,大廰環境整潔\n",
      "缺點: \n",
      "1.櫃台小姐說要幫我由高級客房升等豪華房,但進入房間後是高級客房的房間,沒有升等,有點小失望\n",
      "2. 房間地毯很髒,椅子上還留有前位房客的頭髮,清潔宜加強           \n",
      "3.早上在走廊清潔員工聲音大聲,關門很用力,大力關門好多次,很糟糕,,出了房門,清潔車全擺在門口,看看時間也才   10點多, 退房是12點,真的佷糟,,之前住也不會這樣,員工訓練宜加強 \n",
      " \n",
      "當天是初四.自行開車,我家的噗噗君大概有1米9.飯店的停車場在地下室,很好停.不是機械式的.\n",
      "櫃檯人員的態度也很棒.雖然我叨叨絮絮的問了好些問題.但都被溫柔親切的回答了.\n",
      "住四人房.很大.從床到電視之間以我身高150CM的臂展可以有兩個.\n",
      "有浴缸.放水速度算快\n",
      "請人員送枕頭跟被子(我家都習慣一人一套枕被)也很快就送到了.\n",
      "雖然是在河的這一邊.但飯店有免費的接駁車可以往返南港展覽館捷運站.我們當天晚上就是這樣去搭捷運的.\n",
      "早餐菜色就是很正常的飯店早餐.不會不好吃.\n",
      "房間隔音應該很不錯.因為我早上用餐遇到好幾組的韓客.但前一晚住宿的時候完全不覺得吵.\n",
      "樓下還有大浴池..沒有什麼景.他的淋浴區跟泡湯池還有烤箱跟蒸氣室跟加賀屋一樣是在同一個空間.所以整個大小約略是加賀屋的1/3.\n",
      "但我覺得很超值.畢竟這不是溫泉飯店.台灣不是溫泉飯店但卻設有大浴池的飯店真的不多.(價格還這麼便宜)而且當晚除了我跟我家人以外,也就遇到兩個人來泡.\n",
      "附近的步行範圍內沒什麼商店.只有對面一間私人非連鎖超商.而且不是24hr.大半夜的話不太好買.所以建議想買什麼最好先在鬧區解決.\n",
      "整體來說很推.\n",
      "P.S:他不是那種外型或者佈置很奇特的飯店.但一走進大廳就會覺得很舒適.\n",
      "\n",
      "\n",
      "1. 沒迎賓水果( 以前都有的)\n",
      "2. 床上枕頭只有一只( 以前都兩只), 落枕後發現一只藏在衣櫃裡.\n",
      "3. 餐廳做蛋包的師傅, 客人在前面, 頭也不抬. 不理人. 回頭蛋包又先給了別人. 建議用號碼牌, 大家省事.\n",
      "4. 自助餐廳\"使用中座位\"識別, 要改善. 我甚至把房卡放在餐桌上, 員工還是把我的刀叉收走了, 更不用說, 已使用餐廳內“使用中“的紅色標簽.\n",
      "5. 還好, 前台還算順利, 但信用卡單也差點沒給我簽名, 所幸我提醒.\n",
      "6. 總之, 在此10數次的住宿, 這次是荒腔走板...\n",
      "7. 服務團隊要加油了 !!!\n",
      "這趟旅行是家族之旅，有3歲的小孩同行，房務安排了壁貼與玩具都齊全的孩童房，這點蠻驚喜的，小朋友很喜歡。不過切記一定要訂富有早餐的房型，不然附近都沒有早餐店實在很麻煩。有接駁車，不過回程在南港展覽館六號出口卻沒有顯示停等位置，還要打電話向房務確認，這個有些小麻煩。房間設施還不錯，空間確實很大，備品也齊全，可惜沒有HDMI線。第一日入房房間空調有潮濕霉味，向櫃檯反映後送上了一台空氣清淨機。\n"
     ]
    },
    {
     "ename": "ElementNotInteractableException",
     "evalue": "Message: element not interactable\n  (Session info: chrome=79.0.3945.88)\n",
     "output_type": "error",
     "traceback": [
      "\u001b[0;31m---------------------------------------------------------------------------\u001b[0m",
      "\u001b[0;31mElementNotInteractableException\u001b[0m           Traceback (most recent call last)",
      "\u001b[0;32m<ipython-input-3-f3178f7230c0>\u001b[0m in \u001b[0;36m<module>\u001b[0;34m\u001b[0m\n\u001b[1;32m     11\u001b[0m         \u001b[0mprint\u001b[0m\u001b[0;34m(\u001b[0m\u001b[0mele\u001b[0m\u001b[0;34m.\u001b[0m\u001b[0mtext\u001b[0m\u001b[0;34m)\u001b[0m\u001b[0;34m\u001b[0m\u001b[0;34m\u001b[0m\u001b[0m\n\u001b[1;32m     12\u001b[0m         \u001b[0mFushin\u001b[0m\u001b[0;34m.\u001b[0m\u001b[0mappend\u001b[0m\u001b[0;34m(\u001b[0m\u001b[0;34m[\u001b[0m\u001b[0mele\u001b[0m\u001b[0;34m.\u001b[0m\u001b[0mtext\u001b[0m\u001b[0;34m]\u001b[0m\u001b[0;34m)\u001b[0m\u001b[0;34m\u001b[0m\u001b[0;34m\u001b[0m\u001b[0m\n\u001b[0;32m---> 13\u001b[0;31m     \u001b[0mbrowser\u001b[0m\u001b[0;34m.\u001b[0m\u001b[0mfind_element_by_css_selector\u001b[0m\u001b[0;34m(\u001b[0m\u001b[0;34m\".Review-paginator:nth-child(6) .ficon-carrouselarrow-right\"\u001b[0m\u001b[0;34m)\u001b[0m\u001b[0;34m.\u001b[0m\u001b[0mclick\u001b[0m\u001b[0;34m(\u001b[0m\u001b[0;34m)\u001b[0m\u001b[0;34m\u001b[0m\u001b[0;34m\u001b[0m\u001b[0m\n\u001b[0m\u001b[1;32m     14\u001b[0m     \u001b[0;32mfor\u001b[0m \u001b[0mi\u001b[0m \u001b[0;32min\u001b[0m \u001b[0mrange\u001b[0m\u001b[0;34m(\u001b[0m\u001b[0;36m5\u001b[0m\u001b[0;34m)\u001b[0m\u001b[0;34m:\u001b[0m\u001b[0;34m\u001b[0m\u001b[0;34m\u001b[0m\u001b[0m\n\u001b[1;32m     15\u001b[0m         \u001b[0mbrowser\u001b[0m\u001b[0;34m.\u001b[0m\u001b[0mexecute_script\u001b[0m\u001b[0;34m(\u001b[0m\u001b[0;34m\"window.scrollTo(0, document.body.scrollHeight)\"\u001b[0m\u001b[0;34m)\u001b[0m\u001b[0;34m\u001b[0m\u001b[0;34m\u001b[0m\u001b[0m\n",
      "\u001b[0;32m/anaconda3/lib/python3.7/site-packages/selenium/webdriver/remote/webelement.py\u001b[0m in \u001b[0;36mclick\u001b[0;34m(self)\u001b[0m\n\u001b[1;32m     78\u001b[0m     \u001b[0;32mdef\u001b[0m \u001b[0mclick\u001b[0m\u001b[0;34m(\u001b[0m\u001b[0mself\u001b[0m\u001b[0;34m)\u001b[0m\u001b[0;34m:\u001b[0m\u001b[0;34m\u001b[0m\u001b[0;34m\u001b[0m\u001b[0m\n\u001b[1;32m     79\u001b[0m         \u001b[0;34m\"\"\"Clicks the element.\"\"\"\u001b[0m\u001b[0;34m\u001b[0m\u001b[0;34m\u001b[0m\u001b[0m\n\u001b[0;32m---> 80\u001b[0;31m         \u001b[0mself\u001b[0m\u001b[0;34m.\u001b[0m\u001b[0m_execute\u001b[0m\u001b[0;34m(\u001b[0m\u001b[0mCommand\u001b[0m\u001b[0;34m.\u001b[0m\u001b[0mCLICK_ELEMENT\u001b[0m\u001b[0;34m)\u001b[0m\u001b[0;34m\u001b[0m\u001b[0;34m\u001b[0m\u001b[0m\n\u001b[0m\u001b[1;32m     81\u001b[0m \u001b[0;34m\u001b[0m\u001b[0m\n\u001b[1;32m     82\u001b[0m     \u001b[0;32mdef\u001b[0m \u001b[0msubmit\u001b[0m\u001b[0;34m(\u001b[0m\u001b[0mself\u001b[0m\u001b[0;34m)\u001b[0m\u001b[0;34m:\u001b[0m\u001b[0;34m\u001b[0m\u001b[0;34m\u001b[0m\u001b[0m\n",
      "\u001b[0;32m/anaconda3/lib/python3.7/site-packages/selenium/webdriver/remote/webelement.py\u001b[0m in \u001b[0;36m_execute\u001b[0;34m(self, command, params)\u001b[0m\n\u001b[1;32m    631\u001b[0m             \u001b[0mparams\u001b[0m \u001b[0;34m=\u001b[0m \u001b[0;34m{\u001b[0m\u001b[0;34m}\u001b[0m\u001b[0;34m\u001b[0m\u001b[0;34m\u001b[0m\u001b[0m\n\u001b[1;32m    632\u001b[0m         \u001b[0mparams\u001b[0m\u001b[0;34m[\u001b[0m\u001b[0;34m'id'\u001b[0m\u001b[0;34m]\u001b[0m \u001b[0;34m=\u001b[0m \u001b[0mself\u001b[0m\u001b[0;34m.\u001b[0m\u001b[0m_id\u001b[0m\u001b[0;34m\u001b[0m\u001b[0;34m\u001b[0m\u001b[0m\n\u001b[0;32m--> 633\u001b[0;31m         \u001b[0;32mreturn\u001b[0m \u001b[0mself\u001b[0m\u001b[0;34m.\u001b[0m\u001b[0m_parent\u001b[0m\u001b[0;34m.\u001b[0m\u001b[0mexecute\u001b[0m\u001b[0;34m(\u001b[0m\u001b[0mcommand\u001b[0m\u001b[0;34m,\u001b[0m \u001b[0mparams\u001b[0m\u001b[0;34m)\u001b[0m\u001b[0;34m\u001b[0m\u001b[0;34m\u001b[0m\u001b[0m\n\u001b[0m\u001b[1;32m    634\u001b[0m \u001b[0;34m\u001b[0m\u001b[0m\n\u001b[1;32m    635\u001b[0m     \u001b[0;32mdef\u001b[0m \u001b[0mfind_element\u001b[0m\u001b[0;34m(\u001b[0m\u001b[0mself\u001b[0m\u001b[0;34m,\u001b[0m \u001b[0mby\u001b[0m\u001b[0;34m=\u001b[0m\u001b[0mBy\u001b[0m\u001b[0;34m.\u001b[0m\u001b[0mID\u001b[0m\u001b[0;34m,\u001b[0m \u001b[0mvalue\u001b[0m\u001b[0;34m=\u001b[0m\u001b[0;32mNone\u001b[0m\u001b[0;34m)\u001b[0m\u001b[0;34m:\u001b[0m\u001b[0;34m\u001b[0m\u001b[0;34m\u001b[0m\u001b[0m\n",
      "\u001b[0;32m/anaconda3/lib/python3.7/site-packages/selenium/webdriver/remote/webdriver.py\u001b[0m in \u001b[0;36mexecute\u001b[0;34m(self, driver_command, params)\u001b[0m\n\u001b[1;32m    319\u001b[0m         \u001b[0mresponse\u001b[0m \u001b[0;34m=\u001b[0m \u001b[0mself\u001b[0m\u001b[0;34m.\u001b[0m\u001b[0mcommand_executor\u001b[0m\u001b[0;34m.\u001b[0m\u001b[0mexecute\u001b[0m\u001b[0;34m(\u001b[0m\u001b[0mdriver_command\u001b[0m\u001b[0;34m,\u001b[0m \u001b[0mparams\u001b[0m\u001b[0;34m)\u001b[0m\u001b[0;34m\u001b[0m\u001b[0;34m\u001b[0m\u001b[0m\n\u001b[1;32m    320\u001b[0m         \u001b[0;32mif\u001b[0m \u001b[0mresponse\u001b[0m\u001b[0;34m:\u001b[0m\u001b[0;34m\u001b[0m\u001b[0;34m\u001b[0m\u001b[0m\n\u001b[0;32m--> 321\u001b[0;31m             \u001b[0mself\u001b[0m\u001b[0;34m.\u001b[0m\u001b[0merror_handler\u001b[0m\u001b[0;34m.\u001b[0m\u001b[0mcheck_response\u001b[0m\u001b[0;34m(\u001b[0m\u001b[0mresponse\u001b[0m\u001b[0;34m)\u001b[0m\u001b[0;34m\u001b[0m\u001b[0;34m\u001b[0m\u001b[0m\n\u001b[0m\u001b[1;32m    322\u001b[0m             response['value'] = self._unwrap_value(\n\u001b[1;32m    323\u001b[0m                 response.get('value', None))\n",
      "\u001b[0;32m/anaconda3/lib/python3.7/site-packages/selenium/webdriver/remote/errorhandler.py\u001b[0m in \u001b[0;36mcheck_response\u001b[0;34m(self, response)\u001b[0m\n\u001b[1;32m    240\u001b[0m                 \u001b[0malert_text\u001b[0m \u001b[0;34m=\u001b[0m \u001b[0mvalue\u001b[0m\u001b[0;34m[\u001b[0m\u001b[0;34m'alert'\u001b[0m\u001b[0;34m]\u001b[0m\u001b[0;34m.\u001b[0m\u001b[0mget\u001b[0m\u001b[0;34m(\u001b[0m\u001b[0;34m'text'\u001b[0m\u001b[0;34m)\u001b[0m\u001b[0;34m\u001b[0m\u001b[0;34m\u001b[0m\u001b[0m\n\u001b[1;32m    241\u001b[0m             \u001b[0;32mraise\u001b[0m \u001b[0mexception_class\u001b[0m\u001b[0;34m(\u001b[0m\u001b[0mmessage\u001b[0m\u001b[0;34m,\u001b[0m \u001b[0mscreen\u001b[0m\u001b[0;34m,\u001b[0m \u001b[0mstacktrace\u001b[0m\u001b[0;34m,\u001b[0m \u001b[0malert_text\u001b[0m\u001b[0;34m)\u001b[0m\u001b[0;34m\u001b[0m\u001b[0;34m\u001b[0m\u001b[0m\n\u001b[0;32m--> 242\u001b[0;31m         \u001b[0;32mraise\u001b[0m \u001b[0mexception_class\u001b[0m\u001b[0;34m(\u001b[0m\u001b[0mmessage\u001b[0m\u001b[0;34m,\u001b[0m \u001b[0mscreen\u001b[0m\u001b[0;34m,\u001b[0m \u001b[0mstacktrace\u001b[0m\u001b[0;34m)\u001b[0m\u001b[0;34m\u001b[0m\u001b[0;34m\u001b[0m\u001b[0m\n\u001b[0m\u001b[1;32m    243\u001b[0m \u001b[0;34m\u001b[0m\u001b[0m\n\u001b[1;32m    244\u001b[0m     \u001b[0;32mdef\u001b[0m \u001b[0m_value_or_default\u001b[0m\u001b[0;34m(\u001b[0m\u001b[0mself\u001b[0m\u001b[0;34m,\u001b[0m \u001b[0mobj\u001b[0m\u001b[0;34m,\u001b[0m \u001b[0mkey\u001b[0m\u001b[0;34m,\u001b[0m \u001b[0mdefault\u001b[0m\u001b[0;34m)\u001b[0m\u001b[0;34m:\u001b[0m\u001b[0;34m\u001b[0m\u001b[0;34m\u001b[0m\u001b[0m\n",
      "\u001b[0;31mElementNotInteractableException\u001b[0m: Message: element not interactable\n  (Session info: chrome=79.0.3945.88)\n"
     ]
    }
   ],
   "source": [
    "browser = webdriver.Chrome(cd)\n",
    "browser.get(\"https://www.agoda.com/zh-tw/fushin-hotel-taipei/hotel/taipei-tw.html?checkin=2020-01-07&los=1&adults=1&rooms=1&cid=1826371&tag=c9eb0777-faac-f238-8d4b-05488b8a3d0f&searchrequestid=d1931e0a-9717-4d56-8f40-0b1833f7f9b9&travellerType=-1&tspTypes=1&cabinType=Economy&tabbed=true\")\n",
    "Fushin=[] \n",
    "for j in range(2):\n",
    "\n",
    "    for i in range(5):\n",
    "        browser.execute_script(\"window.scrollTo(0, document.body.scrollHeight)\")\n",
    "        time.sleep(1)\n",
    "    soup = BeautifulSoup(browser.page_source,'html.parser')\n",
    "    for ele in soup.select(\".Review-comment-body p.Review-comment-bodyText\"):\n",
    "        print(ele.text)\n",
    "        Fushin.append([ele.text])\n",
    "    browser.find_element_by_css_selector(\".Review-paginator:nth-child(6) .ficon-carrouselarrow-right\").click()\n",
    "    for i in range(5):\n",
    "        browser.execute_script(\"window.scrollTo(0, document.body.scrollHeight)\")\n",
    "        time.sleep(1)\n",
    "    soup = BeautifulSoup(browser.page_source,'html.parser')\n",
    "    for ele in soup.select(\".Review-comment-body p.Review-comment-bodyText\"):\n",
    "        print(ele.text)\n",
    "        Fushin.append(ele.text)\n",
    "    browser.find_element_by_css_selector(\".Review-paginator:nth-child(4) .ficon-carrouselarrow-right\").click()\n",
    "browser.close()"
   ]
  },
  {
   "cell_type": "code",
   "execution_count": 104,
   "metadata": {},
   "outputs": [],
   "source": [
    "Fushin_p2=Fushin"
   ]
  },
  {
   "cell_type": "code",
   "execution_count": 4,
   "metadata": {},
   "outputs": [
    {
     "data": {
      "text/plain": [
       "[['因為剛開幕時入住感受極佳  這次已再相隔四年入住所以這次再選擇富信 一切本來都還不錯 雖然跟剛開幕比是有一丁點落差 但整體還是不錯 but.......\\n睡到半夜三點被冷氣機漏水聲音滴到地毯聲音吵醒\\n開燈一看 出風口旁已被滲水裂出一條痕跡  打電話給服務中心派人來看之後就跑到走廊打電話請師傅來 \\n整個過程拖了20-30分才問我們要不要換房 我問說那可以先離開讓我們換個衣服嗎?師傅也不為所動\\n我們只好到廁所去換，然後把睡夢中的小孩抱到新房間(這時已經4點左右) 之後飯店也沒主動提出要給任何補償 我才打給飯店問能不能延後退房 櫃台回我只能延一小時 但睡眠被中斷之後翻來覆去好久才再入睡 隔天起來超疲憊 退房時也沒人因為此事向我們打聲招呼 實在遺憾'],\n",
       " ['1. 住宿很多次了,  浴室的設施一直都有狀況, 譬如淋浴間的門無法密合關門, 這次住宿蓮蓬頭都已經壞掉了\\n2. 浴巾沒有清洗乾淨, 咖啡杯沒有洗乾淨\\n3. agoda有提供\"提前入住的需求\"的選項, 但是飯店都沒有回覆可不可以, 等到要入住了, 打電話去問\"也僅回覆不敢保證\", 等到我到飯店, 飯店真的讓客人在大廳等1個小時, 更令人生氣的是, 同樣是無法提早入住, 櫃台人員親自把房間門卡送到同樣在大廳等待的外國客人, 而我卻是在大廳等1個小時, 然後還要自己去跟櫃台人員拿門卡, 原來飯店的櫃台人員是歧視本國籍的旅客'],\n",
       " ['優點：\\n飯店整潔度佳，且非常貼心於床頭及Mini Bar均擺設礦泉水，備品齊全，牙刷是小刷頭的十分加分，房務無可挑剔。\\n健身房設備齊全，空間適中不壅擠，三溫暖非常乾淨，晚上或早晨適合泡一泡放鬆。\\n早餐樣式種類不少，該有的都有且調味不差。\\n價格相當實惠，服務態度適中，不過度殷勤。\\n飯店整體適合商務旅行，或員工訓練、會議用途。\\n\\n缺點：\\n雖然是觀光局五星級飯店，但是整體較無特色（無景觀、特殊設施或活動安排，非度假或豪華酒店取向），較適合商務或是團體會議使用。\\n另外三溫暖應提醒住客是裸湯，免得有人有裸體有人穿泳衣褲，使用起來十分尷尬。'],\n",
       " ['以五星級飯店來說 這樣的房價算很優惠的了~ 如果以我所住過的五星級飯店來說 這裡有很多可以進步的空間! 例如早餐很多都是冷的 不知是我大約9:15左右吃的關係嗎? 不過他的台南擔仔麵溫暖的我的胃跟心! 而他早餐餐廳的裝潢擄獲我老婆的拍照慾望，飯店有小孩遊戲室，三溫暖(雖然是泡自來水)，如果可以加一點溫泉粉會更加分。\\n假設你是要來台北信義區或去南港展覽館，這是不錯的選擇，且COSTCO就在旁邊，也不怕沒東西可以吃!\\n'],\n",
       " ['近國道一、國道三汐止交流道，飯店地下室附停車場，開車很方便!\\n\\n館內設施不多，但大體上整潔、保養的不錯!\\n\\n一年內第二次入住了，下次還是會再考慮入住這間飯店。'],\n",
       " ['住的相當舒適，床舒服枕頭軟硬適中，飯店乾淨整潔，泡湯設備完備，住的質感想當好。\\r\\n早餐有相當大的改進空間，好吃的東西沒幾樣，看到好多人跟我一樣拿個空盤子轉阿轉，優格請不要加糖，因為旁邊已經有美味果醬可加，飲料只有加了糖水的風味飲料，請把拿優格裝在小瓶子的時間，拿來榨些果汁，早餐可以喝到新鮮的果菜汁，一定非常幸福，而不是橘子風味和葡萄風味的加糖飲料，還有桌面有張空席和用餐中的牌子，入席前也要宣導，放了用餐中的紅牌子，回來一看桌面竟然被收了一半，牌子還被擺回空席，這是哪門子的玩笑呀！\\r\\n'],\n",
       " ['訂房留言回答快速，房間乾淨，早餐豐富。\\n位置較偏僻，但地下平面停車位多。有開車算方便。'],\n",
       " ['CP值高 ,但地點要交通工具或接駁'],\n",
       " ['優：飯店人員服務非常用心及貼心，是個難忘的住宿經驗。\\n缺：如能再增加自助洗衣設備會更棒！'],\n",
       " ['飯店周遭飲食不便,且因未在捷運旁造成展覽結束後回飯店困難重重,南港展覽館在尖峰時刻很難叫到計程車,對於參展的廠商沒有相對配合可以接駁回飯店的接駁車, 因參展結束後都6點,但飯店發車是6點或5點半,根本來不及搭車,希望以後能增加班次或延後個10-20分＿'],\n",
       " ['櫃台服務人員有禮貌\\n房間乾淨冷氣很夠, 浴室的熱水強度好也穩定\\n因是出差目的, 對飯店要求只要住得舒服睡得好就可以\\n唯一需改善的是房間隔音不好, 外面及隔壁房的聲音都聽得到\\n早餐款式選擇不太多, 建議可以再新增多些'],\n",
       " ['以比較嚴格的標準來看的話，隔音比較差一點，早餐還ok不到驚艷，我們半夜才洗澡熱水沒有很熱，但其他都還不錯。'],\n",
       " ['很不錯的旅店...早餐菜色可以再多一些變化...會更好!'],\n",
       " ['很棒的飯店\\n下次有來還會來住喔\\n'],\n",
       " ['很棒的飯店\\n下次有來還會來住喔\\n'],\n",
       " ['地下停車場是我去過的飯店最寬敞最好停也最方便的飯店，我好幾次再回來都是因為這個停車場的緣故，上高速公路也超級快，三溫暖大浴池實在舒服又棒，一大早去泡再去吃美味又多樣的早餐非常享受，房間寬敞、員工服務態度都很好，值得一再推薦'],\n",
       " ['優點 : 櫃台親切有禮,大廰環境整潔\\n缺點: \\n1.櫃台小姐說要幫我由高級客房升等豪華房,但進入房間後是高級客房的房間,沒有升等,有點小失望\\n2. 房間地毯很髒,椅子上還留有前位房客的頭髮,清潔宜加強           \\n3.早上在走廊清潔員工聲音大聲,關門很用力,大力關門好多次,很糟糕,,出了房門,清潔車全擺在門口,看看時間也才   10點多, 退房是12點,真的佷糟,,之前住也不會這樣,員工訓練宜加強 \\n '],\n",
       " ['當天是初四.自行開車,我家的噗噗君大概有1米9.飯店的停車場在地下室,很好停.不是機械式的.\\n櫃檯人員的態度也很棒.雖然我叨叨絮絮的問了好些問題.但都被溫柔親切的回答了.\\n住四人房.很大.從床到電視之間以我身高150CM的臂展可以有兩個.\\n有浴缸.放水速度算快\\n請人員送枕頭跟被子(我家都習慣一人一套枕被)也很快就送到了.\\n雖然是在河的這一邊.但飯店有免費的接駁車可以往返南港展覽館捷運站.我們當天晚上就是這樣去搭捷運的.\\n早餐菜色就是很正常的飯店早餐.不會不好吃.\\n房間隔音應該很不錯.因為我早上用餐遇到好幾組的韓客.但前一晚住宿的時候完全不覺得吵.\\n樓下還有大浴池..沒有什麼景.他的淋浴區跟泡湯池還有烤箱跟蒸氣室跟加賀屋一樣是在同一個空間.所以整個大小約略是加賀屋的1/3.\\n但我覺得很超值.畢竟這不是溫泉飯店.台灣不是溫泉飯店但卻設有大浴池的飯店真的不多.(價格還這麼便宜)而且當晚除了我跟我家人以外,也就遇到兩個人來泡.\\n附近的步行範圍內沒什麼商店.只有對面一間私人非連鎖超商.而且不是24hr.大半夜的話不太好買.所以建議想買什麼最好先在鬧區解決.\\n整體來說很推.\\nP.S:他不是那種外型或者佈置很奇特的飯店.但一走進大廳就會覺得很舒適.\\n\\n'],\n",
       " ['1. 沒迎賓水果( 以前都有的)\\n2. 床上枕頭只有一只( 以前都兩只), 落枕後發現一只藏在衣櫃裡.\\n3. 餐廳做蛋包的師傅, 客人在前面, 頭也不抬. 不理人. 回頭蛋包又先給了別人. 建議用號碼牌, 大家省事.\\n4. 自助餐廳\"使用中座位\"識別, 要改善. 我甚至把房卡放在餐桌上, 員工還是把我的刀叉收走了, 更不用說, 已使用餐廳內“使用中“的紅色標簽.\\n5. 還好, 前台還算順利, 但信用卡單也差點沒給我簽名, 所幸我提醒.\\n6. 總之, 在此10數次的住宿, 這次是荒腔走板...\\n7. 服務團隊要加油了 !!!'],\n",
       " ['這趟旅行是家族之旅，有3歲的小孩同行，房務安排了壁貼與玩具都齊全的孩童房，這點蠻驚喜的，小朋友很喜歡。不過切記一定要訂富有早餐的房型，不然附近都沒有早餐店實在很麻煩。有接駁車，不過回程在南港展覽館六號出口卻沒有顯示停等位置，還要打電話向房務確認，這個有些小麻煩。房間設施還不錯，空間確實很大，備品也齊全，可惜沒有HDMI線。第一日入房房間空調有潮濕霉味，向櫃檯反映後送上了一台空氣清淨機。']]"
      ]
     },
     "execution_count": 4,
     "metadata": {},
     "output_type": "execute_result"
    }
   ],
   "source": [
    "Fushin"
   ]
  },
  {
   "cell_type": "code",
   "execution_count": 5,
   "metadata": {},
   "outputs": [
    {
     "name": "stderr",
     "output_type": "stream",
     "text": [
      "/anaconda3/lib/python3.7/site-packages/tensorflow/python/framework/dtypes.py:516: FutureWarning: Passing (type, 1) or '1type' as a synonym of type is deprecated; in a future version of numpy, it will be understood as (type, (1,)) / '(1,)type'.\n",
      "  _np_qint8 = np.dtype([(\"qint8\", np.int8, 1)])\n",
      "/anaconda3/lib/python3.7/site-packages/tensorflow/python/framework/dtypes.py:517: FutureWarning: Passing (type, 1) or '1type' as a synonym of type is deprecated; in a future version of numpy, it will be understood as (type, (1,)) / '(1,)type'.\n",
      "  _np_quint8 = np.dtype([(\"quint8\", np.uint8, 1)])\n",
      "/anaconda3/lib/python3.7/site-packages/tensorflow/python/framework/dtypes.py:518: FutureWarning: Passing (type, 1) or '1type' as a synonym of type is deprecated; in a future version of numpy, it will be understood as (type, (1,)) / '(1,)type'.\n",
      "  _np_qint16 = np.dtype([(\"qint16\", np.int16, 1)])\n",
      "/anaconda3/lib/python3.7/site-packages/tensorflow/python/framework/dtypes.py:519: FutureWarning: Passing (type, 1) or '1type' as a synonym of type is deprecated; in a future version of numpy, it will be understood as (type, (1,)) / '(1,)type'.\n",
      "  _np_quint16 = np.dtype([(\"quint16\", np.uint16, 1)])\n",
      "/anaconda3/lib/python3.7/site-packages/tensorflow/python/framework/dtypes.py:520: FutureWarning: Passing (type, 1) or '1type' as a synonym of type is deprecated; in a future version of numpy, it will be understood as (type, (1,)) / '(1,)type'.\n",
      "  _np_qint32 = np.dtype([(\"qint32\", np.int32, 1)])\n",
      "/anaconda3/lib/python3.7/site-packages/tensorflow/python/framework/dtypes.py:525: FutureWarning: Passing (type, 1) or '1type' as a synonym of type is deprecated; in a future version of numpy, it will be understood as (type, (1,)) / '(1,)type'.\n",
      "  np_resource = np.dtype([(\"resource\", np.ubyte, 1)])\n",
      "/anaconda3/lib/python3.7/site-packages/tensorboard/compat/tensorflow_stub/dtypes.py:541: FutureWarning: Passing (type, 1) or '1type' as a synonym of type is deprecated; in a future version of numpy, it will be understood as (type, (1,)) / '(1,)type'.\n",
      "  _np_qint8 = np.dtype([(\"qint8\", np.int8, 1)])\n",
      "/anaconda3/lib/python3.7/site-packages/tensorboard/compat/tensorflow_stub/dtypes.py:542: FutureWarning: Passing (type, 1) or '1type' as a synonym of type is deprecated; in a future version of numpy, it will be understood as (type, (1,)) / '(1,)type'.\n",
      "  _np_quint8 = np.dtype([(\"quint8\", np.uint8, 1)])\n",
      "/anaconda3/lib/python3.7/site-packages/tensorboard/compat/tensorflow_stub/dtypes.py:543: FutureWarning: Passing (type, 1) or '1type' as a synonym of type is deprecated; in a future version of numpy, it will be understood as (type, (1,)) / '(1,)type'.\n",
      "  _np_qint16 = np.dtype([(\"qint16\", np.int16, 1)])\n",
      "/anaconda3/lib/python3.7/site-packages/tensorboard/compat/tensorflow_stub/dtypes.py:544: FutureWarning: Passing (type, 1) or '1type' as a synonym of type is deprecated; in a future version of numpy, it will be understood as (type, (1,)) / '(1,)type'.\n",
      "  _np_quint16 = np.dtype([(\"quint16\", np.uint16, 1)])\n",
      "/anaconda3/lib/python3.7/site-packages/tensorboard/compat/tensorflow_stub/dtypes.py:545: FutureWarning: Passing (type, 1) or '1type' as a synonym of type is deprecated; in a future version of numpy, it will be understood as (type, (1,)) / '(1,)type'.\n",
      "  _np_qint32 = np.dtype([(\"qint32\", np.int32, 1)])\n",
      "/anaconda3/lib/python3.7/site-packages/tensorboard/compat/tensorflow_stub/dtypes.py:550: FutureWarning: Passing (type, 1) or '1type' as a synonym of type is deprecated; in a future version of numpy, it will be understood as (type, (1,)) / '(1,)type'.\n",
      "  np_resource = np.dtype([(\"resource\", np.ubyte, 1)])\n"
     ]
    }
   ],
   "source": [
    "import os\n",
    "from pathlib import Path\n",
    "from ckiptagger import WS,POS,NER\n",
    "import pandas as pd\n",
    "from mlxtend.preprocessing import TransactionEncoder\n",
    "from mlxtend.frequent_patterns import apriori\n",
    "from mlxtend.frequent_patterns import association_rules\n",
    "import urllib.request\n",
    "import zipfile\n",
    "import pandas as pd\n",
    "from sklearn.metrics.classification import accuracy_score, confusion_matrix\n",
    "from sklearn.feature_extraction.text import CountVectorizer\n",
    "from sklearn.naive_bayes import MultinomialNB"
   ]
  },
  {
   "cell_type": "code",
   "execution_count": 277,
   "metadata": {},
   "outputs": [
    {
     "name": "stdout",
     "output_type": "stream",
     "text": [
      "WARNING: Entity <bound method LSTMCell.call of <tensorflow.python.ops.rnn_cell_impl.LSTMCell object at 0x169d7cb70>> could not be transformed and will be executed as-is. Please report this to the AutgoGraph team. When filing the bug, set the verbosity to 10 (on Linux, `export AUTOGRAPH_VERBOSITY=10`) and attach the full output. Cause: converting <bound method LSTMCell.call of <tensorflow.python.ops.rnn_cell_impl.LSTMCell object at 0x169d7cb70>>: AttributeError: module 'gast' has no attribute 'Num'\n",
      "WARNING: Entity <bound method LSTMCell.call of <tensorflow.python.ops.rnn_cell_impl.LSTMCell object at 0x15d4b7470>> could not be transformed and will be executed as-is. Please report this to the AutgoGraph team. When filing the bug, set the verbosity to 10 (on Linux, `export AUTOGRAPH_VERBOSITY=10`) and attach the full output. Cause: converting <bound method LSTMCell.call of <tensorflow.python.ops.rnn_cell_impl.LSTMCell object at 0x15d4b7470>>: AttributeError: module 'gast' has no attribute 'Num'\n",
      "WARNING: Entity <bound method LSTMCell.call of <tensorflow.python.ops.rnn_cell_impl.LSTMCell object at 0x1955e7be0>> could not be transformed and will be executed as-is. Please report this to the AutgoGraph team. When filing the bug, set the verbosity to 10 (on Linux, `export AUTOGRAPH_VERBOSITY=10`) and attach the full output. Cause: converting <bound method LSTMCell.call of <tensorflow.python.ops.rnn_cell_impl.LSTMCell object at 0x1955e7be0>>: AttributeError: module 'gast' has no attribute 'Num'\n",
      "WARNING: Entity <bound method LSTMCell.call of <tensorflow.python.ops.rnn_cell_impl.LSTMCell object at 0x18c95ffd0>> could not be transformed and will be executed as-is. Please report this to the AutgoGraph team. When filing the bug, set the verbosity to 10 (on Linux, `export AUTOGRAPH_VERBOSITY=10`) and attach the full output. Cause: converting <bound method LSTMCell.call of <tensorflow.python.ops.rnn_cell_impl.LSTMCell object at 0x18c95ffd0>>: AttributeError: module 'gast' has no attribute 'Num'\n",
      "WARNING: Entity <bound method Dense.call of <tensorflow.python.layers.core.Dense object at 0x152035a90>> could not be transformed and will be executed as-is. Please report this to the AutgoGraph team. When filing the bug, set the verbosity to 10 (on Linux, `export AUTOGRAPH_VERBOSITY=10`) and attach the full output. Cause: converting <bound method Dense.call of <tensorflow.python.layers.core.Dense object at 0x152035a90>>: AssertionError: Bad argument number for Name: 3, expecting 4\n",
      "WARNING: Entity <bound method LSTMCell.call of <tensorflow.python.ops.rnn_cell_impl.LSTMCell object at 0x1a23a46d8>> could not be transformed and will be executed as-is. Please report this to the AutgoGraph team. When filing the bug, set the verbosity to 10 (on Linux, `export AUTOGRAPH_VERBOSITY=10`) and attach the full output. Cause: converting <bound method LSTMCell.call of <tensorflow.python.ops.rnn_cell_impl.LSTMCell object at 0x1a23a46d8>>: AttributeError: module 'gast' has no attribute 'Num'\n",
      "WARNING: Entity <bound method LSTMCell.call of <tensorflow.python.ops.rnn_cell_impl.LSTMCell object at 0x13cac32b0>> could not be transformed and will be executed as-is. Please report this to the AutgoGraph team. When filing the bug, set the verbosity to 10 (on Linux, `export AUTOGRAPH_VERBOSITY=10`) and attach the full output. Cause: converting <bound method LSTMCell.call of <tensorflow.python.ops.rnn_cell_impl.LSTMCell object at 0x13cac32b0>>: AttributeError: module 'gast' has no attribute 'Num'\n",
      "WARNING: Entity <bound method LSTMCell.call of <tensorflow.python.ops.rnn_cell_impl.LSTMCell object at 0x13cac37f0>> could not be transformed and will be executed as-is. Please report this to the AutgoGraph team. When filing the bug, set the verbosity to 10 (on Linux, `export AUTOGRAPH_VERBOSITY=10`) and attach the full output. Cause: converting <bound method LSTMCell.call of <tensorflow.python.ops.rnn_cell_impl.LSTMCell object at 0x13cac37f0>>: AttributeError: module 'gast' has no attribute 'Num'\n",
      "WARNING: Entity <bound method LSTMCell.call of <tensorflow.python.ops.rnn_cell_impl.LSTMCell object at 0x16a0425f8>> could not be transformed and will be executed as-is. Please report this to the AutgoGraph team. When filing the bug, set the verbosity to 10 (on Linux, `export AUTOGRAPH_VERBOSITY=10`) and attach the full output. Cause: converting <bound method LSTMCell.call of <tensorflow.python.ops.rnn_cell_impl.LSTMCell object at 0x16a0425f8>>: AttributeError: module 'gast' has no attribute 'Num'\n",
      "WARNING: Entity <bound method Dense.call of <tensorflow.python.layers.core.Dense object at 0x144c6a3c8>> could not be transformed and will be executed as-is. Please report this to the AutgoGraph team. When filing the bug, set the verbosity to 10 (on Linux, `export AUTOGRAPH_VERBOSITY=10`) and attach the full output. Cause: converting <bound method Dense.call of <tensorflow.python.layers.core.Dense object at 0x144c6a3c8>>: AssertionError: Bad argument number for Name: 3, expecting 4\n",
      "WARNING: Entity <bound method LSTMCell.call of <tensorflow.python.ops.rnn_cell_impl.LSTMCell object at 0x1a0007588>> could not be transformed and will be executed as-is. Please report this to the AutgoGraph team. When filing the bug, set the verbosity to 10 (on Linux, `export AUTOGRAPH_VERBOSITY=10`) and attach the full output. Cause: converting <bound method LSTMCell.call of <tensorflow.python.ops.rnn_cell_impl.LSTMCell object at 0x1a0007588>>: AttributeError: module 'gast' has no attribute 'Num'\n",
      "WARNING: Entity <bound method LSTMCell.call of <tensorflow.python.ops.rnn_cell_impl.LSTMCell object at 0x1a0007cc0>> could not be transformed and will be executed as-is. Please report this to the AutgoGraph team. When filing the bug, set the verbosity to 10 (on Linux, `export AUTOGRAPH_VERBOSITY=10`) and attach the full output. Cause: converting <bound method LSTMCell.call of <tensorflow.python.ops.rnn_cell_impl.LSTMCell object at 0x1a0007cc0>>: AttributeError: module 'gast' has no attribute 'Num'\n",
      "WARNING: Entity <bound method LSTMCell.call of <tensorflow.python.ops.rnn_cell_impl.LSTMCell object at 0x1a0007e10>> could not be transformed and will be executed as-is. Please report this to the AutgoGraph team. When filing the bug, set the verbosity to 10 (on Linux, `export AUTOGRAPH_VERBOSITY=10`) and attach the full output. Cause: converting <bound method LSTMCell.call of <tensorflow.python.ops.rnn_cell_impl.LSTMCell object at 0x1a0007e10>>: AttributeError: module 'gast' has no attribute 'Num'\n",
      "WARNING: Entity <bound method LSTMCell.call of <tensorflow.python.ops.rnn_cell_impl.LSTMCell object at 0x1a0007f98>> could not be transformed and will be executed as-is. Please report this to the AutgoGraph team. When filing the bug, set the verbosity to 10 (on Linux, `export AUTOGRAPH_VERBOSITY=10`) and attach the full output. Cause: converting <bound method LSTMCell.call of <tensorflow.python.ops.rnn_cell_impl.LSTMCell object at 0x1a0007f98>>: AttributeError: module 'gast' has no attribute 'Num'\n",
      "WARNING: Entity <bound method Dense.call of <tensorflow.python.layers.core.Dense object at 0x1464ef828>> could not be transformed and will be executed as-is. Please report this to the AutgoGraph team. When filing the bug, set the verbosity to 10 (on Linux, `export AUTOGRAPH_VERBOSITY=10`) and attach the full output. Cause: converting <bound method Dense.call of <tensorflow.python.layers.core.Dense object at 0x1464ef828>>: AssertionError: Bad argument number for Name: 3, expecting 4\n"
     ]
    }
   ],
   "source": [
    "new_data=Fushin\n",
    "path=os.path.join(str(Path.home()),\"ckip/\")\n",
    "ckip_ws=WS(os.path.join(path,\"data\"))\n",
    "ckip_pos=POS(os.path.join(path,\"data\"))\n",
    "ckip_ner=NER(os.path.join(path,\"data\"))\n",
    "\n",
    "dataset=[]\n",
    "for q in range(len(new_data)):\n",
    "    k=new_data[q]\n",
    "    chinese_sentence=k  \n",
    "    zh_doc_ws=ckip_ws(chinese_sentence)      \n",
    "    zh_doc_pos=ckip_pos(zh_doc_ws)    \n",
    "    zh_doc_ner=ckip_ner(zh_doc_ws,zh_doc_pos)\n",
    "    word_only=[]\n",
    "    for i,sentence in enumerate(zh_doc_ner):\n",
    "        for j,(start_idx,end_index,ner_type,word) in enumerate(sentence):\n",
    "            word_only.append(\"{}\".format(word))\n",
    "    dataset.append(word_only)\n",
    "    "
   ]
  },
  {
   "cell_type": "code",
   "execution_count": 129,
   "metadata": {},
   "outputs": [
    {
     "data": {
      "text/plain": [
       "[['半夜三點', '4點', '四年', '20-30分', '一小時', '隔天'],\n",
       " ['1個小時', '1個小時', '1'],\n",
       " ['早晨', '三溫暖', '晚上', '三溫暖', '觀光局'],\n",
       " ['五星級', '台北信義區', 'COSTCO', '南港展覽館', '台南', '三溫暖'],\n",
       " ['一年', '國道一', '三汐止交流道', '第二'],\n",
       " ['張空席', '一半'],\n",
       " [],\n",
       " [],\n",
       " [],\n",
       " ['6點', '南港展覽館', '5點半', '6點', '捷運', '10-20'],\n",
       " [],\n",
       " ['半夜'],\n",
       " [],\n",
       " [],\n",
       " [],\n",
       " ['一大早'],\n",
       " ['12點', '早上'],\n",
       " ['南港展覽館捷運站',\n",
       "  '24',\n",
       "  '前一晚',\n",
       "  '加賀屋',\n",
       "  '溫泉飯店',\n",
       "  '當天',\n",
       "  '兩',\n",
       "  '初四',\n",
       "  '1米',\n",
       "  '一',\n",
       "  '早上',\n",
       "  '晚上',\n",
       "  '一',\n",
       "  '當晚',\n",
       "  '四',\n",
       "  '台灣',\n",
       "  '溫泉飯店',\n",
       "  '兩',\n",
       "  '150'],\n",
       " ['兩', '10數'],\n",
       " ['3歲', '南港展覽館', '第一']]"
      ]
     },
     "execution_count": 129,
     "metadata": {},
     "output_type": "execute_result"
    }
   ],
   "source": [
    "dataset"
   ]
  },
  {
   "cell_type": "code",
   "execution_count": 275,
   "metadata": {},
   "outputs": [],
   "source": [
    "import jieba\n",
    "import jieba.posseg as pseg\n",
    "URL=\"http://github.com/fxsjy/jieba/raw/master/extra_dict/dict.txt.big\"\n",
    "if not os.path.exists(os.path.join(os.getcwd(),\"dict.txt.big\")):\n",
    "    urllib.request.urlretrieve(URL,\"dict.txt.big\")\n",
    "jieba.set_dictionary(\"dict.txt.big\")"
   ]
  },
  {
   "cell_type": "code",
   "execution_count": null,
   "metadata": {},
   "outputs": [],
   "source": []
  },
  {
   "cell_type": "code",
   "execution_count": null,
   "metadata": {},
   "outputs": [],
   "source": []
  },
  {
   "cell_type": "code",
   "execution_count": null,
   "metadata": {},
   "outputs": [],
   "source": [
    "for i,(word,pos) in enumerate(zh_doc):\n",
    "    print(\"{}\".format(word))"
   ]
  },
  {
   "cell_type": "code",
   "execution_count": null,
   "metadata": {},
   "outputs": [],
   "source": [
    "dataset=[]\n",
    "new_data=Fushin\n",
    "for q in range(len(new_data)):\n",
    "    k=new_data[q]\n",
    "    chinese_sentence=k[0]  \n",
    "    seg_full=jieba.cut(chinese_sentence,cut_all=True)\n",
    "    seg_accurate=jieba.cut(chinese_sentence,cut_all=False)\n",
    "    seg_search=jieba.cut_for_search(chinese_sentence)\n",
    "    zh_doc=pseg.cut(chinese_sentence)\n",
    "    word_only=[]\n",
    "    for i,(word,pos) in enumerate(zh_doc):\n",
    "        word_only.append(\"{}\".format(word))\n",
    "    dataset.append(word_only)"
   ]
  },
  {
   "cell_type": "code",
   "execution_count": 291,
   "metadata": {},
   "outputs": [],
   "source": [
    "dataset=[]\n",
    "new_data=Fushin\n",
    "for q in range(len(new_data)):\n",
    "    k=new_data[q]\n",
    "    chinese_sentence=k[0]  \n",
    "    seg_full=jieba.cut(chinese_sentence,cut_all=True)\n",
    "    seg_accurate=jieba.cut(chinese_sentence,cut_all=False)\n",
    "    seg_search=jieba.cut_for_search(chinese_sentence)\n",
    "    zh_doc=pseg.cut(chinese_sentence)\n",
    "    word_only=[]\n",
    "    for i,(word,pos) in enumerate(zh_doc):\n",
    "        if \"{}\".format(pos)==\"n\":\n",
    "            word_only.append(\"{}\".format(word))\n",
    "    dataset.append(word_only)"
   ]
  },
  {
   "cell_type": "code",
   "execution_count": 292,
   "metadata": {},
   "outputs": [
    {
     "data": {
      "text/plain": [
       "['漏水', '地毯', '人', '走廊', '衣服', '小孩', '問能', '房', '櫃台']"
      ]
     },
     "execution_count": 292,
     "metadata": {},
     "output_type": "execute_result"
    }
   ],
   "source": [
    "dataset[0]"
   ]
  },
  {
   "cell_type": "code",
   "execution_count": 294,
   "metadata": {},
   "outputs": [
    {
     "name": "stdout",
     "output_type": "stream",
     "text": [
      "   support itemsets\n",
      "0      0.2      (人)\n",
      "1      0.2     (住宿)\n",
      "2      0.2      (房)\n",
      "3      0.5     (早餐)\n",
      "4      0.2     (櫃台)\n"
     ]
    }
   ],
   "source": [
    "#關聯規則\n",
    "te = TransactionEncoder()\n",
    "te_ary = te.fit(dataset).transform(dataset)\n",
    "df = pd.DataFrame(te_ary, columns=te.columns_)\n",
    "frequent_itemsets = apriori(df, min_support=0.2, use_colnames=True)\n",
    "print(frequent_itemsets)\n",
    "\n",
    "\n",
    "\n"
   ]
  },
  {
   "cell_type": "code",
   "execution_count": 12,
   "metadata": {},
   "outputs": [
    {
     "name": "stdout",
     "output_type": "stream",
     "text": [
      "item: ['\\n', '\\r\\n', ' ', '!', '\"', '(', ')', ',', '-', '.', '..', '...', '.......', '/', '1', '1.', '10', '12', '15', '150', '2.', '20', '24', '3', '3.', '30', '4', '4.', '5', '5.', '6', '6.', '7.', '9', '9.', ':', '?', 'Bar', 'CM', 'COSTCO', 'CP', 'HDMI', 'Mini', 'P', 'S', 'agoda', 'but', 'hr', 'ok', '~', '“', '、', '。', '一', '一丁點', '一再', '一切', '一半', '一只', '一台', '一大早', '一套', '一定', '一年', '一條', '一樣', '一直', '一邊', '一間', '三', '三溫暖', '三點', '上', '下次', '不', '不便', '不到', '不多', '不太好', '不好', '不少', '不怕', '不敢', '不是', '不會', '不然', '不理', '不用說', '不知', '不能', '不要', '不過', '不錯', '且', '中', '中斷', '主動', '之', '之前', '之後', '之間', '也', '乾淨', '了', '五星級', '些', '交流', '交通工具', '享受', '人', '人員', '人房', '什麼', '仔', '他', '令人', '以', '以前', '以外', '以後', '任何', '但', '但一', '但是', '佈置', '位置', '住', '住客', '住宿', '你', '佳', '佷', '使用', '來', '來不及', '來看', '來說', '例如', '便宜', '保證', '保養', '信用卡', '信義', '個', '值得', '值高', '假設', '偏僻', '做', '停', '停車位', '停車場', '健身房', '備品', '僅', '價格', '優', '優惠', '優格', '優點', '先', '免得', '免費', '入', '入住', '入席', '入睡', '內', '全', '兩個', '兩只', '六號', '其他', '再', '冷', '冷氣', '冷氣機', '出', '出口', '出差', '出風口', '刀叉', '分', '切記', '初四', '別人', '到', '前', '前一晚', '前位', '前台', '前面', '剛', '加', '加一點', '加強', '加油', '加糖', '加賀', '區', '十分', '升', '半', '半夜', '南港', '卡', '卻', '卻是', '原來', '去', '去過', '參展', '又', '及', '反映', '取向', '另外', '叨叨', '只好', '只有', '只能', '只要', '叫', '可', '可不可以', '可以', '可惜', '台北', '台南', '台灣', '吃', '同一個', '同樣', '同行', '向', '君', '吵', '吵醒', '呀', '周遭', '和', '咖啡杯', '員工', '哪門子', '唯一', '商務', '商務旅行', '商店', '問', '問能', '問題', '喔', '喜歡', '喝', '單', '嗎', '噗', '嚴格', '四', '四年', '回', '回來', '回程', '回答', '回覆', '回頭', '因', '因是', '因為', '困難重重', '國籍', '國道', '團隊', '團體', '在', '地下', '地下室', '地毯', '地點', '均', '增加', '壁貼', '壅擠', '壞掉', '外國', '外型', '外面', '多', '多一些', '多些', '多樣', '多次', '夠', '大', '大力', '大半夜', '大家', '大小', '大廳', '大概', '大約', '大聲', '大體上', '太', '失望', '奇特', '好', '好久', '好些', '好吃', '好多', '好幾', '如', '如果', '子', '孩童', '安排', '完備', '完全', '宜', '客人', '客房', '宣導', '室', '家族', '密合', '富信', '富有', '實在', '實惠', '寬敞', '對', '對於', '對面', '小', '小刷頭', '小姐', '小孩', '小時', '小朋友', '小麻煩', '尖峰', '就', '就是', '尷尬', '屋', '展', '展覽', '展覽館', '左右', '差', '差一點', '差點', '已', '已再', '已經', '希望', '師傅', '幫', '平面', '幸福', '幾樣', '幾次', '床', '床上', '床頭', '店', '度', '度假', '座位', '廁所', '廠商', '廰', '延', '延一', '延後', '建議', '張', '強度', '往返', '很', '很多', '很大', '很好', '很快', '很棒', '很髒', '後', '後退', '得', '得到', '從', '心', '快', '快速', '想', '感受', '態度', '慾望', '應', '應該', '我', '我們', '我家', '或', '或是', '或者', '房', '房價', '房務', '房卡', '房型', '房客', '房門', '房間', '所', '所以', '所動', '所幸', '才', '打', '打聲', '打電話', '把', '抬', '抱到', '拍照', '拖', '招呼', '拿', '拿來', '捷運', '接', '接駁', '推', '推薦', '提供', '提出', '提前', '提早', '提醒', '換', '換房', '搭', '搭車', '擄獲', '擔', '擺回', '擺在', '擺設', '收', '收走', '改善', '改進', '放', '放在', '放水', '放鬆', '整個', '整潔', '整體', '數次', '新', '新增', '新鮮', '方便', '於', '旁', '旁邊', '旅', '旅客', '旅店', '旅行', '日', '早上', '早晨', '早餐', '是', '時', '時候', '時刻', '時間', '晚上', '景', '景觀', '更', '更加', '更好', '最', '最好', '會', '會來', '會議', '有', '有些', '有人', '有點', '服務', '服務中心', '服務態度', '未在', '本', '本來', '東西', '枕', '枕頭', '果汁', '果菜汁', '果醬', '根本', '桌面', '棒', '椅子', '極佳', '榨', '樓下', '標準', '標簽', '樣式', '橘子', '機械式', '櫃台', '櫃檯', '款式', '正常', '此', '此事', '步行', '歧視', '歲', '殷勤', '比是', '比較', '水果', '汐止', '池', '沒', '沒人', '沒什麼', '沒有', '沒給', '河', '泡', '泡湯', '洗', '洗澡', '洗衣', '活動', '派', '浴室', '浴巾', '浴池', '浴缸', '淋浴', '淋浴間', '清洗', '清淨機', '清潔', '湯', '溫暖', '溫柔', '溫泉', '滲水', '滴', '漏水', '潮濕', '為', '烤箱', '無', '無可挑剔', '無法', '然後', '熱', '熱水', '牌子', '牙刷', '特殊', '特色', '狀況', '玩具', '玩笑', '班次', '環境', '瓶子', '甚至', '生氣', '用', '用力', '用心', '用途', '用餐', '由', '留有', '留言', '畢竟', '當天', '當好', '當晚', '疲憊', '痕跡', '發現', '發車', '的', '的話', '盤子', '目的', '相對', '相當', '相隔', '省事', '看', '看到', '看看', '真的', '睡', '睡夢中', '睡眠', '確實', '確認', '礦泉水', '禮', '禮貌', '私人', '種類', '穩定', '空', '空席', '空氣', '空調', '空間', '穿泳', '站', '竟然', '第一', '第二次', '等', '等到', '等待', '算', '算快', '範圍', '簽名', '米', '粉會', '糖水', '糟', '糟糕', '約略是', '紅牌', '紅色', '組', '結束', '給', '絮絮', '經驗', '線', '緣故', '總之', '缺', '缺點', '美味', '習慣', '翻來覆去', '老婆', '考慮', '而', '而且', '聲音', '聽', '胃', '能', '臂', '自來水', '自助', '自助餐廳', '自己', '自行', '與', '舒服', '舒適', '荒腔', '菜色', '落差', '落枕', '葡萄', '蒸氣', '蓮蓬頭', '藏', '號碼牌', '蛋包', '蠻', '衣服', '衣櫃', '衣褲', '被', '被子', '裂出', '補償', '裝', '裝潢', '裡', '裸', '裸體', '要', '要來', '要求', '要訂', '親切', '親自', '覺得', '觀光局', '解決', '訂房', '計程車', '訓練', '設備', '設備齊全', '設施', '設有', '該', '說', '調味', '請', '識別', '譬如', '變化', '讓', '豐富', '豪華', '豪華酒店', '買', '貼心', '質感', '走廊', '走板', '走進', '起來', '超', '超值', '超商', '超級', '趟', '跑', '跟', '身高', '車', '軟硬', '較', '轉', '迎賓', '近', '退房', '送', '送上', '送到', '這', '這個', '這時', '這樣', '這次', '這裡', '這間', '這麼', '這點', '速度', '造成', '連鎖', '進入', '進步', '遇到', '遊戲', '過', '過度', '過程', '道', '適中', '適合', '選擇', '選項', '遺憾', '還', '還好', '還是', '還有', '還要', '那', '那種', '都', '配合', '門', '門卡', '門口', '開幕', '開燈', '開車', '關係', '關門', '阿', '附', '附近', '除了', '隔壁', '隔天', '隔音', '雖然', '離開', '難', '難忘', '電視', '需', '需求', '霉味', '非', '非常', '韓客', '順利', '頭', '頭髮', '顯示', '風味', '飯店', '飲料', '飲食', '餐廳', '餐桌上', '館內', '駁回', '驚喜', '驚艷', '高級', '高速公路', '鬧區', '麵', '麻煩', '點', '齊全', '！', '（', '）', '，', '：', '＿']\n"
     ]
    }
   ],
   "source": [
    "print('item: {}'.format(te.columns_))"
   ]
  },
  {
   "cell_type": "code",
   "execution_count": 24,
   "metadata": {},
   "outputs": [],
   "source": [
    "newdata=[]\n",
    "for i in range(len(new_data)):\n",
    "    newdata.append(new_data[i])"
   ]
  },
  {
   "cell_type": "code",
   "execution_count": 25,
   "metadata": {},
   "outputs": [],
   "source": [
    "import zipfile\n",
    "import pandas as pd"
   ]
  },
  {
   "cell_type": "code",
   "execution_count": 26,
   "metadata": {},
   "outputs": [],
   "source": [
    "dataframe= pd.DataFrame(newdata,columns=[\"sentence\"])"
   ]
  },
  {
   "cell_type": "code",
   "execution_count": 27,
   "metadata": {},
   "outputs": [
    {
     "data": {
      "text/html": [
       "<div>\n",
       "<style scoped>\n",
       "    .dataframe tbody tr th:only-of-type {\n",
       "        vertical-align: middle;\n",
       "    }\n",
       "\n",
       "    .dataframe tbody tr th {\n",
       "        vertical-align: top;\n",
       "    }\n",
       "\n",
       "    .dataframe thead th {\n",
       "        text-align: right;\n",
       "    }\n",
       "</style>\n",
       "<table border=\"1\" class=\"dataframe\">\n",
       "  <thead>\n",
       "    <tr style=\"text-align: right;\">\n",
       "      <th></th>\n",
       "      <th>sentence</th>\n",
       "    </tr>\n",
       "  </thead>\n",
       "  <tbody>\n",
       "    <tr>\n",
       "      <th>0</th>\n",
       "      <td>因為剛開幕時入住感受極佳  這次已再相隔四年入住所以這次再選擇富信 一切本來都還不錯 雖然跟...</td>\n",
       "    </tr>\n",
       "    <tr>\n",
       "      <th>1</th>\n",
       "      <td>1. 住宿很多次了,  浴室的設施一直都有狀況, 譬如淋浴間的門無法密合關門, 這次住宿蓮蓬...</td>\n",
       "    </tr>\n",
       "    <tr>\n",
       "      <th>2</th>\n",
       "      <td>優點：\\n飯店整潔度佳，且非常貼心於床頭及Mini Bar均擺設礦泉水，備品齊全，牙刷是小刷...</td>\n",
       "    </tr>\n",
       "    <tr>\n",
       "      <th>3</th>\n",
       "      <td>以五星級飯店來說 這樣的房價算很優惠的了~ 如果以我所住過的五星級飯店來說 這裡有很多可以進...</td>\n",
       "    </tr>\n",
       "    <tr>\n",
       "      <th>4</th>\n",
       "      <td>近國道一、國道三汐止交流道，飯店地下室附停車場，開車很方便!\\n\\n館內設施不多，但大體上整...</td>\n",
       "    </tr>\n",
       "    <tr>\n",
       "      <th>5</th>\n",
       "      <td>住的相當舒適，床舒服枕頭軟硬適中，飯店乾淨整潔，泡湯設備完備，住的質感想當好。\\r\\n早餐有...</td>\n",
       "    </tr>\n",
       "    <tr>\n",
       "      <th>6</th>\n",
       "      <td>訂房留言回答快速，房間乾淨，早餐豐富。\\n位置較偏僻，但地下平面停車位多。有開車算方便。</td>\n",
       "    </tr>\n",
       "    <tr>\n",
       "      <th>7</th>\n",
       "      <td>CP值高 ,但地點要交通工具或接駁</td>\n",
       "    </tr>\n",
       "    <tr>\n",
       "      <th>8</th>\n",
       "      <td>優：飯店人員服務非常用心及貼心，是個難忘的住宿經驗。\\n缺：如能再增加自助洗衣設備會更棒！</td>\n",
       "    </tr>\n",
       "    <tr>\n",
       "      <th>9</th>\n",
       "      <td>飯店周遭飲食不便,且因未在捷運旁造成展覽結束後回飯店困難重重,南港展覽館在尖峰時刻很難叫到計...</td>\n",
       "    </tr>\n",
       "    <tr>\n",
       "      <th>10</th>\n",
       "      <td>櫃台服務人員有禮貌\\n房間乾淨冷氣很夠, 浴室的熱水強度好也穩定\\n因是出差目的, 對飯店要...</td>\n",
       "    </tr>\n",
       "    <tr>\n",
       "      <th>11</th>\n",
       "      <td>以比較嚴格的標準來看的話，隔音比較差一點，早餐還ok不到驚艷，我們半夜才洗澡熱水沒有很熱，但...</td>\n",
       "    </tr>\n",
       "    <tr>\n",
       "      <th>12</th>\n",
       "      <td>很不錯的旅店...早餐菜色可以再多一些變化...會更好!</td>\n",
       "    </tr>\n",
       "    <tr>\n",
       "      <th>13</th>\n",
       "      <td>很棒的飯店\\n下次有來還會來住喔\\n</td>\n",
       "    </tr>\n",
       "    <tr>\n",
       "      <th>14</th>\n",
       "      <td>很棒的飯店\\n下次有來還會來住喔\\n</td>\n",
       "    </tr>\n",
       "    <tr>\n",
       "      <th>15</th>\n",
       "      <td>地下停車場是我去過的飯店最寬敞最好停也最方便的飯店，我好幾次再回來都是因為這個停車場的緣故，...</td>\n",
       "    </tr>\n",
       "    <tr>\n",
       "      <th>16</th>\n",
       "      <td>優點 : 櫃台親切有禮,大廰環境整潔\\n缺點: \\n1.櫃台小姐說要幫我由高級客房升等豪華房...</td>\n",
       "    </tr>\n",
       "    <tr>\n",
       "      <th>17</th>\n",
       "      <td>當天是初四.自行開車,我家的噗噗君大概有1米9.飯店的停車場在地下室,很好停.不是機械式的....</td>\n",
       "    </tr>\n",
       "    <tr>\n",
       "      <th>18</th>\n",
       "      <td>1. 沒迎賓水果( 以前都有的)\\n2. 床上枕頭只有一只( 以前都兩只), 落枕後發現一只...</td>\n",
       "    </tr>\n",
       "    <tr>\n",
       "      <th>19</th>\n",
       "      <td>這趟旅行是家族之旅，有3歲的小孩同行，房務安排了壁貼與玩具都齊全的孩童房，這點蠻驚喜的，小朋...</td>\n",
       "    </tr>\n",
       "  </tbody>\n",
       "</table>\n",
       "</div>"
      ],
      "text/plain": [
       "                                             sentence\n",
       "0   因為剛開幕時入住感受極佳  這次已再相隔四年入住所以這次再選擇富信 一切本來都還不錯 雖然跟...\n",
       "1   1. 住宿很多次了,  浴室的設施一直都有狀況, 譬如淋浴間的門無法密合關門, 這次住宿蓮蓬...\n",
       "2   優點：\\n飯店整潔度佳，且非常貼心於床頭及Mini Bar均擺設礦泉水，備品齊全，牙刷是小刷...\n",
       "3   以五星級飯店來說 這樣的房價算很優惠的了~ 如果以我所住過的五星級飯店來說 這裡有很多可以進...\n",
       "4   近國道一、國道三汐止交流道，飯店地下室附停車場，開車很方便!\\n\\n館內設施不多，但大體上整...\n",
       "5   住的相當舒適，床舒服枕頭軟硬適中，飯店乾淨整潔，泡湯設備完備，住的質感想當好。\\r\\n早餐有...\n",
       "6        訂房留言回答快速，房間乾淨，早餐豐富。\\n位置較偏僻，但地下平面停車位多。有開車算方便。\n",
       "7                                   CP值高 ,但地點要交通工具或接駁\n",
       "8       優：飯店人員服務非常用心及貼心，是個難忘的住宿經驗。\\n缺：如能再增加自助洗衣設備會更棒！\n",
       "9   飯店周遭飲食不便,且因未在捷運旁造成展覽結束後回飯店困難重重,南港展覽館在尖峰時刻很難叫到計...\n",
       "10  櫃台服務人員有禮貌\\n房間乾淨冷氣很夠, 浴室的熱水強度好也穩定\\n因是出差目的, 對飯店要...\n",
       "11  以比較嚴格的標準來看的話，隔音比較差一點，早餐還ok不到驚艷，我們半夜才洗澡熱水沒有很熱，但...\n",
       "12                       很不錯的旅店...早餐菜色可以再多一些變化...會更好!\n",
       "13                                 很棒的飯店\\n下次有來還會來住喔\\n\n",
       "14                                 很棒的飯店\\n下次有來還會來住喔\\n\n",
       "15  地下停車場是我去過的飯店最寬敞最好停也最方便的飯店，我好幾次再回來都是因為這個停車場的緣故，...\n",
       "16  優點 : 櫃台親切有禮,大廰環境整潔\\n缺點: \\n1.櫃台小姐說要幫我由高級客房升等豪華房...\n",
       "17  當天是初四.自行開車,我家的噗噗君大概有1米9.飯店的停車場在地下室,很好停.不是機械式的....\n",
       "18  1. 沒迎賓水果( 以前都有的)\\n2. 床上枕頭只有一只( 以前都兩只), 落枕後發現一只...\n",
       "19  這趟旅行是家族之旅，有3歲的小孩同行，房務安排了壁貼與玩具都齊全的孩童房，這點蠻驚喜的，小朋..."
      ]
     },
     "execution_count": 27,
     "metadata": {},
     "output_type": "execute_result"
    }
   ],
   "source": [
    "dataframe= pd.DataFrame(comment,columns=[\"comment\"])\n",
    "dataframe[\"score\"]=score\n",
    "dataframe.to_csv('v2.csv')"
   ]
  },
  {
   "cell_type": "code",
   "execution_count": 28,
   "metadata": {},
   "outputs": [],
   "source": [
    "dataframe.to_csv('v1.csv')"
   ]
  },
  {
   "cell_type": "code",
   "execution_count": 208,
   "metadata": {},
   "outputs": [],
   "source": [
    "f= pd.read_csv('v2.csv')\n",
    "empt=[]\n",
    "for i in range(len(f)):\n",
    "    empt.append(\"\")\n",
    "f[\"level\"]=empt"
   ]
  },
  {
   "cell_type": "code",
   "execution_count": 209,
   "metadata": {},
   "outputs": [],
   "source": [
    "f3= pd.read_csv('v3_2.csv')\n",
    "empt=[]\n",
    "for i in range(len(f3)):\n",
    "    empt.append(\"\")\n",
    "f3[\"level\"]=empt"
   ]
  },
  {
   "cell_type": "code",
   "execution_count": 210,
   "metadata": {},
   "outputs": [
    {
     "data": {
      "text/html": [
       "<div>\n",
       "<style scoped>\n",
       "    .dataframe tbody tr th:only-of-type {\n",
       "        vertical-align: middle;\n",
       "    }\n",
       "\n",
       "    .dataframe tbody tr th {\n",
       "        vertical-align: top;\n",
       "    }\n",
       "\n",
       "    .dataframe thead th {\n",
       "        text-align: right;\n",
       "    }\n",
       "</style>\n",
       "<table border=\"1\" class=\"dataframe\">\n",
       "  <thead>\n",
       "    <tr style=\"text-align: right;\">\n",
       "      <th></th>\n",
       "      <th>Unnamed: 0</th>\n",
       "      <th>comment</th>\n",
       "      <th>score</th>\n",
       "      <th>level</th>\n",
       "    </tr>\n",
       "  </thead>\n",
       "  <tbody>\n",
       "    <tr>\n",
       "      <th>0</th>\n",
       "      <td>0</td>\n",
       "      <td>外籍員工的笑容與態度，明顯優於台籍員工。以晶華的收費與台灣飯店服務龍頭的水準，員工教育訓練明...</td>\n",
       "      <td>6.8</td>\n",
       "      <td></td>\n",
       "    </tr>\n",
       "    <tr>\n",
       "      <th>1</th>\n",
       "      <td>1</td>\n",
       "      <td>對待有嬰兒的旅客非常nice!!!</td>\n",
       "      <td>9.6</td>\n",
       "      <td></td>\n",
       "    </tr>\n",
       "    <tr>\n",
       "      <th>2</th>\n",
       "      <td>2</td>\n",
       "      <td>Pleasure stay</td>\n",
       "      <td>10.0</td>\n",
       "      <td></td>\n",
       "    </tr>\n",
       "    <tr>\n",
       "      <th>3</th>\n",
       "      <td>3</td>\n",
       "      <td>內有少數飯店設施有的三溫暖，裡頭潔淨度也很夠，值得再次住宿</td>\n",
       "      <td>10.0</td>\n",
       "      <td></td>\n",
       "    </tr>\n",
       "    <tr>\n",
       "      <th>4</th>\n",
       "      <td>4</td>\n",
       "      <td>房間寬敞設備新穎典雅, 有免費Lounge, 服務極佳早餐好吃, 元宵節還提供免費畫燈籠與吃...</td>\n",
       "      <td>9.6</td>\n",
       "      <td></td>\n",
       "    </tr>\n",
       "    <tr>\n",
       "      <th>...</th>\n",
       "      <td>...</td>\n",
       "      <td>...</td>\n",
       "      <td>...</td>\n",
       "      <td>...</td>\n",
       "    </tr>\n",
       "    <tr>\n",
       "      <th>941</th>\n",
       "      <td>941</td>\n",
       "      <td>非常好，服務周到</td>\n",
       "      <td>9.6</td>\n",
       "      <td></td>\n",
       "    </tr>\n",
       "    <tr>\n",
       "      <th>942</th>\n",
       "      <td>942</td>\n",
       "      <td>香格里拉的服務質素 不用多說了吧</td>\n",
       "      <td>10.0</td>\n",
       "      <td></td>\n",
       "    </tr>\n",
       "    <tr>\n",
       "      <th>943</th>\n",
       "      <td>943</td>\n",
       "      <td>連續住了5天，早餐天天一樣，沒有更新。</td>\n",
       "      <td>6.8</td>\n",
       "      <td></td>\n",
       "    </tr>\n",
       "    <tr>\n",
       "      <th>944</th>\n",
       "      <td>944</td>\n",
       "      <td>名符其實的高級酒店, 雖然不近捷運站, 但在台灣打計程車是常識吧?? 在12月31晚入住,房...</td>\n",
       "      <td>2.0</td>\n",
       "      <td></td>\n",
       "    </tr>\n",
       "    <tr>\n",
       "      <th>945</th>\n",
       "      <td>945</td>\n",
       "      <td>絕對有五星級酒店的風範！偶爾試一下也無防</td>\n",
       "      <td>9.2</td>\n",
       "      <td></td>\n",
       "    </tr>\n",
       "  </tbody>\n",
       "</table>\n",
       "<p>946 rows × 4 columns</p>\n",
       "</div>"
      ],
      "text/plain": [
       "     Unnamed: 0                                            comment  score  \\\n",
       "0             0  外籍員工的笑容與態度，明顯優於台籍員工。以晶華的收費與台灣飯店服務龍頭的水準，員工教育訓練明...    6.8   \n",
       "1             1                                  對待有嬰兒的旅客非常nice!!!    9.6   \n",
       "2             2                                      Pleasure stay   10.0   \n",
       "3             3                      內有少數飯店設施有的三溫暖，裡頭潔淨度也很夠，值得再次住宿   10.0   \n",
       "4             4  房間寬敞設備新穎典雅, 有免費Lounge, 服務極佳早餐好吃, 元宵節還提供免費畫燈籠與吃...    9.6   \n",
       "..          ...                                                ...    ...   \n",
       "941         941                                           非常好，服務周到    9.6   \n",
       "942         942                                   香格里拉的服務質素 不用多說了吧   10.0   \n",
       "943         943                                連續住了5天，早餐天天一樣，沒有更新。    6.8   \n",
       "944         944  名符其實的高級酒店, 雖然不近捷運站, 但在台灣打計程車是常識吧?? 在12月31晚入住,房...    2.0   \n",
       "945         945                               絕對有五星級酒店的風範！偶爾試一下也無防    9.2   \n",
       "\n",
       "    level  \n",
       "0          \n",
       "1          \n",
       "2          \n",
       "3          \n",
       "4          \n",
       "..    ...  \n",
       "941        \n",
       "942        \n",
       "943        \n",
       "944        \n",
       "945        \n",
       "\n",
       "[946 rows x 4 columns]"
      ]
     },
     "execution_count": 210,
     "metadata": {},
     "output_type": "execute_result"
    }
   ],
   "source": [
    "f"
   ]
  },
  {
   "cell_type": "code",
   "execution_count": 211,
   "metadata": {},
   "outputs": [],
   "source": [
    "for i in range(len(f)):\n",
    "    if f.score.values[i]>=9:\n",
    "        f.level.values[i]=\"0\"\n",
    "    elif f.score.values[i]>7:\n",
    "        f.level.values[i]=\"1\"\n",
    "    else:\n",
    "        f.level.values[i]=\"2\""
   ]
  },
  {
   "cell_type": "code",
   "execution_count": 212,
   "metadata": {},
   "outputs": [],
   "source": [
    "for i in range(len(f3)):\n",
    "    if f3.score.values[i]>=9:\n",
    "        f3.level.values[i]=\"0\"\n",
    "    elif f3.score.values[i]>7:\n",
    "        f3.level.values[i]=\"1\"\n",
    "    else:\n",
    "        f3.level.values[i]=\"2\""
   ]
  },
  {
   "cell_type": "code",
   "execution_count": 213,
   "metadata": {},
   "outputs": [],
   "source": [
    "f=f.append(f3)\n"
   ]
  },
  {
   "cell_type": "code",
   "execution_count": 214,
   "metadata": {},
   "outputs": [],
   "source": [
    "fd1= pd.DataFrame(f[\"comment\"],columns=[\"comment\"])"
   ]
  },
  {
   "cell_type": "code",
   "execution_count": 215,
   "metadata": {},
   "outputs": [],
   "source": [
    "fd1[\"level\"]=f[\"level\"]"
   ]
  },
  {
   "cell_type": "code",
   "execution_count": 216,
   "metadata": {},
   "outputs": [],
   "source": [
    "fd1= pd.DataFrame(f[\"comment\"],columns=[\"comment\"])\n",
    "fd1[\"level\"]=f[\"level\"]"
   ]
  },
  {
   "cell_type": "code",
   "execution_count": 217,
   "metadata": {},
   "outputs": [
    {
     "data": {
      "text/html": [
       "<div>\n",
       "<style scoped>\n",
       "    .dataframe tbody tr th:only-of-type {\n",
       "        vertical-align: middle;\n",
       "    }\n",
       "\n",
       "    .dataframe tbody tr th {\n",
       "        vertical-align: top;\n",
       "    }\n",
       "\n",
       "    .dataframe thead th {\n",
       "        text-align: right;\n",
       "    }\n",
       "</style>\n",
       "<table border=\"1\" class=\"dataframe\">\n",
       "  <thead>\n",
       "    <tr style=\"text-align: right;\">\n",
       "      <th></th>\n",
       "      <th>comment</th>\n",
       "      <th>level</th>\n",
       "    </tr>\n",
       "  </thead>\n",
       "  <tbody>\n",
       "    <tr>\n",
       "      <th>0</th>\n",
       "      <td>外籍員工的笑容與態度，明顯優於台籍員工。以晶華的收費與台灣飯店服務龍頭的水準，員工教育訓練明...</td>\n",
       "      <td>2</td>\n",
       "    </tr>\n",
       "    <tr>\n",
       "      <th>1</th>\n",
       "      <td>對待有嬰兒的旅客非常nice!!!</td>\n",
       "      <td>0</td>\n",
       "    </tr>\n",
       "    <tr>\n",
       "      <th>2</th>\n",
       "      <td>Pleasure stay</td>\n",
       "      <td>0</td>\n",
       "    </tr>\n",
       "    <tr>\n",
       "      <th>3</th>\n",
       "      <td>內有少數飯店設施有的三溫暖，裡頭潔淨度也很夠，值得再次住宿</td>\n",
       "      <td>0</td>\n",
       "    </tr>\n",
       "    <tr>\n",
       "      <th>4</th>\n",
       "      <td>房間寬敞設備新穎典雅, 有免費Lounge, 服務極佳早餐好吃, 元宵節還提供免費畫燈籠與吃...</td>\n",
       "      <td>0</td>\n",
       "    </tr>\n",
       "    <tr>\n",
       "      <th>...</th>\n",
       "      <td>...</td>\n",
       "      <td>...</td>\n",
       "    </tr>\n",
       "    <tr>\n",
       "      <th>896</th>\n",
       "      <td>1.性價比頗高，價格很優惠。2.停車場為單一出入口，需要搭車梯，等候時容易跟旁邊新時代購物中...</td>\n",
       "      <td>1</td>\n",
       "    </tr>\n",
       "    <tr>\n",
       "      <th>897</th>\n",
       "      <td>在購物中心旁邊，交通極方便</td>\n",
       "      <td>1</td>\n",
       "    </tr>\n",
       "    <tr>\n",
       "      <th>898</th>\n",
       "      <td>位置非常好，離新時代購務中心門口只有幾步路，過個馬路也就到後車站地下道了，就算是下雨天也不太...</td>\n",
       "      <td>1</td>\n",
       "    </tr>\n",
       "    <tr>\n",
       "      <th>899</th>\n",
       "      <td>飯店位於台中火車站後站步行不到5分鐘的位置，且附有停車位,需要在車梯前，等候專人引導停車,停...</td>\n",
       "      <td>1</td>\n",
       "    </tr>\n",
       "    <tr>\n",
       "      <th>900</th>\n",
       "      <td>入住時間: 10/21(日)~10/22(一)(共1晚)\\n房型: 標準房(兩床) (共1間...</td>\n",
       "      <td>1</td>\n",
       "    </tr>\n",
       "  </tbody>\n",
       "</table>\n",
       "<p>1847 rows × 2 columns</p>\n",
       "</div>"
      ],
      "text/plain": [
       "                                               comment level\n",
       "0    外籍員工的笑容與態度，明顯優於台籍員工。以晶華的收費與台灣飯店服務龍頭的水準，員工教育訓練明...     2\n",
       "1                                    對待有嬰兒的旅客非常nice!!!     0\n",
       "2                                        Pleasure stay     0\n",
       "3                        內有少數飯店設施有的三溫暖，裡頭潔淨度也很夠，值得再次住宿     0\n",
       "4    房間寬敞設備新穎典雅, 有免費Lounge, 服務極佳早餐好吃, 元宵節還提供免費畫燈籠與吃...     0\n",
       "..                                                 ...   ...\n",
       "896  1.性價比頗高，價格很優惠。2.停車場為單一出入口，需要搭車梯，等候時容易跟旁邊新時代購物中...     1\n",
       "897                                      在購物中心旁邊，交通極方便     1\n",
       "898  位置非常好，離新時代購務中心門口只有幾步路，過個馬路也就到後車站地下道了，就算是下雨天也不太...     1\n",
       "899  飯店位於台中火車站後站步行不到5分鐘的位置，且附有停車位,需要在車梯前，等候專人引導停車,停...     1\n",
       "900  入住時間: 10/21(日)~10/22(一)(共1晚)\\n房型: 標準房(兩床) (共1間...     1\n",
       "\n",
       "[1847 rows x 2 columns]"
      ]
     },
     "execution_count": 217,
     "metadata": {},
     "output_type": "execute_result"
    }
   ],
   "source": [
    "fd1"
   ]
  },
  {
   "cell_type": "code",
   "execution_count": 262,
   "metadata": {},
   "outputs": [],
   "source": [
    "train_data={\"comment\":fd1[:700]['comment'],'level':fd1[:700]['level']}\n",
    "test_data={\"comment\":fd1[700:]['comment'],'level':fd1[700:]['level']}"
   ]
  },
  {
   "cell_type": "code",
   "execution_count": 263,
   "metadata": {},
   "outputs": [
    {
     "name": "stdout",
     "output_type": "stream",
     "text": [
      "train data shape using CountVectorizer\n",
      "(700, 4389)\n",
      "test data shape using CountVectorizer\n",
      "(1147, 4389)\n"
     ]
    }
   ],
   "source": [
    "count_vect=CountVectorizer(max_features=None)\n",
    "X_train_counts = count_vect.fit_transform(train_data[\"comment\"].values.astype('U'))\n",
    "\n",
    "    \n",
    "print(\"train data shape using CountVectorizer\")\n",
    "print(X_train_counts.shape)\n",
    "\n",
    "X_test_counts=count_vect.transform(test_data[\"comment\"].values.astype('U'))\n",
    "print(\"test data shape using CountVectorizer\")\n",
    "print(X_test_counts.shape)\n"
   ]
  },
  {
   "cell_type": "code",
   "execution_count": 264,
   "metadata": {},
   "outputs": [
    {
     "name": "stdout",
     "output_type": "stream",
     "text": [
      "**************************************************\n",
      "MultinomialNB classifier with CountVectorizer\n",
      "MultinomialNB(alpha=1.0, class_prior=None, fit_prior=True)\n"
     ]
    },
    {
     "data": {
      "text/plain": [
       "MultinomialNB(alpha=1.0, class_prior=None, fit_prior=True)"
      ]
     },
     "execution_count": 264,
     "metadata": {},
     "output_type": "execute_result"
    }
   ],
   "source": [
    "MultinomialNB_clf=MultinomialNB()\n",
    "print(\"*\"*50)\n",
    "print(\"MultinomialNB classifier with CountVectorizer\")\n",
    "print(MultinomialNB_clf)\n",
    "MultinomialNB_clf.fit(X_train_counts, train_data[\"level\"])"
   ]
  },
  {
   "cell_type": "code",
   "execution_count": 265,
   "metadata": {},
   "outputs": [],
   "source": [
    "def show_result(predicted,predicted_proba,target):\n",
    "    print(\"confusion matrix:\")\n",
    "    print(confusion_matrix(predicted, target))\n",
    "    \n",
    "    print('accuracy:')\n",
    "    print(accuracy_score(predicted,target))"
   ]
  },
  {
   "cell_type": "code",
   "execution_count": null,
   "metadata": {},
   "outputs": [],
   "source": []
  },
  {
   "cell_type": "code",
   "execution_count": 266,
   "metadata": {},
   "outputs": [
    {
     "name": "stdout",
     "output_type": "stream",
     "text": [
      "evaluation on train data\n",
      "confusion matrix:\n",
      "[[370  14  12]\n",
      " [  1 242   2]\n",
      " [  0   0  59]]\n",
      "accuracy:\n",
      "0.9585714285714285\n",
      "----------------------------------------------------------------------------------------------------\n",
      "evaluation on test data\n",
      "confusion matrix:\n",
      "[[496 391 134]\n",
      " [ 48  62  16]\n",
      " [  0   0   0]]\n",
      "accuracy:\n",
      "0.4864864864864865\n"
     ]
    }
   ],
   "source": [
    "print('evaluation on train data')\n",
    "predicted=MultinomialNB_clf.predict(X_train_counts)\n",
    "#print(predicted)\n",
    "predicted_proba=MultinomialNB_clf.predict_proba(X_train_counts)\n",
    "show_result(predicted,predicted_proba,train_data['level'])\n",
    "\n",
    "print(\"-\"*100)\n",
    "print('evaluation on test data')\n",
    "\n",
    "predicted=MultinomialNB_clf.predict(X_test_counts)\n",
    "#print(predicted)\n",
    "#ans[\"class\"]=predicted\n",
    "predicted_proba=MultinomialNB_clf.predict_proba(X_test_counts)\n",
    "\n",
    "show_result(predicted,predicted_proba,test_data[\"level\"])"
   ]
  },
  {
   "cell_type": "code",
   "execution_count": null,
   "metadata": {},
   "outputs": [],
   "source": []
  },
  {
   "cell_type": "code",
   "execution_count": null,
   "metadata": {},
   "outputs": [],
   "source": []
  }
 ],
 "metadata": {
  "kernelspec": {
   "display_name": "Python 3",
   "language": "python",
   "name": "python3"
  },
  "language_info": {
   "codemirror_mode": {
    "name": "ipython",
    "version": 3
   },
   "file_extension": ".py",
   "mimetype": "text/x-python",
   "name": "python",
   "nbconvert_exporter": "python",
   "pygments_lexer": "ipython3",
   "version": "3.7.1"
  }
 },
 "nbformat": 4,
 "nbformat_minor": 2
}
